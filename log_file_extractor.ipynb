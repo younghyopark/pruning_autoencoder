{
 "cells": [
  {
   "cell_type": "code",
   "execution_count": 95,
   "source": [
    "import os\n",
    "import numpy as np\n",
    "import csv"
   ],
   "outputs": [],
   "metadata": {}
  },
  {
   "cell_type": "code",
   "execution_count": 96,
   "source": [
    "f = open('experiment_result.csv','w', newline='')\n",
    "wr = csv.writer(f)\n",
    "wr.writerow(['leave', 'tech', 'layer', 'remaining_sparsity', 'remaining_connection', 'pre_trained_auroc', 'pre_trained_ind', 'pre_trained_ood', 'before_auroc', 'before_ind', 'before_ood', 'after_auroc', 'after_ind', 'after_ood'])"
   ],
   "outputs": [
    {
     "output_type": "execute_result",
     "data": {
      "text/plain": [
       "175"
      ]
     },
     "metadata": {},
     "execution_count": 96
    }
   ],
   "metadata": {}
  },
  {
   "cell_type": "code",
   "execution_count": 97,
   "source": [
    "for exp in os.listdir('logs'):\n",
    "    x = open(os.path.join('logs',exp,'logfile.log')).readlines()\n",
    "    dictionary = []\n",
    "    done = False\n",
    "    for line in x:\n",
    "        if 'Currently running' in line:\n",
    "            done= False\n",
    "            leave = int(line[24])\n",
    "            tech = int(line[31])\n",
    "            layer = line[33:-14]\n",
    "        if 'Starting the process with' in line:\n",
    "            if len(line) == 67:\n",
    "                remaining_sparsity = float(line[45:48])\n",
    "            else:\n",
    "                remaining_sparsity = 0\n",
    "            remaining_connection = int(line[-3])\n",
    "        if 'Pretrained model has AUROC' in line:\n",
    "            pre_trained_auroc, pre_trained_ind, pre_trained_ood = list(map(float,line[41:-1].split('/')))\n",
    "        if '(before finetuning)' in line:\n",
    "            before_auroc, before_ind, before_ood = list(map(float,line[57:-1].split('/')))\n",
    "        if '(after finetuning)' in line:\n",
    "            after_auroc, after_ind, after_ood = list(map(float,line[56:-1].split('/')))\n",
    "            wr.writerow([leave, tech, layer, remaining_sparsity, remaining_connection, pre_trained_auroc, pre_trained_ind, pre_trained_ood, before_auroc, before_ind, before_ood, after_auroc, after_ind, after_ood])\n"
   ],
   "outputs": [],
   "metadata": {}
  },
  {
   "cell_type": "code",
   "execution_count": 98,
   "source": [
    "dictionary"
   ],
   "outputs": [
    {
     "output_type": "execute_result",
     "data": {
      "text/plain": [
       "[]"
      ]
     },
     "metadata": {},
     "execution_count": 98
    }
   ],
   "metadata": {}
  },
  {
   "cell_type": "code",
   "execution_count": 69,
   "source": [
    "this_line = 'Starting the process with remaining sparsity 0.3 and connection 6!\\n'"
   ],
   "outputs": [],
   "metadata": {}
  },
  {
   "cell_type": "code",
   "execution_count": 74,
   "source": [
    "this_line[-3]"
   ],
   "outputs": [
    {
     "output_type": "execute_result",
     "data": {
      "text/plain": [
       "'6'"
      ]
     },
     "metadata": {},
     "execution_count": 74
    }
   ],
   "metadata": {}
  },
  {
   "cell_type": "code",
   "execution_count": 37,
   "source": [
    "list(map(float,this_line[56:-1].split('/')))"
   ],
   "outputs": [
    {
     "output_type": "execute_result",
     "data": {
      "text/plain": [
       "[0.9377317978189059, 5.7494916915893555, 8.346506118774414]"
      ]
     },
     "metadata": {},
     "execution_count": 37
    }
   ],
   "metadata": {}
  },
  {
   "cell_type": "code",
   "execution_count": null,
   "source": [],
   "outputs": [],
   "metadata": {}
  }
 ],
 "metadata": {
  "orig_nbformat": 4,
  "language_info": {
   "name": "python",
   "version": "3.7.10",
   "mimetype": "text/x-python",
   "codemirror_mode": {
    "name": "ipython",
    "version": 3
   },
   "pygments_lexer": "ipython3",
   "nbconvert_exporter": "python",
   "file_extension": ".py"
  },
  "kernelspec": {
   "name": "python3",
   "display_name": "Python 3.7.10 64-bit ('yhpark': conda)"
  },
  "interpreter": {
   "hash": "1eae98e8f6204cb4db9f9f64888f3463f2ced8578e5a95a6c73b35d90ef031f1"
  }
 },
 "nbformat": 4,
 "nbformat_minor": 2
}