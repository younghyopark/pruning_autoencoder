{
 "cells": [
  {
   "cell_type": "code",
   "execution_count": 4,
   "source": [
    "import os\n",
    "import numpy as np\n",
    "import csv"
   ],
   "outputs": [],
   "metadata": {}
  },
  {
   "cell_type": "code",
   "execution_count": 5,
   "source": [
    "f = open('experiment_result.csv','w', newline='')\n",
    "wr = csv.writer(f)\n",
    "wr.writerow(['leave', 'tech', 'layer', 'remaining_connection', 'pre_trained_auroc', 'pre_trained_ind', 'pre_trained_ood', 'before_auroc', 'before_ind', 'before_ood', 'after_auroc', 'after_ind', 'after_ood','auroc_improvement','ind_increase'])"
   ],
   "outputs": [
    {
     "output_type": "execute_result",
     "data": {
      "text/plain": [
       "187"
      ]
     },
     "metadata": {},
     "execution_count": 5
    }
   ],
   "metadata": {}
  },
  {
   "cell_type": "code",
   "execution_count": 6,
   "source": [
    "for exp in os.listdir('new_logs'):\n",
    "    x = open(os.path.join('new_logs',exp,'logfile.log')).readlines()\n",
    "    dictionary = []\n",
    "    done = False\n",
    "    for line in x:\n",
    "        if 'Currently running' in line:\n",
    "            done= False\n",
    "            leave = int(line[24])\n",
    "            layer = line[27:-14]\n",
    "        if 'Starting the process with' in line:\n",
    "            remaining_connection = int(line[47:49])\n",
    "            tech = int(line[-3])\n",
    "        if 'Pretrained model has AUROC' in line:\n",
    "            pre_trained_auroc, pre_trained_ind, pre_trained_ood = list(map(float,line[41:-1].split('/')))\n",
    "        if '(before finetuning)' in line:\n",
    "            before_auroc, before_ind, before_ood = list(map(float,line[57:-1].split('/')))\n",
    "        if '(after finetuning)' in line:\n",
    "            after_auroc, after_ind, after_ood = list(map(float,line[56:-1].split('/')))\n",
    "            wr.writerow([leave, tech, layer, remaining_connection, pre_trained_auroc, pre_trained_ind, pre_trained_ood, before_auroc, before_ind, before_ood, after_auroc, after_ind, after_ood, after_auroc / pre_trained_auroc, after_ind / pre_trained_ind])\n"
   ],
   "outputs": [],
   "metadata": {}
  },
  {
   "cell_type": "code",
   "execution_count": 98,
   "source": [
    "dictionary"
   ],
   "outputs": [
    {
     "output_type": "execute_result",
     "data": {
      "text/plain": [
       "[]"
      ]
     },
     "metadata": {},
     "execution_count": 98
    }
   ],
   "metadata": {}
  },
  {
   "cell_type": "code",
   "execution_count": 16,
   "source": [
    "this_line = 'Currently running leave_0_decoder_fc3 experiment.\\n'"
   ],
   "outputs": [],
   "metadata": {}
  },
  {
   "cell_type": "code",
   "execution_count": 23,
   "source": [
    "this_line[24]"
   ],
   "outputs": [
    {
     "output_type": "execute_result",
     "data": {
      "text/plain": [
       "'0'"
      ]
     },
     "metadata": {},
     "execution_count": 23
    }
   ],
   "metadata": {}
  },
  {
   "cell_type": "code",
   "execution_count": 37,
   "source": [
    "list(map(float,this_line[56:-1].split('/')))"
   ],
   "outputs": [
    {
     "output_type": "execute_result",
     "data": {
      "text/plain": [
       "[0.9377317978189059, 5.7494916915893555, 8.346506118774414]"
      ]
     },
     "metadata": {},
     "execution_count": 37
    }
   ],
   "metadata": {}
  },
  {
   "cell_type": "code",
   "execution_count": null,
   "source": [],
   "outputs": [],
   "metadata": {}
  }
 ],
 "metadata": {
  "orig_nbformat": 4,
  "language_info": {
   "name": "python",
   "version": "3.7.10",
   "mimetype": "text/x-python",
   "codemirror_mode": {
    "name": "ipython",
    "version": 3
   },
   "pygments_lexer": "ipython3",
   "nbconvert_exporter": "python",
   "file_extension": ".py"
  },
  "kernelspec": {
   "name": "python3",
   "display_name": "Python 3.7.10 64-bit ('yhpark': conda)"
  },
  "interpreter": {
   "hash": "1eae98e8f6204cb4db9f9f64888f3463f2ced8578e5a95a6c73b35d90ef031f1"
  }
 },
 "nbformat": 4,
 "nbformat_minor": 2
}