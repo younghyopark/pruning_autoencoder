{
 "cells": [
  {
   "cell_type": "code",
   "execution_count": 1,
   "id": "unable-boost",
   "metadata": {},
   "outputs": [],
   "source": [
    "import torch\n",
    "from torch import nn\n",
    "import torch.nn.utils.prune as prune\n",
    "import torch.nn.functional as F\n",
    "import os\n",
    "import torchvision\n",
    "import sklearn.metrics as metrics\n",
    "import numpy as np\n",
    "import seaborn as sns\n",
    "from tqdm import tqdm\n",
    "import matplotlib.pyplot as plt"
   ]
  },
  {
   "cell_type": "code",
   "execution_count": 2,
   "id": "english-thousand",
   "metadata": {},
   "outputs": [],
   "source": [
    "torch.cuda.set_device(0)"
   ]
  },
  {
   "cell_type": "code",
   "execution_count": 3,
   "id": "destroyed-austin",
   "metadata": {},
   "outputs": [],
   "source": [
    "class opt:\n",
    "    layer_num=784\n",
    "    h_dim1=512\n",
    "    h_dim2=256\n",
    "    h_dim3=128\n",
    "    h_dim4=64\n",
    "    h_dim5=0\n",
    "    h_dim6=0\n",
    "    one_class=0\n",
    "    lr=0.001\n",
    "    finetune_epoch=10"
   ]
  },
  {
   "cell_type": "code",
   "execution_count": 4,
   "id": "covered-starter",
   "metadata": {},
   "outputs": [],
   "source": [
    "def count_parameters(model):\n",
    "    return sum(p.numel() for p in model.parameters() if p.requires_grad)"
   ]
  },
  {
   "cell_type": "code",
   "execution_count": 5,
   "id": "wrapped-karma",
   "metadata": {},
   "outputs": [],
   "source": [
    "class AE(nn.Module):\n",
    "    def __init__(self, x_dim, h_dim1, h_dim2, h_dim3,h_dim4,h_dim5,h_dim6):\n",
    "        super(AE, self).__init__()\n",
    "        self.x_dim = x_dim\n",
    "        # encoder part\n",
    "        self.encoder = Encoder(x_dim, h_dim1, h_dim2,  h_dim3,h_dim4,h_dim5, h_dim6)\n",
    "        # decoder part\n",
    "        self.decoder = Generator(x_dim, h_dim1, h_dim2, h_dim3,h_dim4,h_dim5,h_dim6)\n",
    "    \n",
    "    def recon_error(self, x):\n",
    "        z = self.encoder(x)\n",
    "        x_recon = self.decoder(z)\n",
    "        return torch.norm((x_recon - x), dim=1)\n",
    "    \n",
    "    def forward(self, x):\n",
    "        z = self.encoder(x)\n",
    "        return self.decoder(z)\n",
    "    \n",
    "    def representation(self,x):\n",
    "        z = self.encoder(x)\n",
    "        return z\n",
    "        \n",
    "class Encoder(nn.Module):\n",
    "    def __init__(self, x_dim, h_dim1, h_dim2,h_dim3,h_dim4,h_dim5,h_dim6):\n",
    "        super(Encoder, self).__init__()\n",
    "        self.fc1 = nn.Linear(x_dim, h_dim1)\n",
    "        self.fc2 = nn.Linear(h_dim1, h_dim2)\n",
    "        self.fc3 = nn.Linear(h_dim2, h_dim3)\n",
    "        if h_dim4>0:\n",
    "            self.fc4 = nn.Linear(h_dim3,h_dim4)\n",
    "        if h_dim5 >0:\n",
    "            self.fc5 = nn.Linear(h_dim4,h_dim5)\n",
    "        if h_dim6 >0:\n",
    "            self.fc6 = nn.Linear(h_dim5,h_dim6)\n",
    "    \n",
    "    def forward(self, x):\n",
    "        h = F.relu(self.fc1(x))\n",
    "        h = F.relu(self.fc2(h))\n",
    "        if opt.h_dim6 >0:\n",
    "            h = F.relu(self.fc3(h))\n",
    "            h = F.relu(self.fc4(h))\n",
    "            h = F.relu(self.fc5(h))\n",
    "            h = self.fc6(h)\n",
    "        elif opt.h_dim5 >0:\n",
    "            h = F.relu(self.fc3(h))\n",
    "            h = F.relu(self.fc4(h))\n",
    "            h = self.fc5(h)\n",
    "        elif opt.h_dim4 >0:\n",
    "            h = F.relu(self.fc3(h))\n",
    "            h = self.fc4(h)\n",
    "        else:\n",
    "            h = self.fc3(h)\n",
    "        return h\n",
    "    \n",
    "    \n",
    "class Generator(nn.Module):\n",
    "    def __init__(self, x_dim, h_dim1, h_dim2,h_dim3,h_dim4,h_dim5, h_dim6):\n",
    "        super(Generator, self).__init__()\n",
    "        if h_dim6 >0:\n",
    "            self.fc6 = nn.Linear(h_dim6,h_dim5)\n",
    "        if h_dim5 >0:\n",
    "            self.fc5 = nn.Linear(h_dim5,h_dim4)\n",
    "        if h_dim4 >0:\n",
    "            self.fc4 = nn.Linear(h_dim4,h_dim3)\n",
    "        self.fc3 = nn.Linear(h_dim3, h_dim2)\n",
    "        self.fc2 = nn.Linear(h_dim2, h_dim1)\n",
    "        self.fc1 = nn.Linear(h_dim1, x_dim)\n",
    "    \n",
    "    def forward(self, z):\n",
    "        if opt.h_dim6 >0:\n",
    "            h = F.relu(self.fc6(z))\n",
    "            h = F.relu(self.fc5(h))\n",
    "            h = F.relu(self.fc4(h))\n",
    "            h = F.relu(self.fc3(h))\n",
    "        elif opt.h_dim5 >0:\n",
    "            h = F.relu(self.fc5(z))\n",
    "            h = F.relu(self.fc4(h))\n",
    "            h = F.relu(self.fc3(h))\n",
    "        elif opt.h_dim4>0:\n",
    "            h = F.relu(self.fc4(z))\n",
    "            h = F.relu(self.fc3(h))\n",
    "        else:\n",
    "            h = F.relu(self.fc3(z))\n",
    "\n",
    "        h = F.relu(self.fc2(h))\n",
    "        return self.fc1(h)\n",
    "\n",
    "model = AE(opt.layer_num, opt.h_dim1, opt.h_dim2, opt.h_dim3,opt.h_dim4,opt.h_dim5,opt.h_dim6)"
   ]
  },
  {
   "cell_type": "code",
   "execution_count": 6,
   "id": "published-petroleum",
   "metadata": {},
   "outputs": [],
   "source": [
    "model_name = 'MNIST_{}_{}_{}_{}_{}_{}'.format(opt.h_dim1, opt.h_dim2, opt.h_dim3, opt.h_dim4, opt.h_dim5, opt.h_dim6)\n",
    "model_path = model_name+'_holdout_{}_epoch_100.pth'.format(opt.one_class)"
   ]
  },
  {
   "cell_type": "code",
   "execution_count": 7,
   "id": "square-activity",
   "metadata": {},
   "outputs": [
    {
     "data": {
      "text/plain": [
       "<All keys matched successfully>"
      ]
     },
     "execution_count": 7,
     "metadata": {},
     "output_type": "execute_result"
    }
   ],
   "source": [
    "model.load_state_dict(torch.load(os.path.join('trained_model',model_path),map_location=torch.device('cpu')))"
   ]
  },
  {
   "cell_type": "code",
   "execution_count": 8,
   "id": "sixth-asthma",
   "metadata": {},
   "outputs": [
    {
     "data": {
      "text/plain": [
       "AE(\n",
       "  (encoder): Encoder(\n",
       "    (fc1): Linear(in_features=784, out_features=512, bias=True)\n",
       "    (fc2): Linear(in_features=512, out_features=256, bias=True)\n",
       "    (fc3): Linear(in_features=256, out_features=128, bias=True)\n",
       "    (fc4): Linear(in_features=128, out_features=64, bias=True)\n",
       "  )\n",
       "  (decoder): Generator(\n",
       "    (fc4): Linear(in_features=64, out_features=128, bias=True)\n",
       "    (fc3): Linear(in_features=128, out_features=256, bias=True)\n",
       "    (fc2): Linear(in_features=256, out_features=512, bias=True)\n",
       "    (fc1): Linear(in_features=512, out_features=784, bias=True)\n",
       "  )\n",
       ")"
      ]
     },
     "execution_count": 8,
     "metadata": {},
     "output_type": "execute_result"
    }
   ],
   "source": [
    "model"
   ]
  },
  {
   "cell_type": "code",
   "execution_count": 9,
   "id": "subtle-hammer",
   "metadata": {},
   "outputs": [],
   "source": [
    "mnist_transform = torchvision.transforms.Compose([\n",
    "    torchvision.transforms.ToTensor(), \n",
    "    torchvision.transforms.Normalize((0.5,), (1.0,))\n",
    "])\n",
    "\n",
    "ind_dataset = torchvision.datasets.MNIST('./MNIST_DATASET', transform=mnist_transform, train=False, download=True)\n",
    "train_dataset = torchvision.datasets.MNIST('./MNIST_DATASET', transform=mnist_transform, train=True, download=True)\n",
    "\n",
    "idx = train_dataset.targets!=opt.one_class\n",
    "train_dataset.targets = train_dataset.targets[idx]\n",
    "train_dataset.data = train_dataset.data[idx]\n",
    "\n",
    "train_loader = torch.utils.data.DataLoader(dataset=train_dataset, \n",
    "                         batch_size=64,\n",
    "                         shuffle=True)\n",
    "\n",
    "idx = ind_dataset.targets!=opt.one_class\n",
    "ind_dataset.targets = ind_dataset.targets[idx]\n",
    "ind_dataset.data = ind_dataset.data[idx]\n",
    "\n",
    "ind_loader = torch.utils.data.DataLoader(dataset=ind_dataset, \n",
    "                         batch_size=64,\n",
    "                         shuffle=False)"
   ]
  },
  {
   "cell_type": "code",
   "execution_count": 10,
   "id": "economic-table",
   "metadata": {},
   "outputs": [],
   "source": [
    "mnist_transform = torchvision.transforms.Compose([\n",
    "    torchvision.transforms.ToTensor(), \n",
    "    torchvision.transforms.Normalize((0.5,), (1.0,))\n",
    "])\n",
    "\n",
    "ood_dataset = torchvision.datasets.MNIST('./MNIST_DATASET', transform=mnist_transform, train=False, download=True)\n",
    "\n",
    "idx = ood_dataset.targets==opt.one_class\n",
    "ood_dataset.targets = ood_dataset.targets[idx]\n",
    "ood_dataset.data = ood_dataset.data[idx]\n",
    "\n",
    "ood_loader = torch.utils.data.DataLoader(dataset=ood_dataset, \n",
    "                         batch_size=64,\n",
    "                         shuffle=False)"
   ]
  },
  {
   "cell_type": "code",
   "execution_count": 11,
   "id": "mobile-september",
   "metadata": {},
   "outputs": [],
   "source": [
    "model.eval()\n",
    "model.cuda()\n",
    "avg_loss = 0\n",
    "step = 0\n",
    "for i, (data,label) in enumerate(ind_loader):\n",
    "    step += 1\n",
    "    data = data.reshape(-1,784).cuda()\n",
    "    with torch.no_grad():\n",
    "        recon_error = model.recon_error(data)\n",
    "        representation = model.representation(data)\n",
    "    if i==0:\n",
    "        ind_recon = recon_error\n",
    "        ind_latents = representation\n",
    "    else:\n",
    "        ind_recon=torch.cat((ind_recon,recon_error),0)\n",
    "        ind_latents=torch.cat((ind_latents,representation),0)"
   ]
  },
  {
   "cell_type": "code",
   "execution_count": 12,
   "id": "comfortable-criterion",
   "metadata": {},
   "outputs": [],
   "source": [
    "model.eval()\n",
    "avg_loss = 0\n",
    "step = 0\n",
    "for i, (data,label) in enumerate(ood_loader):\n",
    "    step += 1\n",
    "    data = data.reshape(-1,784).cuda()\n",
    "    with torch.no_grad():\n",
    "        recon_error = model.recon_error(data)\n",
    "        representation = model.representation(data)\n",
    "    if i==0:\n",
    "        ood_recon = recon_error\n",
    "        ood_latents = representation\n",
    "\n",
    "    else:\n",
    "        ood_recon=torch.cat((ood_recon,recon_error),0)\n",
    "        ood_latents=torch.cat((ood_latents,representation),0)"
   ]
  },
  {
   "cell_type": "code",
   "execution_count": 13,
   "id": "judicial-logistics",
   "metadata": {},
   "outputs": [
    {
     "data": {
      "text/plain": [
       "(torch.Size([9020, 64]), torch.Size([980, 64]))"
      ]
     },
     "execution_count": 13,
     "metadata": {},
     "output_type": "execute_result"
    }
   ],
   "source": [
    "ind_latents.shape, ood_latents.shape"
   ]
  },
  {
   "cell_type": "code",
   "execution_count": 14,
   "id": "military-escape",
   "metadata": {},
   "outputs": [],
   "source": [
    "# from sklearn.manifold import TSNE\n",
    "\n",
    "# TSNE_ind_latents = TSNE(n_components=2).fit_transform(ind_latents.cpu().numpy())\n",
    "# TSNE_ood_latents = TSNE(n_components=2).fit_transform(ood_latents.cpu().numpy())"
   ]
  },
  {
   "cell_type": "code",
   "execution_count": 15,
   "id": "protected-denmark",
   "metadata": {},
   "outputs": [],
   "source": [
    "# plt.scatter(TSNE_ind_latents[:,0],TSNE_ind_latents[:,1])\n",
    "# plt.scatter(TSNE_ood_latents[:,0],TSNE_ood_latents[:,1])"
   ]
  },
  {
   "cell_type": "code",
   "execution_count": 16,
   "id": "romance-browser",
   "metadata": {},
   "outputs": [],
   "source": [
    "# ind_recon.shape, ood_recon.shape"
   ]
  },
  {
   "cell_type": "code",
   "execution_count": null,
   "id": "remarkable-ordering",
   "metadata": {},
   "outputs": [],
   "source": []
  },
  {
   "cell_type": "code",
   "execution_count": 17,
   "id": "delayed-miller",
   "metadata": {},
   "outputs": [
    {
     "data": {
      "text/plain": [
       "<AxesSubplot:ylabel='Density'>"
      ]
     },
     "execution_count": 17,
     "metadata": {},
     "output_type": "execute_result"
    },
    {
     "data": {
      "image/png": "[encoded data removed]",
      "text/plain": [
       "<Figure size 432x288 with 1 Axes>"
      ]
     },
     "metadata": {
      "needs_background": "light"
     },
     "output_type": "display_data"
    }
   ],
   "source": [
    "sns.histplot(ind_recon.detach().cpu().numpy(),color='blue',stat='density')\n",
    "sns.histplot(ood_recon.detach().cpu().numpy(),color='red',stat='density')"
   ]
  },
  {
   "cell_type": "code",
   "execution_count": 18,
   "id": "terminal-stewart",
   "metadata": {},
   "outputs": [
    {
     "data": {
      "text/plain": [
       "(tensor(1.7438, device='cuda:0'), tensor(2.3071, device='cuda:0'))"
      ]
     },
     "execution_count": 18,
     "metadata": {},
     "output_type": "execute_result"
    }
   ],
   "source": [
    "torch.mean(ind_recon), torch.mean(ood_recon)"
   ]
  },
  {
   "cell_type": "code",
   "execution_count": 19,
   "id": "solid-mistress",
   "metadata": {},
   "outputs": [
    {
     "data": {
      "text/plain": [
       "0.8180756482193764"
      ]
     },
     "execution_count": 19,
     "metadata": {},
     "output_type": "execute_result"
    }
   ],
   "source": [
    "ind_size=ind_recon.detach().cpu().numpy().shape[0]\n",
    "ood_size=ood_recon.detach().cpu().numpy().shape[0]\n",
    "\n",
    "metrics.roc_auc_score(np.concatenate((np.zeros(ind_size),np.ones(ood_size))),np.concatenate((ind_recon.detach().cpu().numpy(),ood_recon.detach().cpu().numpy())))"
   ]
  },
  {
   "cell_type": "code",
   "execution_count": 20,
   "id": "ideal-scale",
   "metadata": {},
   "outputs": [
    {
     "name": "stdout",
     "output_type": "stream",
     "text": [
      "Global sparsity: 0.00%\n"
     ]
    }
   ],
   "source": [
    "print(\n",
    "    \"Global sparsity: {:.2f}%\".format(\n",
    "        100. * float(\n",
    "            torch.sum(model.encoder.fc1.weight == 0)\n",
    "            + torch.sum(model.encoder.fc2.weight == 0)\n",
    "            + torch.sum(model.encoder.fc3.weight == 0)\n",
    "            + torch.sum(model.encoder.fc4.weight == 0)\n",
    "            \n",
    "            + torch.sum(model.decoder.fc1.weight == 0)\n",
    "            + torch.sum(model.decoder.fc2.weight == 0)\n",
    "            + torch.sum(model.decoder.fc3.weight == 0)\n",
    "            + torch.sum(model.decoder.fc4.weight == 0)\n",
    "\n",
    "        )\n",
    "        / count_parameters(model)\n",
    "        )\n",
    "    )"
   ]
  },
  {
   "cell_type": "code",
   "execution_count": null,
   "id": "expensive-beverage",
   "metadata": {},
   "outputs": [],
   "source": []
  },
  {
   "cell_type": "markdown",
   "id": "boxed-understanding",
   "metadata": {},
   "source": [
    "### After Pruning"
   ]
  },
  {
   "cell_type": "code",
   "execution_count": 21,
   "id": "spatial-rally",
   "metadata": {},
   "outputs": [
    {
     "name": "stdout",
     "output_type": "stream",
     "text": [
      "0\n"
     ]
    },
    {
     "name": "stderr",
     "output_type": "stream",
     "text": [
      "  1%|          | 7/845 [00:00<00:12, 67.14it/s]"
     ]
    },
    {
     "name": "stdout",
     "output_type": "stream",
     "text": [
      "before finetuning : auroc = 0.8180756482193764\n",
      "Global sparsity before finetuned: 0.00%\n"
     ]
    },
    {
     "name": "stderr",
     "output_type": "stream",
     "text": [
      "100%|██████████| 845/845 [00:11<00:00, 74.82it/s]\n",
      "  1%|          | 8/845 [00:00<00:11, 71.59it/s]"
     ]
    },
    {
     "name": "stdout",
     "output_type": "stream",
     "text": [
      "Epoch [1/10] Batch [15/845]=> Loss: 1.78827\n"
     ]
    },
    {
     "name": "stderr",
     "output_type": "stream",
     "text": [
      "100%|██████████| 845/845 [00:11<00:00, 75.91it/s]\n",
      "  1%|          | 8/845 [00:00<00:11, 73.29it/s]"
     ]
    },
    {
     "name": "stdout",
     "output_type": "stream",
     "text": [
      "Epoch [2/10] Batch [15/845]=> Loss: 1.74929\n"
     ]
    },
    {
     "name": "stderr",
     "output_type": "stream",
     "text": [
      "100%|██████████| 845/845 [00:11<00:00, 76.14it/s]\n",
      "  1%|          | 8/845 [00:00<00:11, 72.94it/s]"
     ]
    },
    {
     "name": "stdout",
     "output_type": "stream",
     "text": [
      "Epoch [3/10] Batch [15/845]=> Loss: 1.74390\n"
     ]
    },
    {
     "name": "stderr",
     "output_type": "stream",
     "text": [
      "100%|██████████| 845/845 [00:11<00:00, 75.55it/s]\n",
      "  1%|          | 8/845 [00:00<00:11, 71.58it/s]"
     ]
    },
    {
     "name": "stdout",
     "output_type": "stream",
     "text": [
      "Epoch [4/10] Batch [15/845]=> Loss: 1.74451\n"
     ]
    },
    {
     "name": "stderr",
     "output_type": "stream",
     "text": [
      "100%|██████████| 845/845 [00:11<00:00, 76.14it/s]\n",
      "  1%|          | 8/845 [00:00<00:11, 73.67it/s]"
     ]
    },
    {
     "name": "stdout",
     "output_type": "stream",
     "text": [
      "Epoch [5/10] Batch [15/845]=> Loss: 1.74075\n"
     ]
    },
    {
     "name": "stderr",
     "output_type": "stream",
     "text": [
      "100%|██████████| 845/845 [00:11<00:00, 75.74it/s]\n",
      "  1%|          | 8/845 [00:00<00:11, 71.92it/s]"
     ]
    },
    {
     "name": "stdout",
     "output_type": "stream",
     "text": [
      "Epoch [6/10] Batch [15/845]=> Loss: 1.74243\n"
     ]
    },
    {
     "name": "stderr",
     "output_type": "stream",
     "text": [
      "100%|██████████| 845/845 [00:11<00:00, 75.97it/s]\n",
      "  1%|          | 8/845 [00:00<00:11, 73.96it/s]"
     ]
    },
    {
     "name": "stdout",
     "output_type": "stream",
     "text": [
      "Epoch [7/10] Batch [15/845]=> Loss: 1.73678\n"
     ]
    },
    {
     "name": "stderr",
     "output_type": "stream",
     "text": [
      "100%|██████████| 845/845 [00:11<00:00, 74.99it/s]\n",
      "  1%|          | 8/845 [00:00<00:11, 73.33it/s]"
     ]
    },
    {
     "name": "stdout",
     "output_type": "stream",
     "text": [
      "Epoch [8/10] Batch [15/845]=> Loss: 1.73667\n"
     ]
    },
    {
     "name": "stderr",
     "output_type": "stream",
     "text": [
      "100%|██████████| 845/845 [00:11<00:00, 75.41it/s]\n",
      "  1%|          | 8/845 [00:00<00:11, 70.88it/s]"
     ]
    },
    {
     "name": "stdout",
     "output_type": "stream",
     "text": [
      "Epoch [9/10] Batch [15/845]=> Loss: 1.73341\n"
     ]
    },
    {
     "name": "stderr",
     "output_type": "stream",
     "text": [
      "100%|██████████| 845/845 [00:11<00:00, 74.93it/s]\n"
     ]
    },
    {
     "name": "stdout",
     "output_type": "stream",
     "text": [
      "Epoch [10/10] Batch [15/845]=> Loss: 1.73408\n",
      "after finetuning : auroc = 0.8182939838906738\n",
      "Global sparsity after finetuned: 0.00%\n",
      "0.1\n"
     ]
    },
    {
     "name": "stderr",
     "output_type": "stream",
     "text": [
      "  1%|          | 8/845 [00:00<00:11, 71.48it/s]"
     ]
    },
    {
     "name": "stdout",
     "output_type": "stream",
     "text": [
      "before finetuning : auroc = 0.8171881080591882\n",
      "Global sparsity before finetuned: 9.98%\n"
     ]
    },
    {
     "name": "stderr",
     "output_type": "stream",
     "text": [
      "100%|██████████| 845/845 [00:11<00:00, 75.26it/s]\n",
      "  1%|          | 8/845 [00:00<00:11, 71.29it/s]"
     ]
    },
    {
     "name": "stdout",
     "output_type": "stream",
     "text": [
      "Epoch [1/10] Batch [15/845]=> Loss: 1.77555\n"
     ]
    },
    {
     "name": "stderr",
     "output_type": "stream",
     "text": [
      "100%|██████████| 845/845 [00:11<00:00, 75.70it/s]\n",
      "  1%|          | 8/845 [00:00<00:11, 71.02it/s]"
     ]
    },
    {
     "name": "stdout",
     "output_type": "stream",
     "text": [
      "Epoch [2/10] Batch [15/845]=> Loss: 1.73999\n"
     ]
    },
    {
     "name": "stderr",
     "output_type": "stream",
     "text": [
      "100%|██████████| 845/845 [00:11<00:00, 75.58it/s]\n",
      "  1%|          | 8/845 [00:00<00:11, 73.11it/s]"
     ]
    },
    {
     "name": "stdout",
     "output_type": "stream",
     "text": [
      "Epoch [3/10] Batch [15/845]=> Loss: 1.73919\n"
     ]
    },
    {
     "name": "stderr",
     "output_type": "stream",
     "text": [
      "100%|██████████| 845/845 [00:11<00:00, 76.04it/s]\n",
      "  1%|          | 8/845 [00:00<00:11, 73.26it/s]"
     ]
    },
    {
     "name": "stdout",
     "output_type": "stream",
     "text": [
      "Epoch [4/10] Batch [15/845]=> Loss: 1.73837\n"
     ]
    },
    {
     "name": "stderr",
     "output_type": "stream",
     "text": [
      "100%|██████████| 845/845 [00:11<00:00, 76.22it/s]\n",
      "  1%|          | 8/845 [00:00<00:11, 73.32it/s]"
     ]
    },
    {
     "name": "stdout",
     "output_type": "stream",
     "text": [
      "Epoch [5/10] Batch [15/845]=> Loss: 1.73601\n"
     ]
    },
    {
     "name": "stderr",
     "output_type": "stream",
     "text": [
      "100%|██████████| 845/845 [00:11<00:00, 76.25it/s]\n",
      "  1%|          | 8/845 [00:00<00:11, 73.19it/s]"
     ]
    },
    {
     "name": "stdout",
     "output_type": "stream",
     "text": [
      "Epoch [6/10] Batch [15/845]=> Loss: 1.73381\n"
     ]
    },
    {
     "name": "stderr",
     "output_type": "stream",
     "text": [
      "100%|██████████| 845/845 [00:11<00:00, 76.37it/s]\n",
      "  1%|          | 8/845 [00:00<00:11, 73.07it/s]"
     ]
    },
    {
     "name": "stdout",
     "output_type": "stream",
     "text": [
      "Epoch [7/10] Batch [15/845]=> Loss: 1.73116\n"
     ]
    },
    {
     "name": "stderr",
     "output_type": "stream",
     "text": [
      "100%|██████████| 845/845 [00:11<00:00, 75.87it/s]\n",
      "  1%|          | 8/845 [00:00<00:11, 73.41it/s]"
     ]
    },
    {
     "name": "stdout",
     "output_type": "stream",
     "text": [
      "Epoch [8/10] Batch [15/845]=> Loss: 1.73141\n"
     ]
    },
    {
     "name": "stderr",
     "output_type": "stream",
     "text": [
      "100%|██████████| 845/845 [00:11<00:00, 75.84it/s]\n",
      "  1%|          | 8/845 [00:00<00:11, 72.27it/s]"
     ]
    },
    {
     "name": "stdout",
     "output_type": "stream",
     "text": [
      "Epoch [9/10] Batch [15/845]=> Loss: 1.72611\n"
     ]
    },
    {
     "name": "stderr",
     "output_type": "stream",
     "text": [
      "100%|██████████| 845/845 [00:11<00:00, 75.82it/s]\n"
     ]
    },
    {
     "name": "stdout",
     "output_type": "stream",
     "text": [
      "Epoch [10/10] Batch [15/845]=> Loss: 1.72592\n",
      "after finetuning : auroc = 0.8357206208425721\n",
      "Global sparsity after finetuned: 9.98%\n",
      "0.3\n"
     ]
    },
    {
     "name": "stderr",
     "output_type": "stream",
     "text": [
      "  1%|          | 8/845 [00:00<00:11, 73.37it/s]"
     ]
    },
    {
     "name": "stdout",
     "output_type": "stream",
     "text": [
      "before finetuning : auroc = 0.8378034073939997\n",
      "Global sparsity before finetuned: 29.93%\n"
     ]
    },
    {
     "name": "stderr",
     "output_type": "stream",
     "text": [
      "100%|██████████| 845/845 [00:11<00:00, 76.48it/s]\n",
      "  1%|          | 8/845 [00:00<00:11, 72.19it/s]"
     ]
    },
    {
     "name": "stdout",
     "output_type": "stream",
     "text": [
      "Epoch [1/10] Batch [15/845]=> Loss: 1.75542\n"
     ]
    },
    {
     "name": "stderr",
     "output_type": "stream",
     "text": [
      "100%|██████████| 845/845 [00:11<00:00, 76.45it/s]\n",
      "  1%|          | 8/845 [00:00<00:11, 72.60it/s]"
     ]
    },
    {
     "name": "stdout",
     "output_type": "stream",
     "text": [
      "Epoch [2/10] Batch [15/845]=> Loss: 1.71904\n"
     ]
    },
    {
     "name": "stderr",
     "output_type": "stream",
     "text": [
      "100%|██████████| 845/845 [00:11<00:00, 76.21it/s]\n",
      "  1%|          | 8/845 [00:00<00:11, 73.51it/s]"
     ]
    },
    {
     "name": "stdout",
     "output_type": "stream",
     "text": [
      "Epoch [3/10] Batch [15/845]=> Loss: 1.71731\n"
     ]
    },
    {
     "name": "stderr",
     "output_type": "stream",
     "text": [
      "100%|██████████| 845/845 [00:11<00:00, 76.48it/s]\n",
      "  1%|          | 8/845 [00:00<00:11, 71.96it/s]"
     ]
    },
    {
     "name": "stdout",
     "output_type": "stream",
     "text": [
      "Epoch [4/10] Batch [15/845]=> Loss: 1.71535\n"
     ]
    },
    {
     "name": "stderr",
     "output_type": "stream",
     "text": [
      "100%|██████████| 845/845 [00:11<00:00, 75.70it/s]\n",
      "  1%|          | 8/845 [00:00<00:11, 71.81it/s]"
     ]
    },
    {
     "name": "stdout",
     "output_type": "stream",
     "text": [
      "Epoch [5/10] Batch [15/845]=> Loss: 1.71382\n"
     ]
    },
    {
     "name": "stderr",
     "output_type": "stream",
     "text": [
      "100%|██████████| 845/845 [00:11<00:00, 75.75it/s]\n",
      "  1%|          | 8/845 [00:00<00:11, 72.50it/s]"
     ]
    },
    {
     "name": "stdout",
     "output_type": "stream",
     "text": [
      "Epoch [6/10] Batch [15/845]=> Loss: 1.71040\n"
     ]
    },
    {
     "name": "stderr",
     "output_type": "stream",
     "text": [
      "100%|██████████| 845/845 [00:11<00:00, 76.37it/s]\n",
      "  1%|          | 8/845 [00:00<00:11, 73.22it/s]"
     ]
    },
    {
     "name": "stdout",
     "output_type": "stream",
     "text": [
      "Epoch [7/10] Batch [15/845]=> Loss: 1.70979\n"
     ]
    },
    {
     "name": "stderr",
     "output_type": "stream",
     "text": [
      "100%|██████████| 845/845 [00:11<00:00, 76.09it/s]\n",
      "  1%|          | 8/845 [00:00<00:11, 73.87it/s]"
     ]
    },
    {
     "name": "stdout",
     "output_type": "stream",
     "text": [
      "Epoch [8/10] Batch [15/845]=> Loss: 1.70771\n"
     ]
    },
    {
     "name": "stderr",
     "output_type": "stream",
     "text": [
      "100%|██████████| 845/845 [00:11<00:00, 75.76it/s]\n",
      "  1%|          | 8/845 [00:00<00:11, 72.82it/s]"
     ]
    },
    {
     "name": "stdout",
     "output_type": "stream",
     "text": [
      "Epoch [9/10] Batch [15/845]=> Loss: 1.70899\n"
     ]
    },
    {
     "name": "stderr",
     "output_type": "stream",
     "text": [
      "100%|██████████| 845/845 [00:11<00:00, 75.95it/s]\n"
     ]
    },
    {
     "name": "stdout",
     "output_type": "stream",
     "text": [
      "Epoch [10/10] Batch [15/845]=> Loss: 1.70497\n",
      "after finetuning : auroc = 0.8191525069007648\n",
      "Global sparsity after finetuned: 29.93%\n",
      "0.5\n"
     ]
    },
    {
     "name": "stderr",
     "output_type": "stream",
     "text": [
      "  1%|          | 8/845 [00:00<00:11, 74.66it/s]"
     ]
    },
    {
     "name": "stdout",
     "output_type": "stream",
     "text": [
      "before finetuning : auroc = 0.8745360649803159\n",
      "Global sparsity before finetuned: 49.89%\n"
     ]
    },
    {
     "name": "stderr",
     "output_type": "stream",
     "text": [
      "100%|██████████| 845/845 [00:11<00:00, 76.12it/s]\n",
      "  1%|          | 8/845 [00:00<00:11, 74.85it/s]"
     ]
    },
    {
     "name": "stdout",
     "output_type": "stream",
     "text": [
      "Epoch [1/10] Batch [15/845]=> Loss: 1.76303\n"
     ]
    },
    {
     "name": "stderr",
     "output_type": "stream",
     "text": [
      "100%|██████████| 845/845 [00:11<00:00, 75.71it/s]\n",
      "  1%|          | 8/845 [00:00<00:11, 71.24it/s]"
     ]
    },
    {
     "name": "stdout",
     "output_type": "stream",
     "text": [
      "Epoch [2/10] Batch [15/845]=> Loss: 1.71080\n"
     ]
    },
    {
     "name": "stderr",
     "output_type": "stream",
     "text": [
      "100%|██████████| 845/845 [00:11<00:00, 75.66it/s]\n",
      "  1%|          | 8/845 [00:00<00:11, 71.89it/s]"
     ]
    },
    {
     "name": "stdout",
     "output_type": "stream",
     "text": [
      "Epoch [3/10] Batch [15/845]=> Loss: 1.70456\n"
     ]
    },
    {
     "name": "stderr",
     "output_type": "stream",
     "text": [
      "100%|██████████| 845/845 [00:11<00:00, 76.63it/s]\n",
      "  1%|          | 8/845 [00:00<00:11, 71.56it/s]"
     ]
    },
    {
     "name": "stdout",
     "output_type": "stream",
     "text": [
      "Epoch [4/10] Batch [15/845]=> Loss: 1.70162\n"
     ]
    },
    {
     "name": "stderr",
     "output_type": "stream",
     "text": [
      "100%|██████████| 845/845 [00:11<00:00, 76.09it/s]\n",
      "  1%|          | 8/845 [00:00<00:11, 71.91it/s]"
     ]
    },
    {
     "name": "stdout",
     "output_type": "stream",
     "text": [
      "Epoch [5/10] Batch [15/845]=> Loss: 1.69757\n"
     ]
    },
    {
     "name": "stderr",
     "output_type": "stream",
     "text": [
      "100%|██████████| 845/845 [00:11<00:00, 75.65it/s]\n",
      "  1%|          | 8/845 [00:00<00:11, 72.76it/s]"
     ]
    },
    {
     "name": "stdout",
     "output_type": "stream",
     "text": [
      "Epoch [6/10] Batch [15/845]=> Loss: 1.69805\n"
     ]
    },
    {
     "name": "stderr",
     "output_type": "stream",
     "text": [
      "100%|██████████| 845/845 [00:11<00:00, 76.31it/s]\n",
      "  1%|          | 8/845 [00:00<00:11, 72.08it/s]"
     ]
    },
    {
     "name": "stdout",
     "output_type": "stream",
     "text": [
      "Epoch [7/10] Batch [15/845]=> Loss: 1.69369\n"
     ]
    },
    {
     "name": "stderr",
     "output_type": "stream",
     "text": [
      "100%|██████████| 845/845 [00:11<00:00, 76.21it/s]\n",
      "  1%|          | 7/845 [00:00<00:13, 62.37it/s]"
     ]
    },
    {
     "name": "stdout",
     "output_type": "stream",
     "text": [
      "Epoch [8/10] Batch [15/845]=> Loss: 1.69519\n"
     ]
    },
    {
     "name": "stderr",
     "output_type": "stream",
     "text": [
      "100%|██████████| 845/845 [00:11<00:00, 76.42it/s]\n",
      "  1%|          | 8/845 [00:00<00:11, 72.42it/s]"
     ]
    },
    {
     "name": "stdout",
     "output_type": "stream",
     "text": [
      "Epoch [9/10] Batch [15/845]=> Loss: 1.69225\n"
     ]
    },
    {
     "name": "stderr",
     "output_type": "stream",
     "text": [
      "100%|██████████| 845/845 [00:11<00:00, 76.13it/s]\n"
     ]
    },
    {
     "name": "stdout",
     "output_type": "stream",
     "text": [
      "Epoch [10/10] Batch [15/845]=> Loss: 1.69009\n",
      "after finetuning : auroc = 0.8198912846735146\n",
      "Global sparsity after finetuned: 49.89%\n",
      "0.7\n"
     ]
    },
    {
     "name": "stderr",
     "output_type": "stream",
     "text": [
      "  1%|          | 8/845 [00:00<00:11, 71.70it/s]"
     ]
    },
    {
     "name": "stdout",
     "output_type": "stream",
     "text": [
      "before finetuning : auroc = 0.8903213946332413\n",
      "Global sparsity before finetuned: 69.84%\n"
     ]
    },
    {
     "name": "stderr",
     "output_type": "stream",
     "text": [
      "100%|██████████| 845/845 [00:11<00:00, 76.25it/s]\n",
      "  1%|          | 8/845 [00:00<00:11, 72.94it/s]"
     ]
    },
    {
     "name": "stdout",
     "output_type": "stream",
     "text": [
      "Epoch [1/10] Batch [15/845]=> Loss: 1.87919\n"
     ]
    },
    {
     "name": "stderr",
     "output_type": "stream",
     "text": [
      "100%|██████████| 845/845 [00:11<00:00, 76.81it/s]\n",
      "  1%|          | 8/845 [00:00<00:11, 71.47it/s]"
     ]
    },
    {
     "name": "stdout",
     "output_type": "stream",
     "text": [
      "Epoch [2/10] Batch [15/845]=> Loss: 1.73011\n"
     ]
    },
    {
     "name": "stderr",
     "output_type": "stream",
     "text": [
      "100%|██████████| 845/845 [00:11<00:00, 76.30it/s]\n",
      "  1%|          | 8/845 [00:00<00:11, 72.75it/s]"
     ]
    },
    {
     "name": "stdout",
     "output_type": "stream",
     "text": [
      "Epoch [3/10] Batch [15/845]=> Loss: 1.71738\n"
     ]
    },
    {
     "name": "stderr",
     "output_type": "stream",
     "text": [
      "100%|██████████| 845/845 [00:11<00:00, 76.37it/s]\n",
      "  1%|          | 8/845 [00:00<00:11, 72.78it/s]"
     ]
    },
    {
     "name": "stdout",
     "output_type": "stream",
     "text": [
      "Epoch [4/10] Batch [15/845]=> Loss: 1.71062\n"
     ]
    },
    {
     "name": "stderr",
     "output_type": "stream",
     "text": [
      "100%|██████████| 845/845 [00:11<00:00, 76.50it/s]\n",
      "  1%|          | 8/845 [00:00<00:11, 72.93it/s]"
     ]
    },
    {
     "name": "stdout",
     "output_type": "stream",
     "text": [
      "Epoch [5/10] Batch [15/845]=> Loss: 1.70526\n"
     ]
    },
    {
     "name": "stderr",
     "output_type": "stream",
     "text": [
      "100%|██████████| 845/845 [00:11<00:00, 76.27it/s]\n",
      "  1%|          | 7/845 [00:00<00:13, 62.54it/s]"
     ]
    },
    {
     "name": "stdout",
     "output_type": "stream",
     "text": [
      "Epoch [6/10] Batch [15/845]=> Loss: 1.70206\n"
     ]
    },
    {
     "name": "stderr",
     "output_type": "stream",
     "text": [
      "100%|██████████| 845/845 [00:11<00:00, 76.13it/s]\n",
      "  1%|          | 7/845 [00:00<00:13, 62.98it/s]"
     ]
    },
    {
     "name": "stdout",
     "output_type": "stream",
     "text": [
      "Epoch [7/10] Batch [15/845]=> Loss: 1.69707\n"
     ]
    },
    {
     "name": "stderr",
     "output_type": "stream",
     "text": [
      "100%|██████████| 845/845 [00:11<00:00, 76.47it/s]\n",
      "  1%|          | 8/845 [00:00<00:11, 72.57it/s]"
     ]
    },
    {
     "name": "stdout",
     "output_type": "stream",
     "text": [
      "Epoch [8/10] Batch [15/845]=> Loss: 1.69477\n"
     ]
    },
    {
     "name": "stderr",
     "output_type": "stream",
     "text": [
      "100%|██████████| 845/845 [00:11<00:00, 76.56it/s]\n",
      "  1%|          | 7/845 [00:00<00:13, 62.99it/s]"
     ]
    },
    {
     "name": "stdout",
     "output_type": "stream",
     "text": [
      "Epoch [9/10] Batch [15/845]=> Loss: 1.69289\n"
     ]
    },
    {
     "name": "stderr",
     "output_type": "stream",
     "text": [
      "100%|██████████| 845/845 [00:11<00:00, 76.34it/s]\n"
     ]
    },
    {
     "name": "stdout",
     "output_type": "stream",
     "text": [
      "Epoch [10/10] Batch [15/845]=> Loss: 1.69145\n",
      "after finetuning : auroc = 0.8195235078510339\n",
      "Global sparsity after finetuned: 69.84%\n",
      "0.8\n"
     ]
    },
    {
     "name": "stderr",
     "output_type": "stream",
     "text": [
      "  1%|          | 8/845 [00:00<00:11, 71.77it/s]"
     ]
    },
    {
     "name": "stdout",
     "output_type": "stream",
     "text": [
      "before finetuning : auroc = 0.8593181818181818\n",
      "Global sparsity before finetuned: 79.82%\n"
     ]
    },
    {
     "name": "stderr",
     "output_type": "stream",
     "text": [
      "100%|██████████| 845/845 [00:10<00:00, 78.06it/s]\n",
      "  1%|          | 8/845 [00:00<00:11, 72.52it/s]"
     ]
    },
    {
     "name": "stdout",
     "output_type": "stream",
     "text": [
      "Epoch [1/10] Batch [15/845]=> Loss: 2.11162\n"
     ]
    },
    {
     "name": "stderr",
     "output_type": "stream",
     "text": [
      "100%|██████████| 845/845 [00:10<00:00, 78.12it/s]\n",
      "  1%|          | 8/845 [00:00<00:11, 72.96it/s]"
     ]
    },
    {
     "name": "stdout",
     "output_type": "stream",
     "text": [
      "Epoch [2/10] Batch [15/845]=> Loss: 1.79516\n"
     ]
    },
    {
     "name": "stderr",
     "output_type": "stream",
     "text": [
      "100%|██████████| 845/845 [00:10<00:00, 78.14it/s]\n",
      "  1%|          | 8/845 [00:00<00:11, 71.09it/s]"
     ]
    },
    {
     "name": "stdout",
     "output_type": "stream",
     "text": [
      "Epoch [3/10] Batch [15/845]=> Loss: 1.76201\n"
     ]
    },
    {
     "name": "stderr",
     "output_type": "stream",
     "text": [
      "100%|██████████| 845/845 [00:10<00:00, 77.90it/s]\n",
      "  1%|          | 8/845 [00:00<00:11, 72.59it/s]"
     ]
    },
    {
     "name": "stdout",
     "output_type": "stream",
     "text": [
      "Epoch [4/10] Batch [15/845]=> Loss: 1.74766\n"
     ]
    },
    {
     "name": "stderr",
     "output_type": "stream",
     "text": [
      "100%|██████████| 845/845 [00:10<00:00, 78.12it/s]\n",
      "  1%|          | 8/845 [00:00<00:11, 72.86it/s]"
     ]
    },
    {
     "name": "stdout",
     "output_type": "stream",
     "text": [
      "Epoch [5/10] Batch [15/845]=> Loss: 1.73796\n"
     ]
    },
    {
     "name": "stderr",
     "output_type": "stream",
     "text": [
      "100%|██████████| 845/845 [00:10<00:00, 78.08it/s]\n",
      "  1%|          | 8/845 [00:00<00:11, 72.80it/s]"
     ]
    },
    {
     "name": "stdout",
     "output_type": "stream",
     "text": [
      "Epoch [6/10] Batch [15/845]=> Loss: 1.73098\n"
     ]
    },
    {
     "name": "stderr",
     "output_type": "stream",
     "text": [
      "100%|██████████| 845/845 [00:10<00:00, 77.41it/s]\n",
      "  1%|          | 8/845 [00:00<00:11, 72.84it/s]"
     ]
    },
    {
     "name": "stdout",
     "output_type": "stream",
     "text": [
      "Epoch [7/10] Batch [15/845]=> Loss: 1.72617\n"
     ]
    },
    {
     "name": "stderr",
     "output_type": "stream",
     "text": [
      "100%|██████████| 845/845 [00:10<00:00, 78.37it/s]\n",
      "  1%|          | 8/845 [00:00<00:11, 72.88it/s]"
     ]
    },
    {
     "name": "stdout",
     "output_type": "stream",
     "text": [
      "Epoch [8/10] Batch [15/845]=> Loss: 1.72204\n"
     ]
    },
    {
     "name": "stderr",
     "output_type": "stream",
     "text": [
      "100%|██████████| 845/845 [00:10<00:00, 78.35it/s]\n",
      "  1%|          | 8/845 [00:00<00:11, 73.07it/s]"
     ]
    },
    {
     "name": "stdout",
     "output_type": "stream",
     "text": [
      "Epoch [9/10] Batch [15/845]=> Loss: 1.71903\n"
     ]
    },
    {
     "name": "stderr",
     "output_type": "stream",
     "text": [
      "100%|██████████| 845/845 [00:10<00:00, 77.84it/s]\n"
     ]
    },
    {
     "name": "stdout",
     "output_type": "stream",
     "text": [
      "Epoch [10/10] Batch [15/845]=> Loss: 1.71560\n",
      "after finetuning : auroc = 0.8147699556541022\n",
      "Global sparsity after finetuned: 79.82%\n",
      "0.9\n"
     ]
    },
    {
     "name": "stderr",
     "output_type": "stream",
     "text": [
      "  1%|          | 8/845 [00:00<00:11, 72.77it/s]"
     ]
    },
    {
     "name": "stdout",
     "output_type": "stream",
     "text": [
      "before finetuning : auroc = 0.852575173084755\n",
      "Global sparsity before finetuned: 89.79%\n"
     ]
    },
    {
     "name": "stderr",
     "output_type": "stream",
     "text": [
      "100%|██████████| 845/845 [00:10<00:00, 77.70it/s]\n",
      "  1%|          | 8/845 [00:00<00:11, 72.24it/s]"
     ]
    },
    {
     "name": "stdout",
     "output_type": "stream",
     "text": [
      "Epoch [1/10] Batch [15/845]=> Loss: 3.21743\n"
     ]
    },
    {
     "name": "stderr",
     "output_type": "stream",
     "text": [
      "100%|██████████| 845/845 [00:10<00:00, 77.55it/s]\n",
      "  1%|          | 8/845 [00:00<00:11, 72.24it/s]"
     ]
    },
    {
     "name": "stdout",
     "output_type": "stream",
     "text": [
      "Epoch [2/10] Batch [15/845]=> Loss: 2.35730\n"
     ]
    },
    {
     "name": "stderr",
     "output_type": "stream",
     "text": [
      "100%|██████████| 845/845 [00:10<00:00, 78.21it/s]\n",
      "  1%|          | 8/845 [00:00<00:11, 72.60it/s]"
     ]
    },
    {
     "name": "stdout",
     "output_type": "stream",
     "text": [
      "Epoch [3/10] Batch [15/845]=> Loss: 2.20846\n"
     ]
    },
    {
     "name": "stderr",
     "output_type": "stream",
     "text": [
      "100%|██████████| 845/845 [00:11<00:00, 75.54it/s]\n",
      "  1%|          | 8/845 [00:00<00:11, 72.83it/s]"
     ]
    },
    {
     "name": "stdout",
     "output_type": "stream",
     "text": [
      "Epoch [4/10] Batch [15/845]=> Loss: 2.13130\n"
     ]
    },
    {
     "name": "stderr",
     "output_type": "stream",
     "text": [
      "100%|██████████| 845/845 [00:11<00:00, 76.32it/s]\n",
      "  1%|          | 8/845 [00:00<00:11, 72.91it/s]"
     ]
    },
    {
     "name": "stdout",
     "output_type": "stream",
     "text": [
      "Epoch [5/10] Batch [15/845]=> Loss: 2.08284\n"
     ]
    },
    {
     "name": "stderr",
     "output_type": "stream",
     "text": [
      "100%|██████████| 845/845 [00:11<00:00, 76.42it/s]\n",
      "  1%|          | 8/845 [00:00<00:11, 72.18it/s]"
     ]
    },
    {
     "name": "stdout",
     "output_type": "stream",
     "text": [
      "Epoch [6/10] Batch [15/845]=> Loss: 2.04801\n"
     ]
    },
    {
     "name": "stderr",
     "output_type": "stream",
     "text": [
      "100%|██████████| 845/845 [00:11<00:00, 76.54it/s]\n",
      "  1%|          | 8/845 [00:00<00:11, 72.79it/s]"
     ]
    },
    {
     "name": "stdout",
     "output_type": "stream",
     "text": [
      "Epoch [7/10] Batch [15/845]=> Loss: 2.02164\n"
     ]
    },
    {
     "name": "stderr",
     "output_type": "stream",
     "text": [
      "100%|██████████| 845/845 [00:11<00:00, 76.07it/s]\n",
      "  1%|          | 8/845 [00:00<00:10, 76.20it/s]"
     ]
    },
    {
     "name": "stdout",
     "output_type": "stream",
     "text": [
      "Epoch [8/10] Batch [15/845]=> Loss: 2.00145\n"
     ]
    },
    {
     "name": "stderr",
     "output_type": "stream",
     "text": [
      "100%|██████████| 845/845 [00:11<00:00, 76.52it/s]\n",
      "  1%|          | 8/845 [00:00<00:11, 74.92it/s]"
     ]
    },
    {
     "name": "stdout",
     "output_type": "stream",
     "text": [
      "Epoch [9/10] Batch [15/845]=> Loss: 1.98494\n"
     ]
    },
    {
     "name": "stderr",
     "output_type": "stream",
     "text": [
      "100%|██████████| 845/845 [00:11<00:00, 76.75it/s]\n"
     ]
    },
    {
     "name": "stdout",
     "output_type": "stream",
     "text": [
      "Epoch [10/10] Batch [15/845]=> Loss: 1.96869\n",
      "after finetuning : auroc = 0.813584890719037\n",
      "Global sparsity after finetuned: 89.79%\n",
      "0.91\n"
     ]
    },
    {
     "name": "stderr",
     "output_type": "stream",
     "text": [
      "  1%|          | 8/845 [00:00<00:11, 75.62it/s]"
     ]
    },
    {
     "name": "stdout",
     "output_type": "stream",
     "text": [
      "before finetuning : auroc = 0.8623609099959275\n",
      "Global sparsity before finetuned: 90.79%\n"
     ]
    },
    {
     "name": "stderr",
     "output_type": "stream",
     "text": [
      "100%|██████████| 845/845 [00:10<00:00, 77.07it/s]\n",
      "  1%|          | 8/845 [00:00<00:11, 75.10it/s]"
     ]
    },
    {
     "name": "stdout",
     "output_type": "stream",
     "text": [
      "Epoch [1/10] Batch [15/845]=> Loss: 3.44277\n"
     ]
    },
    {
     "name": "stderr",
     "output_type": "stream",
     "text": [
      "100%|██████████| 845/845 [00:10<00:00, 76.83it/s]\n",
      "  1%|          | 8/845 [00:00<00:11, 76.02it/s]"
     ]
    },
    {
     "name": "stdout",
     "output_type": "stream",
     "text": [
      "Epoch [2/10] Batch [15/845]=> Loss: 2.49413\n"
     ]
    },
    {
     "name": "stderr",
     "output_type": "stream",
     "text": [
      "100%|██████████| 845/845 [00:10<00:00, 76.91it/s]\n",
      "  1%|          | 8/845 [00:00<00:11, 75.97it/s]"
     ]
    },
    {
     "name": "stdout",
     "output_type": "stream",
     "text": [
      "Epoch [3/10] Batch [15/845]=> Loss: 2.32859\n"
     ]
    },
    {
     "name": "stderr",
     "output_type": "stream",
     "text": [
      "100%|██████████| 845/845 [00:11<00:00, 76.57it/s]\n",
      "  1%|          | 8/845 [00:00<00:11, 74.86it/s]"
     ]
    },
    {
     "name": "stdout",
     "output_type": "stream",
     "text": [
      "Epoch [4/10] Batch [15/845]=> Loss: 2.24250\n"
     ]
    },
    {
     "name": "stderr",
     "output_type": "stream",
     "text": [
      "100%|██████████| 845/845 [00:11<00:00, 76.11it/s]\n",
      "  1%|          | 8/845 [00:00<00:11, 74.74it/s]"
     ]
    },
    {
     "name": "stdout",
     "output_type": "stream",
     "text": [
      "Epoch [5/10] Batch [15/845]=> Loss: 2.18716\n"
     ]
    },
    {
     "name": "stderr",
     "output_type": "stream",
     "text": [
      "100%|██████████| 845/845 [00:11<00:00, 76.73it/s]\n",
      "  1%|          | 8/845 [00:00<00:11, 75.87it/s]"
     ]
    },
    {
     "name": "stdout",
     "output_type": "stream",
     "text": [
      "Epoch [6/10] Batch [15/845]=> Loss: 2.14746\n"
     ]
    },
    {
     "name": "stderr",
     "output_type": "stream",
     "text": [
      "100%|██████████| 845/845 [00:10<00:00, 76.83it/s]\n",
      "  1%|          | 8/845 [00:00<00:11, 75.92it/s]"
     ]
    },
    {
     "name": "stdout",
     "output_type": "stream",
     "text": [
      "Epoch [7/10] Batch [15/845]=> Loss: 2.11791\n"
     ]
    },
    {
     "name": "stderr",
     "output_type": "stream",
     "text": [
      "100%|██████████| 845/845 [00:10<00:00, 76.86it/s]\n",
      "  1%|          | 8/845 [00:00<00:11, 75.37it/s]"
     ]
    },
    {
     "name": "stdout",
     "output_type": "stream",
     "text": [
      "Epoch [8/10] Batch [15/845]=> Loss: 2.09235\n"
     ]
    },
    {
     "name": "stderr",
     "output_type": "stream",
     "text": [
      "100%|██████████| 845/845 [00:11<00:00, 76.70it/s]\n",
      "  1%|          | 8/845 [00:00<00:11, 74.97it/s]"
     ]
    },
    {
     "name": "stdout",
     "output_type": "stream",
     "text": [
      "Epoch [9/10] Batch [15/845]=> Loss: 2.07200\n"
     ]
    },
    {
     "name": "stderr",
     "output_type": "stream",
     "text": [
      "100%|██████████| 845/845 [00:11<00:00, 76.53it/s]\n"
     ]
    },
    {
     "name": "stdout",
     "output_type": "stream",
     "text": [
      "Epoch [10/10] Batch [15/845]=> Loss: 2.05322\n",
      "after finetuning : auroc = 0.8170383275261324\n",
      "Global sparsity after finetuned: 90.79%\n",
      "0.92\n"
     ]
    },
    {
     "name": "stderr",
     "output_type": "stream",
     "text": [
      "  1%|          | 8/845 [00:00<00:11, 75.35it/s]"
     ]
    },
    {
     "name": "stdout",
     "output_type": "stream",
     "text": [
      "before finetuning : auroc = 0.8562274876691253\n",
      "Global sparsity before finetuned: 91.79%\n"
     ]
    },
    {
     "name": "stderr",
     "output_type": "stream",
     "text": [
      "100%|██████████| 845/845 [00:11<00:00, 76.72it/s]\n",
      "  1%|          | 8/845 [00:00<00:11, 75.20it/s]"
     ]
    },
    {
     "name": "stdout",
     "output_type": "stream",
     "text": [
      "Epoch [1/10] Batch [15/845]=> Loss: 3.75338\n"
     ]
    },
    {
     "name": "stderr",
     "output_type": "stream",
     "text": [
      "100%|██████████| 845/845 [00:11<00:00, 76.62it/s]\n",
      "  1%|          | 8/845 [00:00<00:11, 75.03it/s]"
     ]
    },
    {
     "name": "stdout",
     "output_type": "stream",
     "text": [
      "Epoch [2/10] Batch [15/845]=> Loss: 2.68938\n"
     ]
    },
    {
     "name": "stderr",
     "output_type": "stream",
     "text": [
      "100%|██████████| 845/845 [00:11<00:00, 76.70it/s]\n",
      "  1%|          | 8/845 [00:00<00:10, 76.29it/s]"
     ]
    },
    {
     "name": "stdout",
     "output_type": "stream",
     "text": [
      "Epoch [3/10] Batch [15/845]=> Loss: 2.48975\n"
     ]
    },
    {
     "name": "stderr",
     "output_type": "stream",
     "text": [
      "100%|██████████| 845/845 [00:11<00:00, 76.42it/s]\n",
      "  1%|          | 8/845 [00:00<00:11, 72.39it/s]"
     ]
    },
    {
     "name": "stdout",
     "output_type": "stream",
     "text": [
      "Epoch [4/10] Batch [15/845]=> Loss: 2.38608\n"
     ]
    },
    {
     "name": "stderr",
     "output_type": "stream",
     "text": [
      "100%|██████████| 845/845 [00:11<00:00, 76.59it/s]\n",
      "  1%|          | 8/845 [00:00<00:11, 72.54it/s]"
     ]
    },
    {
     "name": "stdout",
     "output_type": "stream",
     "text": [
      "Epoch [5/10] Batch [15/845]=> Loss: 2.31895\n"
     ]
    },
    {
     "name": "stderr",
     "output_type": "stream",
     "text": [
      "100%|██████████| 845/845 [00:11<00:00, 76.61it/s]\n",
      "  1%|          | 8/845 [00:00<00:11, 72.35it/s]"
     ]
    },
    {
     "name": "stdout",
     "output_type": "stream",
     "text": [
      "Epoch [6/10] Batch [15/845]=> Loss: 2.27308\n"
     ]
    },
    {
     "name": "stderr",
     "output_type": "stream",
     "text": [
      "100%|██████████| 845/845 [00:11<00:00, 76.67it/s]\n",
      "  1%|          | 8/845 [00:00<00:11, 72.73it/s]"
     ]
    },
    {
     "name": "stdout",
     "output_type": "stream",
     "text": [
      "Epoch [7/10] Batch [15/845]=> Loss: 2.23657\n"
     ]
    },
    {
     "name": "stderr",
     "output_type": "stream",
     "text": [
      "100%|██████████| 845/845 [00:11<00:00, 76.26it/s]\n",
      "  1%|          | 8/845 [00:00<00:11, 72.82it/s]"
     ]
    },
    {
     "name": "stdout",
     "output_type": "stream",
     "text": [
      "Epoch [8/10] Batch [15/845]=> Loss: 2.20674\n"
     ]
    },
    {
     "name": "stderr",
     "output_type": "stream",
     "text": [
      "100%|██████████| 845/845 [00:11<00:00, 76.56it/s]\n",
      "  1%|          | 8/845 [00:00<00:11, 72.50it/s]"
     ]
    },
    {
     "name": "stdout",
     "output_type": "stream",
     "text": [
      "Epoch [9/10] Batch [15/845]=> Loss: 2.18253\n"
     ]
    },
    {
     "name": "stderr",
     "output_type": "stream",
     "text": [
      "100%|██████████| 845/845 [00:11<00:00, 76.28it/s]\n"
     ]
    },
    {
     "name": "stdout",
     "output_type": "stream",
     "text": [
      "Epoch [10/10] Batch [15/845]=> Loss: 2.16160\n",
      "after finetuning : auroc = 0.8271123693379793\n",
      "Global sparsity after finetuned: 91.79%\n",
      "0.925\n"
     ]
    },
    {
     "name": "stderr",
     "output_type": "stream",
     "text": [
      "  1%|          | 7/845 [00:00<00:11, 69.91it/s]"
     ]
    },
    {
     "name": "stdout",
     "output_type": "stream",
     "text": [
      "before finetuning : auroc = 0.8518352640390968\n",
      "Global sparsity before finetuned: 92.29%\n"
     ]
    },
    {
     "name": "stderr",
     "output_type": "stream",
     "text": [
      "100%|██████████| 845/845 [00:11<00:00, 76.05it/s]\n",
      "  1%|          | 8/845 [00:00<00:11, 71.10it/s]"
     ]
    },
    {
     "name": "stdout",
     "output_type": "stream",
     "text": [
      "Epoch [1/10] Batch [15/845]=> Loss: 3.88710\n"
     ]
    },
    {
     "name": "stderr",
     "output_type": "stream",
     "text": [
      "100%|██████████| 845/845 [00:11<00:00, 76.73it/s]\n",
      "  1%|          | 8/845 [00:00<00:11, 71.28it/s]"
     ]
    },
    {
     "name": "stdout",
     "output_type": "stream",
     "text": [
      "Epoch [2/10] Batch [15/845]=> Loss: 2.79369\n"
     ]
    },
    {
     "name": "stderr",
     "output_type": "stream",
     "text": [
      "100%|██████████| 845/845 [00:11<00:00, 76.38it/s]\n",
      "  1%|          | 7/845 [00:00<00:12, 69.18it/s]"
     ]
    },
    {
     "name": "stdout",
     "output_type": "stream",
     "text": [
      "Epoch [3/10] Batch [15/845]=> Loss: 2.57018\n"
     ]
    },
    {
     "name": "stderr",
     "output_type": "stream",
     "text": [
      "100%|██████████| 845/845 [00:11<00:00, 76.22it/s]\n",
      "  1%|          | 7/845 [00:00<00:12, 68.90it/s]"
     ]
    },
    {
     "name": "stdout",
     "output_type": "stream",
     "text": [
      "Epoch [4/10] Batch [15/845]=> Loss: 2.45798\n"
     ]
    },
    {
     "name": "stderr",
     "output_type": "stream",
     "text": [
      "100%|██████████| 845/845 [00:11<00:00, 76.32it/s]\n",
      "  1%|          | 7/845 [00:00<00:12, 69.77it/s]"
     ]
    },
    {
     "name": "stdout",
     "output_type": "stream",
     "text": [
      "Epoch [5/10] Batch [15/845]=> Loss: 2.38761\n"
     ]
    },
    {
     "name": "stderr",
     "output_type": "stream",
     "text": [
      "100%|██████████| 845/845 [00:11<00:00, 76.39it/s]\n",
      "  1%|          | 7/845 [00:00<00:12, 68.53it/s]"
     ]
    },
    {
     "name": "stdout",
     "output_type": "stream",
     "text": [
      "Epoch [6/10] Batch [15/845]=> Loss: 2.33593\n"
     ]
    },
    {
     "name": "stderr",
     "output_type": "stream",
     "text": [
      "100%|██████████| 845/845 [00:11<00:00, 76.09it/s]\n",
      "  1%|          | 7/845 [00:00<00:12, 67.50it/s]"
     ]
    },
    {
     "name": "stdout",
     "output_type": "stream",
     "text": [
      "Epoch [7/10] Batch [15/845]=> Loss: 2.29662\n"
     ]
    },
    {
     "name": "stderr",
     "output_type": "stream",
     "text": [
      "100%|██████████| 845/845 [00:11<00:00, 71.81it/s]\n",
      "  1%|          | 8/845 [00:00<00:11, 71.17it/s]"
     ]
    },
    {
     "name": "stdout",
     "output_type": "stream",
     "text": [
      "Epoch [8/10] Batch [15/845]=> Loss: 2.26458\n"
     ]
    },
    {
     "name": "stderr",
     "output_type": "stream",
     "text": [
      "100%|██████████| 845/845 [00:11<00:00, 74.96it/s]\n",
      "  1%|          | 8/845 [00:00<00:11, 72.66it/s]"
     ]
    },
    {
     "name": "stdout",
     "output_type": "stream",
     "text": [
      "Epoch [9/10] Batch [15/845]=> Loss: 2.23926\n"
     ]
    },
    {
     "name": "stderr",
     "output_type": "stream",
     "text": [
      "100%|██████████| 845/845 [00:11<00:00, 76.02it/s]\n"
     ]
    },
    {
     "name": "stdout",
     "output_type": "stream",
     "text": [
      "Epoch [10/10] Batch [15/845]=> Loss: 2.21667\n",
      "after finetuning : auroc = 0.8213791348024798\n",
      "Global sparsity after finetuned: 92.29%\n",
      "0.93\n"
     ]
    },
    {
     "name": "stderr",
     "output_type": "stream",
     "text": [
      "  1%|          | 8/845 [00:00<00:11, 73.95it/s]"
     ]
    },
    {
     "name": "stdout",
     "output_type": "stream",
     "text": [
      "before finetuning : auroc = 0.8434228924385719\n",
      "Global sparsity before finetuned: 92.79%\n"
     ]
    },
    {
     "name": "stderr",
     "output_type": "stream",
     "text": [
      "100%|██████████| 845/845 [00:11<00:00, 75.15it/s]\n",
      "  1%|          | 8/845 [00:00<00:11, 72.78it/s]"
     ]
    },
    {
     "name": "stdout",
     "output_type": "stream",
     "text": [
      "Epoch [1/10] Batch [15/845]=> Loss: 4.07766\n"
     ]
    },
    {
     "name": "stderr",
     "output_type": "stream",
     "text": [
      "100%|██████████| 845/845 [00:11<00:00, 75.46it/s]\n",
      "  1%|          | 8/845 [00:00<00:11, 71.15it/s]"
     ]
    },
    {
     "name": "stdout",
     "output_type": "stream",
     "text": [
      "Epoch [2/10] Batch [15/845]=> Loss: 2.92548\n"
     ]
    },
    {
     "name": "stderr",
     "output_type": "stream",
     "text": [
      "100%|██████████| 845/845 [00:11<00:00, 75.61it/s]\n",
      "  1%|          | 8/845 [00:00<00:11, 71.26it/s]"
     ]
    },
    {
     "name": "stdout",
     "output_type": "stream",
     "text": [
      "Epoch [3/10] Batch [15/845]=> Loss: 2.68735\n"
     ]
    },
    {
     "name": "stderr",
     "output_type": "stream",
     "text": [
      "100%|██████████| 845/845 [00:11<00:00, 75.37it/s]\n",
      "  1%|          | 8/845 [00:00<00:11, 71.22it/s]"
     ]
    },
    {
     "name": "stdout",
     "output_type": "stream",
     "text": [
      "Epoch [4/10] Batch [15/845]=> Loss: 2.56502\n"
     ]
    },
    {
     "name": "stderr",
     "output_type": "stream",
     "text": [
      "100%|██████████| 845/845 [00:11<00:00, 75.42it/s]\n",
      "  1%|          | 7/845 [00:00<00:12, 69.75it/s]"
     ]
    },
    {
     "name": "stdout",
     "output_type": "stream",
     "text": [
      "Epoch [5/10] Batch [15/845]=> Loss: 2.48464\n"
     ]
    },
    {
     "name": "stderr",
     "output_type": "stream",
     "text": [
      "100%|██████████| 845/845 [00:11<00:00, 76.06it/s]\n",
      "  1%|          | 7/845 [00:00<00:12, 69.80it/s]"
     ]
    },
    {
     "name": "stdout",
     "output_type": "stream",
     "text": [
      "Epoch [6/10] Batch [15/845]=> Loss: 2.42614\n"
     ]
    },
    {
     "name": "stderr",
     "output_type": "stream",
     "text": [
      "100%|██████████| 845/845 [00:11<00:00, 75.31it/s]\n",
      "  1%|          | 7/845 [00:00<00:12, 69.67it/s]"
     ]
    },
    {
     "name": "stdout",
     "output_type": "stream",
     "text": [
      "Epoch [7/10] Batch [15/845]=> Loss: 2.38084\n"
     ]
    },
    {
     "name": "stderr",
     "output_type": "stream",
     "text": [
      "100%|██████████| 845/845 [00:11<00:00, 76.15it/s]\n",
      "  1%|          | 7/845 [00:00<00:12, 69.78it/s]"
     ]
    },
    {
     "name": "stdout",
     "output_type": "stream",
     "text": [
      "Epoch [8/10] Batch [15/845]=> Loss: 2.34524\n"
     ]
    },
    {
     "name": "stderr",
     "output_type": "stream",
     "text": [
      "100%|██████████| 845/845 [00:11<00:00, 75.76it/s]\n",
      "  1%|          | 7/845 [00:00<00:12, 69.70it/s]"
     ]
    },
    {
     "name": "stdout",
     "output_type": "stream",
     "text": [
      "Epoch [9/10] Batch [15/845]=> Loss: 2.31417\n"
     ]
    },
    {
     "name": "stderr",
     "output_type": "stream",
     "text": [
      "100%|██████████| 845/845 [00:11<00:00, 76.14it/s]\n"
     ]
    },
    {
     "name": "stdout",
     "output_type": "stream",
     "text": [
      "Epoch [10/10] Batch [15/845]=> Loss: 2.28798\n",
      "after finetuning : auroc = 0.8198006697135617\n",
      "Global sparsity after finetuned: 92.79%\n",
      "0.935\n"
     ]
    },
    {
     "name": "stderr",
     "output_type": "stream",
     "text": [
      "  1%|          | 7/845 [00:00<00:12, 69.58it/s]"
     ]
    },
    {
     "name": "stdout",
     "output_type": "stream",
     "text": [
      "before finetuning : auroc = 0.8416784130503643\n",
      "Global sparsity before finetuned: 93.29%\n"
     ]
    },
    {
     "name": "stderr",
     "output_type": "stream",
     "text": [
      "100%|██████████| 845/845 [00:11<00:00, 75.56it/s]\n",
      "  1%|          | 8/845 [00:00<00:11, 73.67it/s]"
     ]
    },
    {
     "name": "stdout",
     "output_type": "stream",
     "text": [
      "Epoch [1/10] Batch [15/845]=> Loss: 4.26702\n"
     ]
    },
    {
     "name": "stderr",
     "output_type": "stream",
     "text": [
      "100%|██████████| 845/845 [00:11<00:00, 75.10it/s]\n",
      "  1%|          | 8/845 [00:00<00:11, 73.74it/s]"
     ]
    },
    {
     "name": "stdout",
     "output_type": "stream",
     "text": [
      "Epoch [2/10] Batch [15/845]=> Loss: 3.09752\n"
     ]
    },
    {
     "name": "stderr",
     "output_type": "stream",
     "text": [
      "100%|██████████| 845/845 [00:11<00:00, 76.13it/s]\n",
      "  1%|          | 8/845 [00:00<00:11, 74.32it/s]"
     ]
    },
    {
     "name": "stdout",
     "output_type": "stream",
     "text": [
      "Epoch [3/10] Batch [15/845]=> Loss: 2.84557\n"
     ]
    },
    {
     "name": "stderr",
     "output_type": "stream",
     "text": [
      "100%|██████████| 845/845 [00:11<00:00, 75.96it/s]\n",
      "  1%|          | 8/845 [00:00<00:11, 75.16it/s]"
     ]
    },
    {
     "name": "stdout",
     "output_type": "stream",
     "text": [
      "Epoch [4/10] Batch [15/845]=> Loss: 2.70898\n"
     ]
    },
    {
     "name": "stderr",
     "output_type": "stream",
     "text": [
      "100%|██████████| 845/845 [00:11<00:00, 75.85it/s]\n",
      "  1%|          | 8/845 [00:00<00:11, 74.71it/s]"
     ]
    },
    {
     "name": "stdout",
     "output_type": "stream",
     "text": [
      "Epoch [5/10] Batch [15/845]=> Loss: 2.61676\n"
     ]
    },
    {
     "name": "stderr",
     "output_type": "stream",
     "text": [
      "100%|██████████| 845/845 [00:11<00:00, 75.81it/s]\n",
      "  1%|          | 8/845 [00:00<00:11, 71.81it/s]"
     ]
    },
    {
     "name": "stdout",
     "output_type": "stream",
     "text": [
      "Epoch [6/10] Batch [15/845]=> Loss: 2.55304\n"
     ]
    },
    {
     "name": "stderr",
     "output_type": "stream",
     "text": [
      "100%|██████████| 845/845 [00:11<00:00, 75.62it/s]\n",
      "  1%|          | 8/845 [00:00<00:11, 75.30it/s]"
     ]
    },
    {
     "name": "stdout",
     "output_type": "stream",
     "text": [
      "Epoch [7/10] Batch [15/845]=> Loss: 2.50362\n"
     ]
    },
    {
     "name": "stderr",
     "output_type": "stream",
     "text": [
      "100%|██████████| 845/845 [00:11<00:00, 75.93it/s]\n",
      "  1%|          | 8/845 [00:00<00:11, 75.16it/s]"
     ]
    },
    {
     "name": "stdout",
     "output_type": "stream",
     "text": [
      "Epoch [8/10] Batch [15/845]=> Loss: 2.46510\n"
     ]
    },
    {
     "name": "stderr",
     "output_type": "stream",
     "text": [
      "100%|██████████| 845/845 [00:11<00:00, 76.07it/s]\n",
      "  1%|          | 8/845 [00:00<00:11, 75.89it/s]"
     ]
    },
    {
     "name": "stdout",
     "output_type": "stream",
     "text": [
      "Epoch [9/10] Batch [15/845]=> Loss: 2.43388\n"
     ]
    },
    {
     "name": "stderr",
     "output_type": "stream",
     "text": [
      "100%|██████████| 845/845 [00:11<00:00, 76.18it/s]\n"
     ]
    },
    {
     "name": "stdout",
     "output_type": "stream",
     "text": [
      "Epoch [10/10] Batch [15/845]=> Loss: 2.40523\n",
      "after finetuning : auroc = 0.8125158378207159\n",
      "Global sparsity after finetuned: 93.29%\n",
      "0.94\n"
     ]
    },
    {
     "name": "stderr",
     "output_type": "stream",
     "text": [
      "  1%|          | 8/845 [00:00<00:10, 76.19it/s]"
     ]
    },
    {
     "name": "stdout",
     "output_type": "stream",
     "text": [
      "before finetuning : auroc = 0.840643241775646\n",
      "Global sparsity before finetuned: 93.78%\n"
     ]
    },
    {
     "name": "stderr",
     "output_type": "stream",
     "text": [
      "100%|██████████| 845/845 [00:11<00:00, 76.36it/s]\n",
      "  1%|          | 8/845 [00:00<00:11, 73.22it/s]"
     ]
    },
    {
     "name": "stdout",
     "output_type": "stream",
     "text": [
      "Epoch [1/10] Batch [15/845]=> Loss: 4.46890\n"
     ]
    },
    {
     "name": "stderr",
     "output_type": "stream",
     "text": [
      "100%|██████████| 845/845 [00:11<00:00, 75.97it/s]\n",
      "  1%|          | 8/845 [00:00<00:11, 75.26it/s]"
     ]
    },
    {
     "name": "stdout",
     "output_type": "stream",
     "text": [
      "Epoch [2/10] Batch [15/845]=> Loss: 3.16317\n"
     ]
    },
    {
     "name": "stderr",
     "output_type": "stream",
     "text": [
      "100%|██████████| 845/845 [00:11<00:00, 76.06it/s]\n",
      "  1%|          | 8/845 [00:00<00:11, 73.64it/s]"
     ]
    },
    {
     "name": "stdout",
     "output_type": "stream",
     "text": [
      "Epoch [3/10] Batch [15/845]=> Loss: 2.90108\n"
     ]
    },
    {
     "name": "stderr",
     "output_type": "stream",
     "text": [
      "100%|██████████| 845/845 [00:11<00:00, 76.39it/s]\n",
      "  1%|          | 8/845 [00:00<00:11, 74.06it/s]"
     ]
    },
    {
     "name": "stdout",
     "output_type": "stream",
     "text": [
      "Epoch [4/10] Batch [15/845]=> Loss: 2.76599\n"
     ]
    },
    {
     "name": "stderr",
     "output_type": "stream",
     "text": [
      "100%|██████████| 845/845 [00:11<00:00, 75.92it/s]\n",
      "  1%|          | 8/845 [00:00<00:11, 74.06it/s]"
     ]
    },
    {
     "name": "stdout",
     "output_type": "stream",
     "text": [
      "Epoch [5/10] Batch [15/845]=> Loss: 2.67909\n"
     ]
    },
    {
     "name": "stderr",
     "output_type": "stream",
     "text": [
      "100%|██████████| 845/845 [00:11<00:00, 72.09it/s]\n",
      "  1%|          | 8/845 [00:00<00:11, 70.73it/s]"
     ]
    },
    {
     "name": "stdout",
     "output_type": "stream",
     "text": [
      "Epoch [6/10] Batch [15/845]=> Loss: 2.61648\n"
     ]
    },
    {
     "name": "stderr",
     "output_type": "stream",
     "text": [
      "100%|██████████| 845/845 [00:11<00:00, 74.87it/s]\n",
      "  1%|          | 8/845 [00:00<00:11, 74.03it/s]"
     ]
    },
    {
     "name": "stdout",
     "output_type": "stream",
     "text": [
      "Epoch [7/10] Batch [15/845]=> Loss: 2.56492\n"
     ]
    },
    {
     "name": "stderr",
     "output_type": "stream",
     "text": [
      "100%|██████████| 845/845 [00:11<00:00, 76.21it/s]\n",
      "  1%|          | 8/845 [00:00<00:11, 74.10it/s]"
     ]
    },
    {
     "name": "stdout",
     "output_type": "stream",
     "text": [
      "Epoch [8/10] Batch [15/845]=> Loss: 2.52410\n"
     ]
    },
    {
     "name": "stderr",
     "output_type": "stream",
     "text": [
      "100%|██████████| 845/845 [00:11<00:00, 76.58it/s]\n",
      "  1%|          | 8/845 [00:00<00:11, 73.56it/s]"
     ]
    },
    {
     "name": "stdout",
     "output_type": "stream",
     "text": [
      "Epoch [9/10] Batch [15/845]=> Loss: 2.49063\n"
     ]
    },
    {
     "name": "stderr",
     "output_type": "stream",
     "text": [
      "100%|██████████| 845/845 [00:11<00:00, 76.53it/s]\n"
     ]
    },
    {
     "name": "stdout",
     "output_type": "stream",
     "text": [
      "Epoch [10/10] Batch [15/845]=> Loss: 2.46383\n",
      "after finetuning : auroc = 0.8208823928684557\n",
      "Global sparsity after finetuned: 93.78%\n",
      "0.945\n"
     ]
    },
    {
     "name": "stderr",
     "output_type": "stream",
     "text": [
      "  1%|          | 8/845 [00:00<00:11, 73.95it/s]"
     ]
    },
    {
     "name": "stdout",
     "output_type": "stream",
     "text": [
      "before finetuning : auroc = 0.8432950020362913\n",
      "Global sparsity before finetuned: 94.28%\n"
     ]
    },
    {
     "name": "stderr",
     "output_type": "stream",
     "text": [
      "100%|██████████| 845/845 [00:11<00:00, 76.07it/s]\n",
      "  1%|          | 7/845 [00:00<00:12, 68.52it/s]"
     ]
    },
    {
     "name": "stdout",
     "output_type": "stream",
     "text": [
      "Epoch [1/10] Batch [15/845]=> Loss: 4.80815\n"
     ]
    },
    {
     "name": "stderr",
     "output_type": "stream",
     "text": [
      "100%|██████████| 845/845 [00:11<00:00, 75.81it/s]\n",
      "  1%|          | 8/845 [00:00<00:11, 74.86it/s]"
     ]
    },
    {
     "name": "stdout",
     "output_type": "stream",
     "text": [
      "Epoch [2/10] Batch [15/845]=> Loss: 3.40458\n"
     ]
    },
    {
     "name": "stderr",
     "output_type": "stream",
     "text": [
      "100%|██████████| 845/845 [00:11<00:00, 75.92it/s]\n",
      "  1%|          | 7/845 [00:00<00:13, 63.47it/s]"
     ]
    },
    {
     "name": "stdout",
     "output_type": "stream",
     "text": [
      "Epoch [3/10] Batch [15/845]=> Loss: 3.11842\n"
     ]
    },
    {
     "name": "stderr",
     "output_type": "stream",
     "text": [
      "100%|██████████| 845/845 [00:11<00:00, 76.07it/s]\n",
      "  1%|          | 8/845 [00:00<00:11, 73.38it/s]"
     ]
    },
    {
     "name": "stdout",
     "output_type": "stream",
     "text": [
      "Epoch [4/10] Batch [15/845]=> Loss: 2.97782\n"
     ]
    },
    {
     "name": "stderr",
     "output_type": "stream",
     "text": [
      "100%|██████████| 845/845 [00:11<00:00, 76.21it/s]\n",
      "  1%|          | 8/845 [00:00<00:11, 73.58it/s]"
     ]
    },
    {
     "name": "stdout",
     "output_type": "stream",
     "text": [
      "Epoch [5/10] Batch [15/845]=> Loss: 2.88991\n"
     ]
    },
    {
     "name": "stderr",
     "output_type": "stream",
     "text": [
      "100%|██████████| 845/845 [00:11<00:00, 76.26it/s]\n",
      "  1%|          | 8/845 [00:00<00:11, 74.01it/s]"
     ]
    },
    {
     "name": "stdout",
     "output_type": "stream",
     "text": [
      "Epoch [6/10] Batch [15/845]=> Loss: 2.82667\n"
     ]
    },
    {
     "name": "stderr",
     "output_type": "stream",
     "text": [
      "100%|██████████| 845/845 [00:11<00:00, 76.23it/s]\n",
      "  1%|          | 8/845 [00:00<00:11, 73.39it/s]"
     ]
    },
    {
     "name": "stdout",
     "output_type": "stream",
     "text": [
      "Epoch [7/10] Batch [15/845]=> Loss: 2.77770\n"
     ]
    },
    {
     "name": "stderr",
     "output_type": "stream",
     "text": [
      "100%|██████████| 845/845 [00:11<00:00, 76.20it/s]\n",
      "  1%|          | 8/845 [00:00<00:11, 74.16it/s]"
     ]
    },
    {
     "name": "stdout",
     "output_type": "stream",
     "text": [
      "Epoch [8/10] Batch [15/845]=> Loss: 2.73899\n"
     ]
    },
    {
     "name": "stderr",
     "output_type": "stream",
     "text": [
      "100%|██████████| 845/845 [00:11<00:00, 75.42it/s]\n",
      "  1%|          | 8/845 [00:00<00:11, 74.18it/s]"
     ]
    },
    {
     "name": "stdout",
     "output_type": "stream",
     "text": [
      "Epoch [9/10] Batch [15/845]=> Loss: 2.70517\n"
     ]
    },
    {
     "name": "stderr",
     "output_type": "stream",
     "text": [
      "100%|██████████| 845/845 [00:11<00:00, 76.52it/s]\n"
     ]
    },
    {
     "name": "stdout",
     "output_type": "stream",
     "text": [
      "Epoch [10/10] Batch [15/845]=> Loss: 2.67605\n",
      "after finetuning : auroc = 0.833165245033712\n",
      "Global sparsity after finetuned: 94.28%\n",
      "0.95\n"
     ]
    },
    {
     "name": "stderr",
     "output_type": "stream",
     "text": [
      "  1%|          | 8/845 [00:00<00:11, 74.12it/s]"
     ]
    },
    {
     "name": "stdout",
     "output_type": "stream",
     "text": [
      "before finetuning : auroc = 0.8382305194805194\n",
      "Global sparsity before finetuned: 94.78%\n"
     ]
    },
    {
     "name": "stderr",
     "output_type": "stream",
     "text": [
      "100%|██████████| 845/845 [00:11<00:00, 76.24it/s]\n",
      "  1%|          | 8/845 [00:00<00:11, 74.72it/s]"
     ]
    },
    {
     "name": "stdout",
     "output_type": "stream",
     "text": [
      "Epoch [1/10] Batch [15/845]=> Loss: 5.17035\n"
     ]
    },
    {
     "name": "stderr",
     "output_type": "stream",
     "text": [
      "100%|██████████| 845/845 [00:11<00:00, 76.31it/s]\n",
      "  1%|          | 8/845 [00:00<00:11, 74.15it/s]"
     ]
    },
    {
     "name": "stdout",
     "output_type": "stream",
     "text": [
      "Epoch [2/10] Batch [15/845]=> Loss: 3.75099\n"
     ]
    },
    {
     "name": "stderr",
     "output_type": "stream",
     "text": [
      "100%|██████████| 845/845 [00:12<00:00, 68.44it/s]\n",
      "  1%|          | 8/845 [00:00<00:11, 72.58it/s]"
     ]
    },
    {
     "name": "stdout",
     "output_type": "stream",
     "text": [
      "Epoch [3/10] Batch [15/845]=> Loss: 3.45188\n"
     ]
    },
    {
     "name": "stderr",
     "output_type": "stream",
     "text": [
      "100%|██████████| 845/845 [00:12<00:00, 67.96it/s]\n",
      "  1%|          | 8/845 [00:00<00:11, 72.47it/s]"
     ]
    },
    {
     "name": "stdout",
     "output_type": "stream",
     "text": [
      "Epoch [4/10] Batch [15/845]=> Loss: 3.29421\n"
     ]
    },
    {
     "name": "stderr",
     "output_type": "stream",
     "text": [
      "100%|██████████| 845/845 [00:12<00:00, 70.08it/s]\n",
      "  1%|          | 7/845 [00:00<00:12, 69.14it/s]"
     ]
    },
    {
     "name": "stdout",
     "output_type": "stream",
     "text": [
      "Epoch [5/10] Batch [15/845]=> Loss: 3.19652\n"
     ]
    },
    {
     "name": "stderr",
     "output_type": "stream",
     "text": [
      "100%|██████████| 845/845 [00:11<00:00, 71.35it/s]\n",
      "  1%|          | 8/845 [00:00<00:11, 70.61it/s]"
     ]
    },
    {
     "name": "stdout",
     "output_type": "stream",
     "text": [
      "Epoch [6/10] Batch [15/845]=> Loss: 3.12917\n"
     ]
    },
    {
     "name": "stderr",
     "output_type": "stream",
     "text": [
      "100%|██████████| 845/845 [00:12<00:00, 69.54it/s]\n",
      "  1%|          | 8/845 [00:00<00:11, 71.31it/s]"
     ]
    },
    {
     "name": "stdout",
     "output_type": "stream",
     "text": [
      "Epoch [7/10] Batch [15/845]=> Loss: 3.07939\n"
     ]
    },
    {
     "name": "stderr",
     "output_type": "stream",
     "text": [
      "100%|██████████| 845/845 [00:12<00:00, 69.81it/s]\n",
      "  1%|          | 7/845 [00:00<00:12, 68.14it/s]"
     ]
    },
    {
     "name": "stdout",
     "output_type": "stream",
     "text": [
      "Epoch [8/10] Batch [15/845]=> Loss: 3.03909\n"
     ]
    },
    {
     "name": "stderr",
     "output_type": "stream",
     "text": [
      "100%|██████████| 845/845 [00:12<00:00, 69.53it/s]\n",
      "  1%|          | 7/845 [00:00<00:12, 69.04it/s]"
     ]
    },
    {
     "name": "stdout",
     "output_type": "stream",
     "text": [
      "Epoch [9/10] Batch [15/845]=> Loss: 3.00425\n"
     ]
    },
    {
     "name": "stderr",
     "output_type": "stream",
     "text": [
      "100%|██████████| 845/845 [00:11<00:00, 70.88it/s]\n"
     ]
    },
    {
     "name": "stdout",
     "output_type": "stream",
     "text": [
      "Epoch [10/10] Batch [15/845]=> Loss: 2.97629\n",
      "after finetuning : auroc = 0.837993857188108\n",
      "Global sparsity after finetuned: 94.78%\n",
      "0.955\n"
     ]
    },
    {
     "name": "stderr",
     "output_type": "stream",
     "text": [
      "  1%|          | 7/845 [00:00<00:11, 69.96it/s]"
     ]
    },
    {
     "name": "stdout",
     "output_type": "stream",
     "text": [
      "before finetuning : auroc = 0.8398727883614644\n",
      "Global sparsity before finetuned: 95.28%\n"
     ]
    },
    {
     "name": "stderr",
     "output_type": "stream",
     "text": [
      "100%|██████████| 845/845 [00:11<00:00, 71.30it/s]\n",
      "  1%|          | 7/845 [00:00<00:12, 69.13it/s]"
     ]
    },
    {
     "name": "stdout",
     "output_type": "stream",
     "text": [
      "Epoch [1/10] Batch [15/845]=> Loss: 5.80978\n"
     ]
    },
    {
     "name": "stderr",
     "output_type": "stream",
     "text": [
      "100%|██████████| 845/845 [00:11<00:00, 71.93it/s]\n",
      "  1%|          | 8/845 [00:00<00:11, 72.21it/s]"
     ]
    },
    {
     "name": "stdout",
     "output_type": "stream",
     "text": [
      "Epoch [2/10] Batch [15/845]=> Loss: 4.64399\n"
     ]
    },
    {
     "name": "stderr",
     "output_type": "stream",
     "text": [
      "100%|██████████| 845/845 [00:11<00:00, 71.34it/s]\n",
      "  1%|          | 7/845 [00:00<00:12, 66.23it/s]"
     ]
    },
    {
     "name": "stdout",
     "output_type": "stream",
     "text": [
      "Epoch [3/10] Batch [15/845]=> Loss: 4.42111\n"
     ]
    },
    {
     "name": "stderr",
     "output_type": "stream",
     "text": [
      "100%|██████████| 845/845 [00:11<00:00, 71.48it/s]\n",
      "  1%|          | 7/845 [00:00<00:12, 68.21it/s]"
     ]
    },
    {
     "name": "stdout",
     "output_type": "stream",
     "text": [
      "Epoch [4/10] Batch [15/845]=> Loss: 4.30038\n"
     ]
    },
    {
     "name": "stderr",
     "output_type": "stream",
     "text": [
      "100%|██████████| 845/845 [00:11<00:00, 72.67it/s]\n",
      "  1%|          | 8/845 [00:00<00:11, 71.38it/s]"
     ]
    },
    {
     "name": "stdout",
     "output_type": "stream",
     "text": [
      "Epoch [5/10] Batch [15/845]=> Loss: 4.21660\n"
     ]
    },
    {
     "name": "stderr",
     "output_type": "stream",
     "text": [
      "100%|██████████| 845/845 [00:11<00:00, 72.23it/s]\n",
      "  1%|          | 7/845 [00:00<00:11, 69.90it/s]"
     ]
    },
    {
     "name": "stdout",
     "output_type": "stream",
     "text": [
      "Epoch [6/10] Batch [15/845]=> Loss: 4.14608\n"
     ]
    },
    {
     "name": "stderr",
     "output_type": "stream",
     "text": [
      "100%|██████████| 845/845 [00:11<00:00, 72.20it/s]\n",
      "  1%|          | 7/845 [00:00<00:12, 68.12it/s]"
     ]
    },
    {
     "name": "stdout",
     "output_type": "stream",
     "text": [
      "Epoch [7/10] Batch [15/845]=> Loss: 4.09174\n"
     ]
    },
    {
     "name": "stderr",
     "output_type": "stream",
     "text": [
      "100%|██████████| 845/845 [00:11<00:00, 72.64it/s]\n",
      "  1%|          | 7/845 [00:00<00:12, 66.98it/s]"
     ]
    },
    {
     "name": "stdout",
     "output_type": "stream",
     "text": [
      "Epoch [8/10] Batch [15/845]=> Loss: 4.05100\n"
     ]
    },
    {
     "name": "stderr",
     "output_type": "stream",
     "text": [
      "100%|██████████| 845/845 [00:11<00:00, 72.69it/s]\n",
      "  1%|          | 8/845 [00:00<00:11, 72.19it/s]"
     ]
    },
    {
     "name": "stdout",
     "output_type": "stream",
     "text": [
      "Epoch [9/10] Batch [15/845]=> Loss: 4.01512\n"
     ]
    },
    {
     "name": "stderr",
     "output_type": "stream",
     "text": [
      "100%|██████████| 845/845 [00:11<00:00, 72.92it/s]\n"
     ]
    },
    {
     "name": "stdout",
     "output_type": "stream",
     "text": [
      "Epoch [10/10] Batch [15/845]=> Loss: 3.98625\n",
      "after finetuning : auroc = 0.930593918276845\n",
      "Global sparsity after finetuned: 95.28%\n",
      "0.96\n"
     ]
    },
    {
     "name": "stderr",
     "output_type": "stream",
     "text": [
      "  1%|          | 7/845 [00:00<00:12, 67.43it/s]"
     ]
    },
    {
     "name": "stdout",
     "output_type": "stream",
     "text": [
      "before finetuning : auroc = 0.8437999456989005\n",
      "Global sparsity before finetuned: 95.78%\n"
     ]
    },
    {
     "name": "stderr",
     "output_type": "stream",
     "text": [
      "100%|██████████| 845/845 [00:11<00:00, 70.89it/s]\n",
      "  1%|          | 8/845 [00:00<00:11, 70.45it/s]"
     ]
    },
    {
     "name": "stdout",
     "output_type": "stream",
     "text": [
      "Epoch [1/10] Batch [15/845]=> Loss: 6.20377\n"
     ]
    },
    {
     "name": "stderr",
     "output_type": "stream",
     "text": [
      "100%|██████████| 845/845 [00:11<00:00, 70.93it/s]\n",
      "  1%|          | 8/845 [00:00<00:11, 70.81it/s]"
     ]
    },
    {
     "name": "stdout",
     "output_type": "stream",
     "text": [
      "Epoch [2/10] Batch [15/845]=> Loss: 5.20895\n"
     ]
    },
    {
     "name": "stderr",
     "output_type": "stream",
     "text": [
      "100%|██████████| 845/845 [00:11<00:00, 70.49it/s]\n",
      "  1%|          | 7/845 [00:00<00:12, 65.99it/s]"
     ]
    },
    {
     "name": "stdout",
     "output_type": "stream",
     "text": [
      "Epoch [3/10] Batch [15/845]=> Loss: 4.99865\n"
     ]
    },
    {
     "name": "stderr",
     "output_type": "stream",
     "text": [
      "100%|██████████| 845/845 [00:12<00:00, 69.26it/s]\n",
      "  1%|          | 8/845 [00:00<00:11, 71.42it/s]"
     ]
    },
    {
     "name": "stdout",
     "output_type": "stream",
     "text": [
      "Epoch [4/10] Batch [15/845]=> Loss: 4.88359\n"
     ]
    },
    {
     "name": "stderr",
     "output_type": "stream",
     "text": [
      "100%|██████████| 845/845 [00:11<00:00, 74.20it/s]\n",
      "  1%|          | 8/845 [00:00<00:11, 70.55it/s]"
     ]
    },
    {
     "name": "stdout",
     "output_type": "stream",
     "text": [
      "Epoch [5/10] Batch [15/845]=> Loss: 4.80677\n"
     ]
    },
    {
     "name": "stderr",
     "output_type": "stream",
     "text": [
      "100%|██████████| 845/845 [00:11<00:00, 70.70it/s]\n",
      "  1%|          | 7/845 [00:00<00:12, 69.73it/s]"
     ]
    },
    {
     "name": "stdout",
     "output_type": "stream",
     "text": [
      "Epoch [6/10] Batch [15/845]=> Loss: 4.75366\n"
     ]
    },
    {
     "name": "stderr",
     "output_type": "stream",
     "text": [
      "100%|██████████| 845/845 [00:11<00:00, 71.30it/s]\n",
      "  1%|          | 7/845 [00:00<00:12, 69.59it/s]"
     ]
    },
    {
     "name": "stdout",
     "output_type": "stream",
     "text": [
      "Epoch [7/10] Batch [15/845]=> Loss: 4.71321\n"
     ]
    },
    {
     "name": "stderr",
     "output_type": "stream",
     "text": [
      "100%|██████████| 845/845 [00:12<00:00, 70.05it/s]\n",
      "  1%|          | 7/845 [00:00<00:12, 69.44it/s]"
     ]
    },
    {
     "name": "stdout",
     "output_type": "stream",
     "text": [
      "Epoch [8/10] Batch [15/845]=> Loss: 4.68144\n"
     ]
    },
    {
     "name": "stderr",
     "output_type": "stream",
     "text": [
      "100%|██████████| 845/845 [00:11<00:00, 71.28it/s]\n",
      "  1%|          | 8/845 [00:00<00:11, 70.63it/s]"
     ]
    },
    {
     "name": "stdout",
     "output_type": "stream",
     "text": [
      "Epoch [9/10] Batch [15/845]=> Loss: 4.65614\n"
     ]
    },
    {
     "name": "stderr",
     "output_type": "stream",
     "text": [
      "100%|██████████| 845/845 [00:11<00:00, 70.90it/s]\n"
     ]
    },
    {
     "name": "stdout",
     "output_type": "stream",
     "text": [
      "Epoch [10/10] Batch [15/845]=> Loss: 4.63401\n",
      "after finetuning : auroc = 0.9124690031223132\n",
      "Global sparsity after finetuned: 95.78%\n",
      "0.965\n"
     ]
    },
    {
     "name": "stderr",
     "output_type": "stream",
     "text": [
      "  1%|          | 8/845 [00:00<00:11, 71.81it/s]"
     ]
    },
    {
     "name": "stdout",
     "output_type": "stream",
     "text": [
      "before finetuning : auroc = 0.8272547400334856\n",
      "Global sparsity before finetuned: 96.28%\n"
     ]
    },
    {
     "name": "stderr",
     "output_type": "stream",
     "text": [
      "100%|██████████| 845/845 [00:11<00:00, 71.80it/s]\n",
      "  1%|          | 8/845 [00:00<00:11, 71.14it/s]"
     ]
    },
    {
     "name": "stdout",
     "output_type": "stream",
     "text": [
      "Epoch [1/10] Batch [15/845]=> Loss: 6.71932\n"
     ]
    },
    {
     "name": "stderr",
     "output_type": "stream",
     "text": [
      "100%|██████████| 845/845 [00:11<00:00, 71.83it/s]\n",
      "  1%|          | 7/845 [00:00<00:12, 66.23it/s]"
     ]
    },
    {
     "name": "stdout",
     "output_type": "stream",
     "text": [
      "Epoch [2/10] Batch [15/845]=> Loss: 6.22762\n"
     ]
    },
    {
     "name": "stderr",
     "output_type": "stream",
     "text": [
      "100%|██████████| 845/845 [00:11<00:00, 71.77it/s]\n",
      "  1%|          | 8/845 [00:00<00:11, 74.97it/s]"
     ]
    },
    {
     "name": "stdout",
     "output_type": "stream",
     "text": [
      "Epoch [3/10] Batch [15/845]=> Loss: 6.09513\n"
     ]
    },
    {
     "name": "stderr",
     "output_type": "stream",
     "text": [
      "100%|██████████| 845/845 [00:11<00:00, 74.16it/s]\n",
      "  1%|          | 8/845 [00:00<00:11, 72.24it/s]"
     ]
    },
    {
     "name": "stdout",
     "output_type": "stream",
     "text": [
      "Epoch [4/10] Batch [15/845]=> Loss: 6.03058\n"
     ]
    },
    {
     "name": "stderr",
     "output_type": "stream",
     "text": [
      "100%|██████████| 845/845 [00:11<00:00, 71.37it/s]\n",
      "  1%|          | 7/845 [00:00<00:12, 68.78it/s]"
     ]
    },
    {
     "name": "stdout",
     "output_type": "stream",
     "text": [
      "Epoch [5/10] Batch [15/845]=> Loss: 5.99129\n"
     ]
    },
    {
     "name": "stderr",
     "output_type": "stream",
     "text": [
      "100%|██████████| 845/845 [00:11<00:00, 71.15it/s]\n",
      "  1%|          | 8/845 [00:00<00:11, 71.32it/s]"
     ]
    },
    {
     "name": "stdout",
     "output_type": "stream",
     "text": [
      "Epoch [6/10] Batch [15/845]=> Loss: 5.96290\n"
     ]
    },
    {
     "name": "stderr",
     "output_type": "stream",
     "text": [
      "100%|██████████| 845/845 [00:11<00:00, 72.33it/s]\n",
      "  1%|          | 7/845 [00:00<00:12, 68.77it/s]"
     ]
    },
    {
     "name": "stdout",
     "output_type": "stream",
     "text": [
      "Epoch [7/10] Batch [15/845]=> Loss: 5.93954\n"
     ]
    },
    {
     "name": "stderr",
     "output_type": "stream",
     "text": [
      "100%|██████████| 845/845 [00:11<00:00, 71.75it/s]\n",
      "  1%|          | 7/845 [00:00<00:12, 68.98it/s]"
     ]
    },
    {
     "name": "stdout",
     "output_type": "stream",
     "text": [
      "Epoch [8/10] Batch [15/845]=> Loss: 5.91810\n"
     ]
    },
    {
     "name": "stderr",
     "output_type": "stream",
     "text": [
      "100%|██████████| 845/845 [00:11<00:00, 71.81it/s]\n",
      "  1%|          | 7/845 [00:00<00:12, 65.82it/s]"
     ]
    },
    {
     "name": "stdout",
     "output_type": "stream",
     "text": [
      "Epoch [9/10] Batch [15/845]=> Loss: 5.89846\n"
     ]
    },
    {
     "name": "stderr",
     "output_type": "stream",
     "text": [
      "100%|██████████| 845/845 [00:11<00:00, 72.11it/s]\n"
     ]
    },
    {
     "name": "stdout",
     "output_type": "stream",
     "text": [
      "Epoch [10/10] Batch [15/845]=> Loss: 5.88088\n",
      "after finetuning : auroc = 0.9255216299380064\n",
      "Global sparsity after finetuned: 96.28%\n",
      "0.97\n"
     ]
    },
    {
     "name": "stderr",
     "output_type": "stream",
     "text": [
      "  1%|          | 7/845 [00:00<00:12, 66.92it/s]"
     ]
    },
    {
     "name": "stdout",
     "output_type": "stream",
     "text": [
      "before finetuning : auroc = 0.8259675777184489\n",
      "Global sparsity before finetuned: 96.78%\n"
     ]
    },
    {
     "name": "stderr",
     "output_type": "stream",
     "text": [
      "100%|██████████| 845/845 [00:12<00:00, 69.71it/s]\n",
      "  1%|          | 7/845 [00:00<00:12, 66.90it/s]"
     ]
    },
    {
     "name": "stdout",
     "output_type": "stream",
     "text": [
      "Epoch [1/10] Batch [15/845]=> Loss: 6.81911\n"
     ]
    },
    {
     "name": "stderr",
     "output_type": "stream",
     "text": [
      "100%|██████████| 845/845 [00:11<00:00, 73.45it/s]\n",
      "  1%|          | 7/845 [00:00<00:12, 68.86it/s]"
     ]
    },
    {
     "name": "stdout",
     "output_type": "stream",
     "text": [
      "Epoch [2/10] Batch [15/845]=> Loss: 6.32226\n"
     ]
    },
    {
     "name": "stderr",
     "output_type": "stream",
     "text": [
      "100%|██████████| 845/845 [00:11<00:00, 71.13it/s]\n",
      "  1%|          | 7/845 [00:00<00:12, 69.73it/s]"
     ]
    },
    {
     "name": "stdout",
     "output_type": "stream",
     "text": [
      "Epoch [3/10] Batch [15/845]=> Loss: 6.20214\n"
     ]
    },
    {
     "name": "stderr",
     "output_type": "stream",
     "text": [
      "100%|██████████| 845/845 [00:11<00:00, 71.32it/s]\n",
      "  1%|          | 7/845 [00:00<00:12, 66.91it/s]"
     ]
    },
    {
     "name": "stdout",
     "output_type": "stream",
     "text": [
      "Epoch [4/10] Batch [15/845]=> Loss: 6.11803\n"
     ]
    },
    {
     "name": "stderr",
     "output_type": "stream",
     "text": [
      "100%|██████████| 845/845 [00:11<00:00, 70.46it/s]\n",
      "  1%|          | 8/845 [00:00<00:11, 71.70it/s]"
     ]
    },
    {
     "name": "stdout",
     "output_type": "stream",
     "text": [
      "Epoch [5/10] Batch [15/845]=> Loss: 6.05690\n"
     ]
    },
    {
     "name": "stderr",
     "output_type": "stream",
     "text": [
      "100%|██████████| 845/845 [00:11<00:00, 71.80it/s]\n",
      "  1%|          | 7/845 [00:00<00:12, 67.19it/s]"
     ]
    },
    {
     "name": "stdout",
     "output_type": "stream",
     "text": [
      "Epoch [6/10] Batch [15/845]=> Loss: 6.01344\n"
     ]
    },
    {
     "name": "stderr",
     "output_type": "stream",
     "text": [
      "100%|██████████| 845/845 [00:11<00:00, 71.20it/s]\n",
      "  1%|          | 8/845 [00:00<00:11, 71.91it/s]"
     ]
    },
    {
     "name": "stdout",
     "output_type": "stream",
     "text": [
      "Epoch [7/10] Batch [15/845]=> Loss: 5.98196\n"
     ]
    },
    {
     "name": "stderr",
     "output_type": "stream",
     "text": [
      "100%|██████████| 845/845 [00:11<00:00, 72.73it/s]\n",
      "  1%|          | 7/845 [00:00<00:12, 67.54it/s]"
     ]
    },
    {
     "name": "stdout",
     "output_type": "stream",
     "text": [
      "Epoch [8/10] Batch [15/845]=> Loss: 5.95725\n"
     ]
    },
    {
     "name": "stderr",
     "output_type": "stream",
     "text": [
      "100%|██████████| 845/845 [00:11<00:00, 72.15it/s]\n",
      "  1%|          | 7/845 [00:00<00:12, 66.16it/s]"
     ]
    },
    {
     "name": "stdout",
     "output_type": "stream",
     "text": [
      "Epoch [9/10] Batch [15/845]=> Loss: 5.93612\n"
     ]
    },
    {
     "name": "stderr",
     "output_type": "stream",
     "text": [
      "100%|██████████| 845/845 [00:11<00:00, 72.46it/s]\n"
     ]
    },
    {
     "name": "stdout",
     "output_type": "stream",
     "text": [
      "Epoch [10/10] Batch [15/845]=> Loss: 5.91735\n",
      "after finetuning : auroc = 0.9137472283813747\n",
      "Global sparsity after finetuned: 96.78%\n",
      "0.98\n"
     ]
    },
    {
     "name": "stderr",
     "output_type": "stream",
     "text": [
      "  1%|          | 8/845 [00:00<00:11, 70.54it/s]"
     ]
    },
    {
     "name": "stdout",
     "output_type": "stream",
     "text": [
      "before finetuning : auroc = 0.807937802615503\n",
      "Global sparsity before finetuned: 97.77%\n"
     ]
    },
    {
     "name": "stderr",
     "output_type": "stream",
     "text": [
      "100%|██████████| 845/845 [00:11<00:00, 70.87it/s]\n",
      "  1%|          | 8/845 [00:00<00:11, 70.82it/s]"
     ]
    },
    {
     "name": "stdout",
     "output_type": "stream",
     "text": [
      "Epoch [1/10] Batch [15/845]=> Loss: 7.19750\n"
     ]
    },
    {
     "name": "stderr",
     "output_type": "stream",
     "text": [
      "100%|██████████| 845/845 [00:11<00:00, 71.86it/s]\n",
      "  1%|          | 8/845 [00:00<00:11, 70.50it/s]"
     ]
    },
    {
     "name": "stdout",
     "output_type": "stream",
     "text": [
      "Epoch [2/10] Batch [15/845]=> Loss: 7.03375\n"
     ]
    },
    {
     "name": "stderr",
     "output_type": "stream",
     "text": [
      "100%|██████████| 845/845 [00:11<00:00, 72.89it/s]\n",
      "  1%|          | 8/845 [00:00<00:11, 71.82it/s]"
     ]
    },
    {
     "name": "stdout",
     "output_type": "stream",
     "text": [
      "Epoch [3/10] Batch [15/845]=> Loss: 7.03408\n"
     ]
    },
    {
     "name": "stderr",
     "output_type": "stream",
     "text": [
      "100%|██████████| 845/845 [00:11<00:00, 73.15it/s]\n",
      "  1%|          | 8/845 [00:00<00:11, 71.40it/s]"
     ]
    },
    {
     "name": "stdout",
     "output_type": "stream",
     "text": [
      "Epoch [4/10] Batch [15/845]=> Loss: 7.03398\n"
     ]
    },
    {
     "name": "stderr",
     "output_type": "stream",
     "text": [
      "100%|██████████| 845/845 [00:11<00:00, 72.72it/s]\n",
      "  1%|          | 8/845 [00:00<00:11, 71.29it/s]"
     ]
    },
    {
     "name": "stdout",
     "output_type": "stream",
     "text": [
      "Epoch [5/10] Batch [15/845]=> Loss: 7.03385\n"
     ]
    },
    {
     "name": "stderr",
     "output_type": "stream",
     "text": [
      "100%|██████████| 845/845 [00:11<00:00, 70.76it/s]\n",
      "  1%|          | 7/845 [00:00<00:12, 69.64it/s]"
     ]
    },
    {
     "name": "stdout",
     "output_type": "stream",
     "text": [
      "Epoch [6/10] Batch [15/845]=> Loss: 7.03374\n"
     ]
    },
    {
     "name": "stderr",
     "output_type": "stream",
     "text": [
      "100%|██████████| 845/845 [00:11<00:00, 72.42it/s]\n",
      "  1%|          | 7/845 [00:00<00:12, 69.79it/s]"
     ]
    },
    {
     "name": "stdout",
     "output_type": "stream",
     "text": [
      "Epoch [7/10] Batch [15/845]=> Loss: 7.03361\n"
     ]
    },
    {
     "name": "stderr",
     "output_type": "stream",
     "text": [
      "100%|██████████| 845/845 [00:11<00:00, 71.38it/s]\n",
      "  1%|          | 8/845 [00:00<00:11, 73.03it/s]"
     ]
    },
    {
     "name": "stdout",
     "output_type": "stream",
     "text": [
      "Epoch [8/10] Batch [15/845]=> Loss: 7.03342\n"
     ]
    },
    {
     "name": "stderr",
     "output_type": "stream",
     "text": [
      "100%|██████████| 845/845 [00:11<00:00, 72.39it/s]\n",
      "  1%|          | 7/845 [00:00<00:12, 68.72it/s]"
     ]
    },
    {
     "name": "stdout",
     "output_type": "stream",
     "text": [
      "Epoch [9/10] Batch [15/845]=> Loss: 7.03346\n"
     ]
    },
    {
     "name": "stderr",
     "output_type": "stream",
     "text": [
      "100%|██████████| 845/845 [00:11<00:00, 72.31it/s]\n"
     ]
    },
    {
     "name": "stdout",
     "output_type": "stream",
     "text": [
      "Epoch [10/10] Batch [15/845]=> Loss: 7.03337\n",
      "after finetuning : auroc = 0.866405945970406\n",
      "Global sparsity after finetuned: 97.77%\n",
      "0.99\n"
     ]
    },
    {
     "name": "stderr",
     "output_type": "stream",
     "text": [
      "  1%|          | 8/845 [00:00<00:11, 71.39it/s]"
     ]
    },
    {
     "name": "stdout",
     "output_type": "stream",
     "text": [
      "before finetuning : auroc = 0.7273581383773022\n",
      "Global sparsity before finetuned: 98.77%\n"
     ]
    },
    {
     "name": "stderr",
     "output_type": "stream",
     "text": [
      "100%|██████████| 845/845 [00:11<00:00, 72.34it/s]\n",
      "  1%|          | 7/845 [00:00<00:12, 67.72it/s]"
     ]
    },
    {
     "name": "stdout",
     "output_type": "stream",
     "text": [
      "Epoch [1/10] Batch [15/845]=> Loss: 7.25920\n"
     ]
    },
    {
     "name": "stderr",
     "output_type": "stream",
     "text": [
      "100%|██████████| 845/845 [00:11<00:00, 72.90it/s]\n",
      "  1%|          | 8/845 [00:00<00:11, 71.82it/s]"
     ]
    },
    {
     "name": "stdout",
     "output_type": "stream",
     "text": [
      "Epoch [2/10] Batch [15/845]=> Loss: 7.03253\n"
     ]
    },
    {
     "name": "stderr",
     "output_type": "stream",
     "text": [
      "100%|██████████| 845/845 [00:11<00:00, 71.38it/s]\n",
      "  1%|          | 8/845 [00:00<00:11, 71.54it/s]"
     ]
    },
    {
     "name": "stdout",
     "output_type": "stream",
     "text": [
      "Epoch [3/10] Batch [15/845]=> Loss: 7.03255\n"
     ]
    },
    {
     "name": "stderr",
     "output_type": "stream",
     "text": [
      "100%|██████████| 845/845 [00:11<00:00, 73.00it/s]\n",
      "  1%|          | 8/845 [00:00<00:11, 71.00it/s]"
     ]
    },
    {
     "name": "stdout",
     "output_type": "stream",
     "text": [
      "Epoch [4/10] Batch [15/845]=> Loss: 7.03250\n"
     ]
    },
    {
     "name": "stderr",
     "output_type": "stream",
     "text": [
      "100%|██████████| 845/845 [00:11<00:00, 72.30it/s]\n",
      "  1%|          | 8/845 [00:00<00:11, 70.71it/s]"
     ]
    },
    {
     "name": "stdout",
     "output_type": "stream",
     "text": [
      "Epoch [5/10] Batch [15/845]=> Loss: 7.03250\n"
     ]
    },
    {
     "name": "stderr",
     "output_type": "stream",
     "text": [
      "100%|██████████| 845/845 [00:11<00:00, 72.18it/s]\n",
      "  1%|          | 7/845 [00:00<00:13, 62.95it/s]"
     ]
    },
    {
     "name": "stdout",
     "output_type": "stream",
     "text": [
      "Epoch [6/10] Batch [15/845]=> Loss: 7.03239\n"
     ]
    },
    {
     "name": "stderr",
     "output_type": "stream",
     "text": [
      "100%|██████████| 845/845 [00:11<00:00, 72.29it/s]\n",
      "  1%|          | 7/845 [00:00<00:12, 68.69it/s]"
     ]
    },
    {
     "name": "stdout",
     "output_type": "stream",
     "text": [
      "Epoch [7/10] Batch [15/845]=> Loss: 7.03264\n"
     ]
    },
    {
     "name": "stderr",
     "output_type": "stream",
     "text": [
      "100%|██████████| 845/845 [00:11<00:00, 72.10it/s]\n",
      "  1%|          | 7/845 [00:00<00:12, 68.54it/s]"
     ]
    },
    {
     "name": "stdout",
     "output_type": "stream",
     "text": [
      "Epoch [8/10] Batch [15/845]=> Loss: 7.03264\n"
     ]
    },
    {
     "name": "stderr",
     "output_type": "stream",
     "text": [
      "100%|██████████| 845/845 [00:11<00:00, 72.58it/s]\n",
      "  1%|          | 8/845 [00:00<00:11, 70.75it/s]"
     ]
    },
    {
     "name": "stdout",
     "output_type": "stream",
     "text": [
      "Epoch [9/10] Batch [15/845]=> Loss: 7.03257\n"
     ]
    },
    {
     "name": "stderr",
     "output_type": "stream",
     "text": [
      "100%|██████████| 845/845 [00:11<00:00, 71.99it/s]\n"
     ]
    },
    {
     "name": "stdout",
     "output_type": "stream",
     "text": [
      "Epoch [10/10] Batch [15/845]=> Loss: 7.03255\n",
      "after finetuning : auroc = 0.867048395855016\n",
      "Global sparsity after finetuned: 98.77%\n"
     ]
    }
   ],
   "source": [
    "ind_recon_pruned = []\n",
    "ood_recon_pruned = []\n",
    "ind_recon_mean_pruned = []\n",
    "ood_recon_mean_pruned = []\n",
    "\n",
    "auroc_pruned=[]\n",
    "ind_recon_pruned_finetune = []\n",
    "ood_recon_pruned_finetune = []\n",
    "ind_recon_mean_pruned_finetune = []\n",
    "ood_recon_mean_pruned_finetune = []\n",
    "\n",
    "auroc_pruned_finetune=[]\n",
    "\n",
    "pruned_models = dict()\n",
    "pruned_finetuned_models=dict()\n",
    "\n",
    "xaxis_range = [0,0.1,0.3,0.5,0.7,0.8,0.9,0.91,0.92,0.925,0.93,0.935,0.94,0.945,0.95,0.955,0.96,0.965,0.97,0.98,0.99]\n",
    "\n",
    "\n",
    "for i, percent in enumerate(xaxis_range):\n",
    "    print(percent)\n",
    "    pruned_model = AE(opt.layer_num, opt.h_dim1, opt.h_dim2, opt.h_dim3,opt.h_dim4,opt.h_dim5,opt.h_dim6)\n",
    "    model_name = 'MNIST_{}_{}_{}_{}_{}_{}'.format(opt.h_dim1, opt.h_dim2, opt.h_dim3, opt.h_dim4, opt.h_dim5, opt.h_dim6)\n",
    "    model_path = model_name+'_holdout_{}_epoch_100.pth'.format(opt.one_class)\n",
    "    pruned_model.load_state_dict(torch.load(os.path.join('trained_model',model_path),map_location=torch.device('cpu')))\n",
    "    \n",
    "    parameters_to_prune = (\n",
    "        (pruned_model.encoder.fc1,'weight'),\n",
    "        (pruned_model.encoder.fc2,'weight'),\n",
    "        (pruned_model.encoder.fc3,'weight'),\n",
    "        (pruned_model.encoder.fc4,'weight'),\n",
    "\n",
    "        (pruned_model.decoder.fc1,'weight'),\n",
    "        (pruned_model.decoder.fc2,'weight'),\n",
    "        (pruned_model.decoder.fc3,'weight'),\n",
    "        (pruned_model.decoder.fc4,'weight'),\n",
    "    )\n",
    "    \n",
    "    prune.global_unstructured(\n",
    "    parameters_to_prune,\n",
    "    pruning_method = prune.L1Unstructured,\n",
    "    amount=percent)\n",
    "    \n",
    "    pruned_models['{:.3f}'.format(percent)]=pruned_model\n",
    "    \n",
    "    pruned_model.eval()\n",
    "    pruned_model.cuda()\n",
    "    avg_loss = 0\n",
    "    step = 0\n",
    "    \n",
    "    for i, (data,label) in enumerate(ind_loader):\n",
    "        step += 1\n",
    "        data = data.reshape(-1,784).cuda()\n",
    "        with torch.no_grad():\n",
    "            recon_error = pruned_model.recon_error(data)\n",
    "        if i==0:\n",
    "            ind_recon = recon_error\n",
    "        else:\n",
    "            ind_recon=torch.cat((ind_recon,recon_error),0)\n",
    "            \n",
    "    pruned_model.eval()\n",
    "    avg_loss = 0\n",
    "    step = 0\n",
    "    for i, (data,label) in enumerate(ood_loader):\n",
    "        step += 1\n",
    "        data = data.reshape(-1,784).cuda()\n",
    "        with torch.no_grad():\n",
    "            recon_error = pruned_model.recon_error(data)\n",
    "        if i==0:\n",
    "            ood_recon = recon_error\n",
    "        else:\n",
    "            ood_recon=torch.cat((ood_recon,recon_error),0)\n",
    "    \n",
    "    ind_size=ind_recon.cpu().numpy().shape[0]\n",
    "    ood_size=ood_recon.cpu().numpy().shape[0]\n",
    "\n",
    "    auroc = metrics.roc_auc_score(np.concatenate((np.zeros(ind_size),np.ones(ood_size))),np.concatenate((ind_recon.cpu().numpy(),ood_recon.cpu().numpy())))\n",
    "    print('before finetuning : auroc = {}'.format(auroc))\n",
    "\n",
    "    ind_recon_pruned.append(ind_recon)\n",
    "    ood_recon_pruned.append(ood_recon)\n",
    "    ind_recon_mean_pruned.append(torch.mean(ind_recon))\n",
    "    ood_recon_mean_pruned.append(torch.mean(ood_recon))\n",
    "\n",
    "    auroc_pruned.append(auroc)\n",
    "    \n",
    "    print(\n",
    "        \"Global sparsity before finetuned: {:.2f}%\".format(\n",
    "            100. * float(\n",
    "                torch.sum(pruned_model.encoder.fc1.weight == 0)\n",
    "                + torch.sum(pruned_model.encoder.fc2.weight == 0)\n",
    "                + torch.sum(pruned_model.encoder.fc3.weight == 0)\n",
    "                + torch.sum(pruned_model.encoder.fc4.weight == 0)\n",
    "\n",
    "                + torch.sum(pruned_model.decoder.fc1.weight == 0)\n",
    "                + torch.sum(pruned_model.decoder.fc2.weight == 0)\n",
    "                + torch.sum(pruned_model.decoder.fc3.weight == 0)\n",
    "                + torch.sum(pruned_model.decoder.fc4.weight == 0)\n",
    "\n",
    "            )\n",
    "            / count_parameters(pruned_model)\n",
    "            )\n",
    "        )\n",
    "    optimizer = torch.optim.Adam(pruned_model.parameters(), opt.lr)\n",
    "    schedular = torch.optim.lr_scheduler.CosineAnnealingLR(optimizer, T_max=opt.finetune_epoch, eta_min=0, last_epoch=-1)\n",
    "\n",
    "    pruned_model.train()\n",
    "    for epoch in range(1, opt.finetune_epoch+ 1):\n",
    "        avg_loss = 0\n",
    "        step = 0\n",
    "        for (data,label) in tqdm(train_loader):\n",
    "            step += 1\n",
    "            data = data.reshape(-1,784).cuda()\n",
    "            optimizer.zero_grad()\n",
    "            recon_error = pruned_model.recon_error(data)\n",
    "            loss = torch.mean(recon_error)\n",
    "            loss.backward()\n",
    "            optimizer.step()\n",
    "            avg_loss += loss\n",
    "#             if i % 100 == 0:    \n",
    "        print('Epoch [{}/{}] Batch [{}/{}]=> Loss: {:.5f}'.format(epoch, opt.finetune_epoch, i,len(train_loader), avg_loss / step))\n",
    "\n",
    "    model_state = pruned_model.state_dict()\n",
    "    #print(model_state)\n",
    "    ckpt_name = '{}_holdout_{}_pruned_finetune'.format(model_name,opt.one_class,epoch)\n",
    "    ckpt_path = os.path.join('trained_model',ckpt_name + \".pth\")\n",
    "    \n",
    "    pruned_model.eval()\n",
    "    pruned_model.cuda()\n",
    "    avg_loss = 0\n",
    "    step = 0\n",
    "    \n",
    "    for i, (data,label) in enumerate(ind_loader):\n",
    "        step += 1\n",
    "        data = data.reshape(-1,784).cuda()\n",
    "        with torch.no_grad():\n",
    "            recon_error = pruned_model.recon_error(data)\n",
    "        if i==0:\n",
    "            ind_recon = recon_error\n",
    "        else:\n",
    "            ind_recon=torch.cat((ind_recon,recon_error),0)\n",
    "            \n",
    "    pruned_model.eval()\n",
    "    avg_loss = 0\n",
    "    step = 0\n",
    "    for i, (data,label) in enumerate(ood_loader):\n",
    "        step += 1\n",
    "        data = data.reshape(-1,784).cuda()\n",
    "        with torch.no_grad():\n",
    "            recon_error = pruned_model.recon_error(data)\n",
    "        if i==0:\n",
    "            ood_recon = recon_error\n",
    "        else:\n",
    "            ood_recon=torch.cat((ood_recon,recon_error),0)\n",
    "    \n",
    "    pruned_finetuned_models['{:.3f}'.format(percent)]=pruned_model\n",
    "    ind_size=ind_recon.cpu().numpy().shape[0]\n",
    "    ood_size=ood_recon.cpu().numpy().shape[0]\n",
    "\n",
    "    auroc = metrics.roc_auc_score(np.concatenate((np.zeros(ind_size),np.ones(ood_size))),np.concatenate((ind_recon.cpu().numpy(),ood_recon.cpu().numpy())))\n",
    "    print('after finetuning : auroc = {}'.format(auroc))\n",
    "    ind_recon_pruned_finetune.append(ind_recon)\n",
    "    ood_recon_pruned_finetune.append(ood_recon)\n",
    "    ind_recon_mean_pruned_finetune.append(torch.mean(ind_recon))\n",
    "    ood_recon_mean_pruned_finetune.append(torch.mean(ood_recon))\n",
    "\n",
    "    auroc_pruned_finetune.append(auroc)\n",
    "    \n",
    "    print(\n",
    "        \"Global sparsity after finetuned: {:.2f}%\".format(\n",
    "            100. * float(\n",
    "                torch.sum(pruned_model.encoder.fc1.weight == 0)\n",
    "                + torch.sum(pruned_model.encoder.fc2.weight == 0)\n",
    "                + torch.sum(pruned_model.encoder.fc3.weight == 0)\n",
    "                + torch.sum(pruned_model.encoder.fc4.weight == 0)\n",
    "\n",
    "                + torch.sum(pruned_model.decoder.fc1.weight == 0)\n",
    "                + torch.sum(pruned_model.decoder.fc2.weight == 0)\n",
    "                + torch.sum(pruned_model.decoder.fc3.weight == 0)\n",
    "                + torch.sum(pruned_model.decoder.fc4.weight == 0)\n",
    "\n",
    "            )\n",
    "            / count_parameters(pruned_model)\n",
    "            )\n",
    "        )"
   ]
  },
  {
   "cell_type": "code",
   "execution_count": 22,
   "id": "concerned-venice",
   "metadata": {},
   "outputs": [],
   "source": [
    "# percent_check = '0.95'\n",
    "\n",
    "# pruned_models[percent_check].eval()\n",
    "# pruned_models[percent_check].cuda()\n",
    "# avg_loss = 0\n",
    "# step = 0\n",
    "# for i, (data,label) in enumerate(ind_loader):\n",
    "#     step += 1\n",
    "#     data = data.reshape(-1,784).cuda()\n",
    "#     with torch.no_grad():\n",
    "#         recon_error = pruned_models[percent_check].recon_error(data)\n",
    "#         representation = pruned_models[percent_check].representation(data)\n",
    "#     if i==0:\n",
    "#         ind_recon = recon_error\n",
    "#         ind_latents = representation\n",
    "#     else:\n",
    "#         ind_recon=torch.cat((ind_recon,recon_error),0)\n",
    "#         ind_latents=torch.cat((ind_latents,representation),0)"
   ]
  },
  {
   "cell_type": "code",
   "execution_count": 23,
   "id": "parental-malpractice",
   "metadata": {},
   "outputs": [],
   "source": [
    "# pruned_models[percent_check].eval()\n",
    "# avg_loss = 0\n",
    "# step = 0\n",
    "# for i, (data,label) in enumerate(ood_loader):\n",
    "#     step += 1\n",
    "#     data = data.reshape(-1,784).cuda()\n",
    "#     with torch.no_grad():\n",
    "#         recon_error = pruned_models[percent_check].recon_error(data)\n",
    "#         representation = pruned_models[percent_check].representation(data)\n",
    "#     if i==0:\n",
    "#         ood_recon = recon_error\n",
    "#         ood_latents = representation\n",
    "#     else:\n",
    "#         ood_recon=torch.cat((ood_recon,recon_error),0)\n",
    "#         ood_latents=torch.cat((ood_latents,representation),0)"
   ]
  },
  {
   "cell_type": "code",
   "execution_count": 24,
   "id": "isolated-probability",
   "metadata": {},
   "outputs": [],
   "source": [
    "# TSNE_ind_latents = TSNE(n_components=2).fit_transform(ind_latents.cpu().numpy())\n",
    "# TSNE_ood_latents = TSNE(n_components=2).fit_transform(ood_latents.cpu().numpy())"
   ]
  },
  {
   "cell_type": "code",
   "execution_count": 25,
   "id": "entire-temple",
   "metadata": {},
   "outputs": [],
   "source": [
    "# plt.scatter(TSNE_ind_latents[:,0],TSNE_ind_latents[:,1])\n",
    "# plt.scatter(TSNE_ood_latents[:,0],TSNE_ood_latents[:,1])"
   ]
  },
  {
   "cell_type": "code",
   "execution_count": 26,
   "id": "twenty-statement",
   "metadata": {},
   "outputs": [],
   "source": [
    "# pruned_finetuned_models[percent_check].eval()\n",
    "# pruned_finetuned_models[percent_check].cuda()\n",
    "# avg_loss = 0\n",
    "# step = 0\n",
    "# for i, (data,label) in enumerate(ind_loader):\n",
    "#     step += 1\n",
    "#     data = data.reshape(-1,784).cuda()\n",
    "#     with torch.no_grad():\n",
    "#         recon_error = pruned_finetuned_models[percent_check].recon_error(data)\n",
    "#         representation = pruned_finetuned_models[percent_check].representation(data)\n",
    "#     if i==0:\n",
    "#         ind_recon = recon_error\n",
    "#         ind_latents = representation\n",
    "#     else:\n",
    "#         ind_recon=torch.cat((ind_recon,recon_error),0)\n",
    "#         ind_latents=torch.cat((ind_latents,representation),0)\n",
    "        \n",
    "# pruned_finetuned_models[percent_check].eval()\n",
    "# avg_loss = 0\n",
    "# step = 0\n",
    "# for i, (data,label) in enumerate(ood_loader):\n",
    "#     step += 1\n",
    "#     data = data.reshape(-1,784).cuda()\n",
    "#     with torch.no_grad():\n",
    "#         recon_error = pruned_finetuned_models[percent_check].recon_error(data)\n",
    "#         representation = pruned_finetuned_models[percent_check].representation(data)\n",
    "#     if i==0:\n",
    "#         ood_recon = recon_error\n",
    "#         ood_latents = representation\n",
    "#     else:\n",
    "#         ood_recon=torch.cat((ood_recon,recon_error),0)\n",
    "#         ood_latents=torch.cat((ood_latents,representation),0)\n",
    "        \n",
    "# TSNE_ind_latents = TSNE(n_components=2).fit_transform(ind_latents.cpu().numpy())\n",
    "# TSNE_ood_latents = TSNE(n_components=2).fit_transform(ood_latents.cpu().numpy())\n",
    "\n",
    "# plt.scatter(TSNE_ind_latents[:,0],TSNE_ind_latents[:,1])\n",
    "# plt.scatter(TSNE_ood_latents[:,0],TSNE_ood_latents[:,1])"
   ]
  },
  {
   "cell_type": "code",
   "execution_count": 27,
   "id": "colored-microphone",
   "metadata": {},
   "outputs": [],
   "source": [
    "# a = pruned_models[19].decoder.fc1.weight.data.cpu()\n",
    "# b = pruned_models[19].encoder.fc3.weight.data\n",
    "# c = pruned_models[19].encoder.fc2.weight.data\n",
    "# d = pruned_models[19].encoder.fc1.weight.data"
   ]
  },
  {
   "cell_type": "code",
   "execution_count": 28,
   "id": "auburn-apartment",
   "metadata": {},
   "outputs": [],
   "source": [
    "# plt.imshow(((np.abs(a) > 0).sum(axis=1) >0).reshape(28,28))"
   ]
  },
  {
   "cell_type": "code",
   "execution_count": 29,
   "id": "needed-sample",
   "metadata": {},
   "outputs": [],
   "source": [
    "# (np.abs(a)==0).sum()/a.reshape(-1).shape[0]"
   ]
  },
  {
   "cell_type": "code",
   "execution_count": 30,
   "id": "beautiful-beauty",
   "metadata": {},
   "outputs": [],
   "source": [
    "# n_pruned=((np.abs(a)==0).sum()+(np.abs(b)==0).sum()+(np.abs(c)==0).sum()+(np.abs(d)==0).sum())"
   ]
  },
  {
   "cell_type": "code",
   "execution_count": 31,
   "id": "verified-shower",
   "metadata": {},
   "outputs": [],
   "source": [
    "# n_parameters = a.reshape(-1).shape[0]+b.reshape(-1).shape[0]+c.reshape(-1).shape[0]+d.reshape(-1).shape[0]"
   ]
  },
  {
   "cell_type": "code",
   "execution_count": 32,
   "id": "naughty-teach",
   "metadata": {},
   "outputs": [],
   "source": [
    "# n_pruned / n_parameters"
   ]
  },
  {
   "cell_type": "code",
   "execution_count": 33,
   "id": "contained-running",
   "metadata": {},
   "outputs": [],
   "source": [
    "# plt.figure(figsize=(18,8))\n",
    "# plt.imshow(np.abs(a), cmap='gray', interpolation='none');plt.colorbar()"
   ]
  },
  {
   "cell_type": "code",
   "execution_count": 34,
   "id": "contained-madagascar",
   "metadata": {},
   "outputs": [],
   "source": [
    "# (np.abs(a) > 0).sum(axis=0).shape, ((np.abs(a) > 0).sum(axis=0) > 0).sum()"
   ]
  },
  {
   "cell_type": "code",
   "execution_count": 35,
   "id": "surprised-valuation",
   "metadata": {},
   "outputs": [],
   "source": [
    "# (np.abs(a) > 0).sum(axis=1).shape, ((np.abs(a) > 0).sum(axis=1) > 0).sum()"
   ]
  },
  {
   "cell_type": "code",
   "execution_count": 36,
   "id": "vietnamese-netscape",
   "metadata": {},
   "outputs": [],
   "source": [
    "# import matplotlib.pyplot as plt"
   ]
  },
  {
   "cell_type": "code",
   "execution_count": 37,
   "id": "peripheral-somalia",
   "metadata": {},
   "outputs": [],
   "source": [
    "ind_recon_mean_pruned=torch.stack(ind_recon_mean_pruned)\n",
    "ood_recon_mean_pruned=torch.stack(ood_recon_mean_pruned)\n",
    "ind_recon_mean_pruned_finetune=torch.stack(ind_recon_mean_pruned_finetune)\n",
    "ood_recon_mean_pruned_finetune=torch.stack(ood_recon_mean_pruned_finetune)"
   ]
  },
  {
   "cell_type": "code",
   "execution_count": 38,
   "id": "informational-tongue",
   "metadata": {},
   "outputs": [
    {
     "data": {
      "text/plain": [
       "<matplotlib.legend.Legend at 0x7f1f67b47310>"
      ]
     },
     "execution_count": 38,
     "metadata": {},
     "output_type": "execute_result"
    },
    {
     "data": {
      "image/png": "[encoded data removed]",
      "text/plain": [
       "<Figure size 432x288 with 1 Axes>"
      ]
     },
     "metadata": {
      "needs_background": "light"
     },
     "output_type": "display_data"
    }
   ],
   "source": [
    "plt.plot(xaxis_range,ind_recon_mean_pruned.cpu().numpy())\n",
    "plt.plot(xaxis_range,ood_recon_mean_pruned.cpu().numpy())\n",
    "plt.plot(xaxis_range,ind_recon_mean_pruned_finetune.cpu().numpy())\n",
    "plt.plot(xaxis_range,ood_recon_mean_pruned_finetune.cpu().numpy())\n",
    "\n",
    "plt.xlabel('Pruned Ratio')\n",
    "plt.ylabel('Reconstruction Error')\n",
    "plt.legend(['IND','OOD','IND-after-finetune','OOD-after-finetune'])"
   ]
  },
  {
   "cell_type": "code",
   "execution_count": 39,
   "id": "otherwise-middle",
   "metadata": {},
   "outputs": [
    {
     "data": {
      "text/plain": [
       "Text(0.5, 1.0, 'max AUROC 0.931 at pruning ratio 0.95')"
      ]
     },
     "execution_count": 39,
     "metadata": {},
     "output_type": "execute_result"
    },
    {
     "data": {
      "image/png": "[encoded data removed]",
      "text/plain": [
       "<Figure size 432x288 with 1 Axes>"
      ]
     },
     "metadata": {
      "needs_background": "light"
     },
     "output_type": "display_data"
    }
   ],
   "source": [
    "plt.plot(xaxis_range,auroc_pruned)\n",
    "plt.plot(xaxis_range,auroc_pruned_finetune)\n",
    "plt.xlabel('Pruned Ratio')\n",
    "plt.ylabel('AUROC')\n",
    "plt.legend(['pruned','pruned+finetuned'])\n",
    "plt.title('max AUROC {:.3f} at pruning ratio {:.2f}'.format(np.max(auroc_pruned_finetune), xaxis_range[int(np.argmax(auroc_pruned_finetune))]))"
   ]
  },
  {
   "cell_type": "code",
   "execution_count": 40,
   "id": "aerial-benefit",
   "metadata": {},
   "outputs": [
    {
     "data": {
      "text/plain": [
       "'max AUROC 0.931 at pruning ratio 0.95'"
      ]
     },
     "execution_count": 40,
     "metadata": {},
     "output_type": "execute_result"
    }
   ],
   "source": [
    "'max AUROC {:.3f} at pruning ratio {:.2f}'.format(np.max(auroc_pruned_finetune), xaxis_range[int(np.argmax(auroc_pruned_finetune))])"
   ]
  },
  {
   "cell_type": "code",
   "execution_count": null,
   "id": "trained-alignment",
   "metadata": {},
   "outputs": [],
   "source": []
  },
  {
   "cell_type": "code",
   "execution_count": 41,
   "id": "charming-validity",
   "metadata": {},
   "outputs": [],
   "source": [
    "# plt.imshow(train_dataset.data[4])"
   ]
  },
  {
   "cell_type": "code",
   "execution_count": null,
   "id": "detailed-multiple",
   "metadata": {},
   "outputs": [],
   "source": []
  },
  {
   "cell_type": "code",
   "execution_count": 42,
   "id": "delayed-gates",
   "metadata": {},
   "outputs": [
    {
     "data": {
      "text/plain": [
       "Text(0.5, 1.0, '96.00% pruned+finetuned, AUROC=0.912')"
      ]
     },
     "execution_count": 42,
     "metadata": {},
     "output_type": "execute_result"
    },
    {
     "data": {
      "image/png": "[encoded data removed]",
      "text/plain": [
       "<Figure size 432x288 with 1 Axes>"
      ]
     },
     "metadata": {
      "needs_background": "light"
     },
     "output_type": "display_data"
    }
   ],
   "source": [
    "number = int(np.argmax(auroc_pruned_finetune))\n",
    "sns.histplot(ind_recon_pruned_finetune[number].detach().cpu().numpy(),color='blue',stat='density')\n",
    "sns.histplot(ood_recon_pruned_finetune[number].detach().cpu().numpy(),color='red',stat='density')\n",
    "plt.legend(['IND','OOD'])\n",
    "plt.xlabel('Reconstruction Error')\n",
    "plt.title('{:.2f}% pruned+finetuned, AUROC={:.3f}'.format(100*xaxis_range[number],auroc_pruned_finetune[number]))"
   ]
  },
  {
   "cell_type": "code",
   "execution_count": 43,
   "id": "green-colleague",
   "metadata": {},
   "outputs": [
    {
     "data": {
      "text/plain": [
       "Text(0.5, 1.0, '96.00% pruned, AUROC=0.844')"
      ]
     },
     "execution_count": 43,
     "metadata": {},
     "output_type": "execute_result"
    },
    {
     "data": {
      "image/png": "[encoded data removed]",
      "text/plain": [
       "<Figure size 432x288 with 1 Axes>"
      ]
     },
     "metadata": {
      "needs_background": "light"
     },
     "output_type": "display_data"
    }
   ],
   "source": [
    "number = int(np.argmax(auroc_pruned_finetune))\n",
    "sns.histplot(ind_recon_pruned[number].detach().cpu().numpy(),color='blue',stat='density')\n",
    "sns.histplot(ood_recon_pruned[number].detach().cpu().numpy(),color='red',stat='density')\n",
    "plt.legend(['IND','OOD'])\n",
    "plt.xlabel('Reconstruction Error')\n",
    "plt.title('{:.2f}% pruned, AUROC={:.3f}'.format(100*xaxis_range[number],auroc_pruned[number]))"
   ]
  },
  {
   "cell_type": "code",
   "execution_count": 44,
   "id": "natural-collins",
   "metadata": {},
   "outputs": [
    {
     "data": {
      "text/plain": [
       "Text(0.5, 1.0, 'original network, AUROC=0.818')"
      ]
     },
     "execution_count": 44,
     "metadata": {},
     "output_type": "execute_result"
    },
    {
     "data": {
      "image/png": "[encoded data removed]",
      "text/plain": [
       "<Figure size 432x288 with 1 Axes>"
      ]
     },
     "metadata": {
      "needs_background": "light"
     },
     "output_type": "display_data"
    }
   ],
   "source": [
    "number = 0\n",
    "sns.histplot(ind_recon_pruned[number].detach().cpu().numpy(),color='blue',stat='density')\n",
    "sns.histplot(ood_recon_pruned[number].detach().cpu().numpy(),color='red',stat='density')\n",
    "plt.legend(['IND','OOD'])\n",
    "plt.xlabel('Reconstruction Error')\n",
    "plt.title('original network, AUROC={:.3f}'.format(auroc_pruned[number]))"
   ]
  },
  {
   "cell_type": "code",
   "execution_count": null,
   "id": "honey-accent",
   "metadata": {},
   "outputs": [],
   "source": []
  }
 ],
 "metadata": {
  "kernelspec": {
   "display_name": "Python 3",
   "language": "python",
   "name": "python3"
  },
  "language_info": {
   "codemirror_mode": {
    "name": "ipython",
    "version": 3
   },
   "file_extension": ".py",
   "mimetype": "text/x-python",
   "name": "python",
   "nbconvert_exporter": "python",
   "pygments_lexer": "ipython3",
   "version": "3.7.10"
  }
 },
 "nbformat": 4,
 "nbformat_minor": 5
}
