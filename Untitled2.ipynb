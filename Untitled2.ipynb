{
 "cells": [
  {
   "cell_type": "code",
   "execution_count": 1,
   "id": "changed-disco",
   "metadata": {},
   "outputs": [],
   "source": [
    "import torch\n",
    "from torch import nn\n",
    "import torch.nn.utils.prune as prune\n",
    "import torch.nn.functional as F\n",
    "import os\n",
    "import torchvision\n",
    "import sklearn.metrics as metrics\n",
    "import numpy as np\n",
    "import seaborn as sns\n",
    "from tqdm import tqdm, trange\n",
    "import matplotlib.pyplot as plt\n",
    "from torchvision.utils import make_grid, save_image\n",
    "import time\n",
    "from tensorboardX import SummaryWriter\n",
    "import argparse\n",
    "\n"
   ]
  },
  {
   "cell_type": "code",
   "execution_count": 2,
   "id": "hungarian-carroll",
   "metadata": {},
   "outputs": [],
   "source": [
    "sparse_models=dict()\n",
    "xaxis_range = [0,0.1,0.3,0.5,0.7,0.8,0.9,0.91,0.92,0.925,0.93,0.935,0.94,0.945,0.95,0.955,0.96,0.965,0.97,0.98,0.99]"
   ]
  },
  {
   "cell_type": "code",
   "execution_count": null,
   "id": "indoor-twins",
   "metadata": {},
   "outputs": [],
   "source": []
  },
  {
   "cell_type": "code",
   "execution_count": null,
   "id": "wired-norman",
   "metadata": {},
   "outputs": [],
   "source": []
  },
  {
   "cell_type": "code",
   "execution_count": null,
   "id": "proof-density",
   "metadata": {},
   "outputs": [],
   "source": []
  },
  {
   "cell_type": "code",
   "execution_count": 3,
   "id": "choice-party",
   "metadata": {},
   "outputs": [],
   "source": [
    "class opt:\n",
    "    layer_num=784\n",
    "    h_dim1=512\n",
    "    h_dim2=256\n",
    "    h_dim3=128\n",
    "    h_dim4=64\n",
    "    h_dim5 = 0\n",
    "    h_dim6 = 0\n",
    "    one_class=1\n",
    "    lr=0.001\n",
    "    finetune_epoch=30\n",
    "    \n",
    "def count_parameters(model):\n",
    "    return sum(p.numel() for p in model.parameters() if p.requires_grad)\n",
    "\n",
    "class AE(nn.Module):\n",
    "    def __init__(self, x_dim, h_dim1, h_dim2, h_dim3,h_dim4):\n",
    "        super(AE, self).__init__()\n",
    "        self.x_dim = x_dim\n",
    "        # encoder part\n",
    "        self.encoder = Encoder(x_dim, h_dim1, h_dim2,  h_dim3,h_dim4)\n",
    "        # decoder part\n",
    "        self.decoder = Generator(x_dim, h_dim1, h_dim2, h_dim3,h_dim4)\n",
    "    \n",
    "    def recon_error(self, x):\n",
    "        z = self.encoder(x)\n",
    "        x_recon = self.decoder(z)\n",
    "        return torch.norm((x_recon - x), dim=1)\n",
    "    \n",
    "    def forward(self, x):\n",
    "        z = self.encoder(x)\n",
    "        return self.decoder(z)\n",
    "    \n",
    "    def representation(self,x):\n",
    "        z = self.encoder(x)\n",
    "        return z\n",
    "    \n",
    "    def intermediate(self,x,layer):\n",
    "        shapes = [(16,32),(16,16),(8,16),(8,8)]\n",
    "        if layer<4:\n",
    "            inter= self.encoder.intermediate(x,layer)\n",
    "            return inter, shapes[layer]\n",
    "        else:\n",
    "            inter = self.encoder(x)\n",
    "            inter= self.decoder.intermediate(inter,layer-4)\n",
    "            return inter, shapes[2-layer]\n",
    "            \n",
    "        \n",
    "class Encoder(nn.Module):\n",
    "    def __init__(self, x_dim, h_dim1, h_dim2,h_dim3,h_dim4):\n",
    "        super(Encoder, self).__init__()\n",
    "        self.fc1 = nn.Linear(x_dim, h_dim1)\n",
    "        self.fc2 = nn.Linear(h_dim1, h_dim2)\n",
    "        self.fc3 = nn.Linear(h_dim2, h_dim3)\n",
    "        self.fc4 = nn.Linear(h_dim3,h_dim4)\n",
    "    \n",
    "    def forward(self, x):\n",
    "        h = F.relu(self.fc1(x))\n",
    "        h = F.relu(self.fc2(h))\n",
    "        h = F.relu(self.fc3(h))\n",
    "        h = self.fc4(h)\n",
    "        return h\n",
    "    \n",
    "    def intermediate(self,x,layer):\n",
    "        if layer==0:\n",
    "            h = F.relu(self.fc1(x))\n",
    "        elif layer==1:\n",
    "            h = F.relu(self.fc1(x))\n",
    "            h = F.relu(self.fc2(h))\n",
    "        elif layer==2:\n",
    "            h = F.relu(self.fc1(x))\n",
    "            h = F.relu(self.fc2(h))\n",
    "            h = F.relu(self.fc3(h))\n",
    "        elif layer==3:\n",
    "            h = F.relu(self.fc1(x))\n",
    "            h = F.relu(self.fc2(h))\n",
    "            h = F.relu(self.fc3(h))\n",
    "            h = self.fc4(h)\n",
    "            \n",
    "        return h\n",
    "\n",
    "\n",
    "    \n",
    "class Generator(nn.Module):\n",
    "    def __init__(self, x_dim, h_dim1, h_dim2,h_dim3,h_dim4):\n",
    "        super(Generator, self).__init__()\n",
    "        self.fc4 = nn.Linear(h_dim4,h_dim3)\n",
    "        self.fc3 = nn.Linear(h_dim3, h_dim2)\n",
    "        self.fc2 = nn.Linear(h_dim2, h_dim1)\n",
    "        self.fc1 = nn.Linear(h_dim1, x_dim)\n",
    "    \n",
    "    def forward(self, z):\n",
    "        h = F.relu(self.fc4(z))\n",
    "        h = F.relu(self.fc3(h))\n",
    "        h = F.relu(self.fc2(h))\n",
    "        return self.fc1(h)# torch.sigmoid(self.fc1(h))\n",
    "    \n",
    "    def intermediate(self,x,layer):\n",
    "        if layer==0:\n",
    "            h = F.relu(self.fc4(x))\n",
    "        elif layer==1:\n",
    "            h = F.relu(self.fc4(x))\n",
    "            h = F.relu(self.fc3(h))\n",
    "        elif layer==2:\n",
    "            h = F.relu(self.fc4(x))\n",
    "            h = F.relu(self.fc3(h))\n",
    "            h = F.relu(self.fc2(h))\n",
    "        elif layer==3:\n",
    "            h = F.relu(self.fc4(x))\n",
    "            h = F.relu(self.fc3(h))\n",
    "            h = F.relu(self.fc2(h))\n",
    "            h = self.fc1(h)\n",
    "        return h #torch.sigmoid(h)\n",
    "\n",
    "mnist_transform = torchvision.transforms.Compose([\n",
    "    torchvision.transforms.ToTensor(), \n",
    "#     torchvision.transforms.Normalize((0.5,), (1.0,))\n",
    "])\n",
    "\n",
    "ind_dataset = torchvision.datasets.MNIST('./dataset', transform=mnist_transform, train=False, download=True)\n",
    "train_dataset = torchvision.datasets.MNIST('./dataset', transform=mnist_transform, train=True, download=True)\n",
    "\n",
    "idx = train_dataset.targets!=opt.one_class\n",
    "train_dataset.targets = train_dataset.targets[idx]\n",
    "train_dataset.data = train_dataset.data[idx]\n",
    "\n",
    "train_loader = torch.utils.data.DataLoader(dataset=train_dataset, \n",
    "                         batch_size=64,\n",
    "                         shuffle=True)\n",
    "\n",
    "idx = ind_dataset.targets!=opt.one_class\n",
    "ind_dataset.targets = ind_dataset.targets[idx]\n",
    "ind_dataset.data = ind_dataset.data[idx]\n",
    "\n",
    "ind_loader = torch.utils.data.DataLoader(dataset=ind_dataset, \n",
    "                         batch_size=64,\n",
    "                         shuffle=False)\n",
    "\n",
    "mnist_transform = torchvision.transforms.Compose([\n",
    "    torchvision.transforms.ToTensor(), \n",
    "#     torchvision.transforms.Normalize((0.5,), (1.0,))\n",
    "])\n",
    "\n",
    "ood_dataset = torchvision.datasets.MNIST('./dataset', transform=mnist_transform, train=False, download=True)\n",
    "\n",
    "idx = ood_dataset.targets==opt.one_class\n",
    "ood_dataset.targets = ood_dataset.targets[idx]\n",
    "ood_dataset.data = ood_dataset.data[idx]\n",
    "\n",
    "ood_loader = torch.utils.data.DataLoader(dataset=ood_dataset, \n",
    "                         batch_size=64,\n",
    "                         shuffle=False)\n",
    "\n",
    "def reconstrucion_errors(model, loader):\n",
    "    model.eval()\n",
    "    model.cuda()\n",
    "    for i, (data,label) in enumerate(loader):\n",
    "        data = data.reshape(-1,784).cuda()\n",
    "        with torch.no_grad():\n",
    "            recon_error = model.recon_error(data)\n",
    "            representation = model.representation(data)\n",
    "\n",
    "        if i==0:\n",
    "            ood_recon = recon_error\n",
    "            ood_latents = representation\n",
    "\n",
    "        else:\n",
    "            ood_recon=torch.cat((ood_recon,recon_error),0)\n",
    "            ood_latents=torch.cat((ood_latents,representation),0)\n",
    "            \n",
    "    return ood_recon\n",
    "\n",
    "def show_global_sparsity(model, verbose=True):\n",
    "    sparsity = 100. * float(\n",
    "            torch.sum(model.encoder.fc1.weight == 0) \n",
    "            + torch.sum(model.encoder.fc2.weight == 0)\n",
    "            + torch.sum(model.encoder.fc3.weight == 0)\n",
    "            + torch.sum(model.encoder.fc4.weight == 0)\n",
    "            \n",
    "            + torch.sum(model.decoder.fc1.weight == 0)\n",
    "            + torch.sum(model.decoder.fc2.weight == 0)\n",
    "            + torch.sum(model.decoder.fc3.weight == 0)\n",
    "            + torch.sum(model.decoder.fc4.weight == 0)\n",
    "        )/ count_parameters(model)\n",
    "    \n",
    "    if verbose:\n",
    "        print(\n",
    "        \"Global sparsity: {:.2f}%\".format(sparsity)   )\n",
    "            \n",
    "    return sparsity\n",
    "\n",
    "def calculate_auroc(ind_recon, ood_recon):          \n",
    "    ind_size=ind_recon.cpu().numpy().shape[0]\n",
    "    ood_size=ood_recon.cpu().numpy().shape[0]\n",
    "\n",
    "    auroc = metrics.roc_auc_score(np.concatenate((np.zeros(ind_size),np.ones(ood_size))),np.concatenate((ind_recon.cpu().numpy(),ood_recon.cpu().numpy())))\n",
    "            \n",
    "    return auroc\n",
    "            \n",
    "def check_reconstructed_images(model):\n",
    "    test_data = torch.stack([ind_loader.dataset[i][0] for i in range(10)])\n",
    "    recon = model(test_data.reshape(-1,784).cuda()).detach().cpu()\n",
    "    recon = torch.clamp(recon.view(len(recon), 1, 28, 28), 0, 1)\n",
    "    \n",
    "    test_data2 = torch.stack([ood_loader.dataset[i][0] for i in range(10)])\n",
    "    recon2 = model(test_data2.reshape(-1,784).cuda()).detach().cpu()\n",
    "    recon2 = torch.clamp(recon2.view(len(recon), 1, 28, 28), 0, 1)\n",
    "\n",
    "\n",
    "    x_and_recon = torch.cat([test_data, recon, test_data2,recon2])\n",
    "#     img_grid = make_grid(x_and_recon.detach().cpu(), nrow=10, range=(0, 1))\n",
    "#     writer.add_image('inlier_recon_{}'.format(string), img_grid, index)\n",
    "#     plt.figure()\n",
    "#     plt.imshow(img_grid.cpu().numpy().transpose(1,2,0))\n",
    "#     plt.savefig(os.path.join(result_dir,'sparsity_{}_inlier_{}.png'.format(percent, string)))\n",
    "#     plt.close()\n",
    "    \n",
    "#     x_and_recon = torch.cat([test_data, recon])\n",
    "    img_grid = make_grid(x_and_recon.detach().cpu(), nrow=10, range=(0, 1))\n",
    "#     writer.add_image('outier_recon_{}'.format(string), img_grid, index)\n",
    "    plt.figure()\n",
    "    plt.imshow(img_grid.cpu().numpy().transpose(1,2,0))\n",
    "#     plt.savefig(os.path.join(result_dir,'sparsity_{}_outlier_{}.png'.format(percent, string)))\n",
    "#     plt.close()\n",
    "\n",
    "            \n",
    "#==================================================            \n",
    "            \n",
    "# result_dir = f'./btb/{args.run}/leaveout_{opt.one_class}'\n",
    "# if not os.path.isdir(result_dir):\n",
    "#     os.makedirs(result_dir)\n",
    "#     print(f'creating {result_dir}')\n",
    "\n"
   ]
  },
  {
   "cell_type": "code",
   "execution_count": 4,
   "id": "manual-occasions",
   "metadata": {},
   "outputs": [],
   "source": [
    "pruned_model = AE(opt.layer_num, opt.h_dim1, opt.h_dim2, opt.h_dim3,opt.h_dim4)\n",
    "model_name = 'MNIST_{}_{}_{}_{}_{}_{}'.format(opt.h_dim1, opt.h_dim2, opt.h_dim3, opt.h_dim4, opt.h_dim5, opt.h_dim6)\n",
    "model_path = model_name+'_holdout_{}_epoch_100_no_sigmoid.pth'.format(opt.one_class)\n",
    "pruned_model.load_state_dict(torch.load(os.path.join('./trained_models',model_path),map_location=torch.device('cpu')))\n",
    "\n",
    "parameters_to_prune = (\n",
    "    (pruned_model.encoder.fc1,'weight'),\n",
    "    (pruned_model.encoder.fc2,'weight'),\n",
    "    (pruned_model.encoder.fc3,'weight'),\n",
    "    (pruned_model.encoder.fc4,'weight'),\n",
    "\n",
    "    (pruned_model.decoder.fc1,'weight'),\n",
    "    (pruned_model.decoder.fc2,'weight'),\n",
    "    (pruned_model.decoder.fc3,'weight'),\n",
    "    (pruned_model.decoder.fc4,'weight'),\n",
    ")\n",
    "\n",
    "prune.global_unstructured(\n",
    "parameters_to_prune,\n",
    "pruning_method = prune.L1Unstructured,\n",
    "amount=0.95)\n",
    "\n",
    "# pruned_model.load_state_dict(new_sparse_model)"
   ]
  },
  {
   "cell_type": "code",
   "execution_count": null,
   "id": "forward-record",
   "metadata": {},
   "outputs": [],
   "source": []
  },
  {
   "cell_type": "code",
   "execution_count": 5,
   "id": "assisted-clear",
   "metadata": {},
   "outputs": [
    {
     "name": "stdout",
     "output_type": "stream",
     "text": [
      "Global sparsity: 94.78%\n"
     ]
    },
    {
     "data": {
      "text/plain": [
       "94.78182197786903"
      ]
     },
     "execution_count": 5,
     "metadata": {},
     "output_type": "execute_result"
    }
   ],
   "source": [
    "show_global_sparsity(pruned_model)"
   ]
  },
  {
   "cell_type": "code",
   "execution_count": 7,
   "id": "supreme-texas",
   "metadata": {},
   "outputs": [
    {
     "data": {
      "text/plain": [
       "tensor([[0., 0., 0.,  ..., 0., 0., 0.],\n",
       "        [0., 0., 0.,  ..., 0., 0., 0.],\n",
       "        [0., 0., 0.,  ..., 0., 0., 0.],\n",
       "        ...,\n",
       "        [0., 0., 0.,  ..., 0., 0., 0.],\n",
       "        [0., 0., 0.,  ..., 0., 0., 0.],\n",
       "        [0., 0., 0.,  ..., 0., 0., 0.]])"
      ]
     },
     "execution_count": 7,
     "metadata": {},
     "output_type": "execute_result"
    }
   ],
   "source": [
    "pruned_model.encoder.fc1.weight_mask"
   ]
  },
  {
   "cell_type": "code",
   "execution_count": 183,
   "id": "certain-gardening",
   "metadata": {},
   "outputs": [
    {
     "name": "stdout",
     "output_type": "stream",
     "text": [
      "before finetuning : auroc = 0.09278198926133809\n"
     ]
    }
   ],
   "source": [
    "ind_recon = reconstrucion_errors(pruned_model, ind_loader)\n",
    "ood_recon = reconstrucion_errors(pruned_model, ood_loader)\n",
    "\n",
    "auroc = calculate_auroc(ind_recon, ood_recon)\n",
    "print('before finetuning : auroc = {}'.format(auroc))"
   ]
  },
  {
   "cell_type": "code",
   "execution_count": 184,
   "id": "forward-spirituality",
   "metadata": {},
   "outputs": [
    {
     "data": {
      "image/png": "[encoded data removed]",
      "text/plain": [
       "<Figure size 432x288 with 1 Axes>"
      ]
     },
     "metadata": {
      "needs_background": "light"
     },
     "output_type": "display_data"
    }
   ],
   "source": [
    "check_reconstructed_images(pruned_model)"
   ]
  },
  {
   "cell_type": "code",
   "execution_count": 185,
   "id": "directed-tourist",
   "metadata": {},
   "outputs": [
    {
     "name": "stdout",
     "output_type": "stream",
     "text": [
      "Epoch [1/20]=> Loss: 7.40612\n",
      "Epoch [2/20]=> Loss: 7.30787\n",
      "Epoch [3/20]=> Loss: 7.30805\n",
      "Epoch [4/20]=> Loss: 7.30814\n",
      "Epoch [5/20]=> Loss: 7.30799\n",
      "Epoch [6/20]=> Loss: 7.30731\n",
      "Epoch [7/20]=> Loss: 7.30779\n",
      "Epoch [8/20]=> Loss: 7.30732\n",
      "Epoch [9/20]=> Loss: 7.30767\n",
      "Epoch [10/20]=> Loss: 7.30778\n",
      "Epoch [11/20]=> Loss: 7.30685\n",
      "Epoch [12/20]=> Loss: 7.30710\n",
      "Epoch [13/20]=> Loss: 7.30732\n",
      "Epoch [14/20]=> Loss: 7.30694\n",
      "Epoch [15/20]=> Loss: 7.30701\n",
      "Epoch [16/20]=> Loss: 7.30760\n",
      "Epoch [17/20]=> Loss: 7.30726\n",
      "Epoch [18/20]=> Loss: 7.30711\n",
      "Epoch [19/20]=> Loss: 7.30661\n",
      "Epoch [20/20]=> Loss: 7.30695\n"
     ]
    }
   ],
   "source": [
    "opt.finetune_epoch = 20\n",
    "\n",
    "optimizer = torch.optim.Adam(pruned_model.parameters(), 0.001)\n",
    "schedular = torch.optim.lr_scheduler.CosineAnnealingLR(optimizer, T_max=opt.finetune_epoch, eta_min=0, last_epoch=-1)\n",
    "\n",
    "pruned_model.train()\n",
    "\n",
    "for epoch in range(1, opt.finetune_epoch + 1):\n",
    "    avg_loss = 0\n",
    "    step = 0\n",
    "    for (data,label) in train_loader:\n",
    "        step += 1\n",
    "        data = data.reshape(-1,784).cuda()\n",
    "        optimizer.zero_grad()\n",
    "        recon_error = pruned_model.recon_error(data)\n",
    "        loss = torch.mean(recon_error)\n",
    "        loss.backward()\n",
    "        optimizer.step()\n",
    "        avg_loss += loss\n",
    "#             if i % 100 == 0:    \n",
    "    print('Epoch [{}/{}]=> Loss: {:.5f}'.format(epoch, opt.finetune_epoch,  avg_loss / step))"
   ]
  },
  {
   "cell_type": "code",
   "execution_count": 186,
   "id": "unsigned-composer",
   "metadata": {},
   "outputs": [
    {
     "name": "stdout",
     "output_type": "stream",
     "text": [
      "Global sparsity: 94.78%\n"
     ]
    },
    {
     "data": {
      "text/plain": [
       "94.78182197786903"
      ]
     },
     "execution_count": 186,
     "metadata": {},
     "output_type": "execute_result"
    }
   ],
   "source": [
    "show_global_sparsity(pruned_model)"
   ]
  },
  {
   "cell_type": "code",
   "execution_count": 187,
   "id": "furnished-school",
   "metadata": {},
   "outputs": [
    {
     "name": "stdout",
     "output_type": "stream",
     "text": [
      "after finetuning : auroc = 0.22934348064829513\n"
     ]
    }
   ],
   "source": [
    "ind_recon = reconstrucion_errors(pruned_model, ind_loader)\n",
    "ood_recon = reconstrucion_errors(pruned_model, ood_loader)\n",
    "\n",
    "auroc = calculate_auroc(ind_recon, ood_recon)\n",
    "print('after finetuning : auroc = {}'.format(auroc))"
   ]
  },
  {
   "cell_type": "code",
   "execution_count": 188,
   "id": "auburn-matter",
   "metadata": {},
   "outputs": [
    {
     "data": {
      "image/png": "[encoded data removed]",
      "text/plain": [
       "<Figure size 432x288 with 1 Axes>"
      ]
     },
     "metadata": {
      "needs_background": "light"
     },
     "output_type": "display_data"
    }
   ],
   "source": [
    "check_reconstructed_images(pruned_model)"
   ]
  },
  {
   "cell_type": "code",
   "execution_count": 17,
   "id": "certified-edward",
   "metadata": {},
   "outputs": [
    {
     "data": {
      "text/plain": [
       "(tensor(7.3147, device='cuda:0'), tensor(6.4867, device='cuda:0'))"
      ]
     },
     "execution_count": 17,
     "metadata": {},
     "output_type": "execute_result"
    }
   ],
   "source": [
    "ind_recon.mean(), ood_recon.mean()"
   ]
  },
  {
   "cell_type": "code",
   "execution_count": 277,
   "id": "rotary-corps",
   "metadata": {},
   "outputs": [
    {
     "data": {
      "text/plain": [
       "<AxesSubplot:ylabel='Density'>"
      ]
     },
     "execution_count": 277,
     "metadata": {},
     "output_type": "execute_result"
    },
    {
     "data": {
      "image/png": "[encoded data removed]",
      "text/plain": [
       "<Figure size 432x288 with 1 Axes>"
      ]
     },
     "metadata": {
      "needs_background": "light"
     },
     "output_type": "display_data"
    }
   ],
   "source": [
    "import seaborn as sns\n",
    "sns.histplot(ind_recon.cpu().numpy(),stat='density',color='blue')\n",
    "sns.histplot(ood_recon.cpu().numpy(),stat='density',color='red')"
   ]
  },
  {
   "cell_type": "code",
   "execution_count": 193,
   "id": "pressing-cause",
   "metadata": {},
   "outputs": [],
   "source": [
    "x=[]\n",
    "\n",
    "x.append(torch.Tensor(np.zeros((30,10))))\n",
    "x.append(torch.Tensor(np.zeros((30,10))))\n",
    "x.append(torch.Tensor(np.zeros((20,10))))\n"
   ]
  },
  {
   "cell_type": "code",
   "execution_count": 195,
   "id": "twenty-brother",
   "metadata": {},
   "outputs": [
    {
     "data": {
      "text/plain": [
       "torch.Size([80, 10])"
      ]
     },
     "execution_count": 195,
     "metadata": {},
     "output_type": "execute_result"
    }
   ],
   "source": [
    "torch.cat(x).shape"
   ]
  },
  {
   "cell_type": "code",
   "execution_count": 196,
   "id": "suburban-staff",
   "metadata": {},
   "outputs": [],
   "source": [
    "from plotly.offline import plot\n",
    "import plotly.graph_objs as go\n"
   ]
  },
  {
   "cell_type": "code",
   "execution_count": null,
   "id": "chinese-arcade",
   "metadata": {},
   "outputs": [],
   "source": []
  },
  {
   "cell_type": "code",
   "execution_count": 197,
   "id": "second-semiconductor",
   "metadata": {},
   "outputs": [
    {
     "data": {
      "text/html": [
       "        <script type=\"text/javascript\">\n",
       "        window.PlotlyConfig = {MathJaxConfig: 'local'};\n",
       "        if (window.MathJax) {MathJax.Hub.Config({SVG: {font: \"STIX-Web\"}});}\n",
       "        if (typeof require !== 'undefined') {\n",
       "        require.undef(\"plotly\");\n",
       "        requirejs.config({\n",
       "            paths: {\n",
       "                'plotly': ['https://cdn.plot.ly/plotly-latest.min']\n",
       "            }\n",
       "        });\n",
       "        require(['plotly'], function(Plotly) {\n",
       "            window._Plotly = Plotly;\n",
       "        });\n",
       "        }\n",
       "        </script>\n",
       "        "
      ]
     },
     "metadata": {},
     "output_type": "display_data"
    }
   ],
   "source": [
    "from plotly.offline import init_notebook_mode\n",
    "init_notebook_mode(connected=True)\n"
   ]
  },
  {
   "cell_type": "code",
   "execution_count": 199,
   "id": "cathedral-looking",
   "metadata": {},
   "outputs": [],
   "source": [
    "from sklearn.decomposition import PCA"
   ]
  },
  {
   "cell_type": "code",
   "execution_count": 203,
   "id": "written-gospel",
   "metadata": {},
   "outputs": [],
   "source": [
    "data = torch.load('./btb_modified/finetune_epoch_20/leaveout_1/sparsity_0_after_FT_representations.pkl')\n",
    "\n",
    "PCA_data = PCA(n_components=3).fit_transform(data.detach().cpu().numpy())"
   ]
  },
  {
   "cell_type": "code",
   "execution_count": 207,
   "id": "stock-showcase",
   "metadata": {},
   "outputs": [],
   "source": [
    "data = go.Scatter3d(\n",
    "    x=PCA_data[:,0],\n",
    "    y=PCA_data[:,1],\n",
    "    z=PCA_data[:,2],\n",
    "#     text = ['point #{}'.format(i) for i in range(X.shape[0])],\n",
    "    mode='markers',\n",
    "    marker=dict(\n",
    "        size=3,\n",
    "#         color=color,\n",
    "#         colorscale='Jet',\n",
    "        line=dict(\n",
    "            #color='rgba(217, 217, 217, 0.14)',\n",
    "            #color='rgb(217, 217, 217)',\n",
    "            width=0.0\n",
    "        ),\n",
    "        opacity=0.8\n",
    "    )\n",
    ")"
   ]
  },
  {
   "cell_type": "code",
   "execution_count": 208,
   "id": "reliable-engineering",
   "metadata": {},
   "outputs": [
    {
     "name": "stderr",
     "output_type": "stream",
     "text": [
      "/home/yhpark/anaconda3/envs/yhpark/lib/python3.7/site-packages/plotly/graph_objs/_deprecations.py:410: DeprecationWarning:\n",
      "\n",
      "plotly.graph_objs.Margin is deprecated.\n",
      "Please replace it with one of the following more specific types\n",
      "  - plotly.graph_objs.layout.Margin\n",
      "\n",
      "\n"
     ]
    }
   ],
   "source": [
    "layout = go.Layout(\n",
    "    autosize=False,\n",
    "    width=500,\n",
    "    height=500,\n",
    "    margin=go.Margin(\n",
    "        l=50,\n",
    "        r=50,\n",
    "        b=100,\n",
    "        t=100,\n",
    "        pad=4\n",
    "    ),\n",
    "    #paper_bgcolor='#7f7f7f',\n",
    "    #plot_bgcolor='#c7c7c7'\n",
    ")\n"
   ]
  },
  {
   "cell_type": "code",
   "execution_count": 209,
   "id": "stuffed-carry",
   "metadata": {},
   "outputs": [],
   "source": [
    "fig = go.Figure(data=[data], layout=layout)\n"
   ]
  },
  {
   "cell_type": "code",
   "execution_count": 215,
   "id": "proud-restriction",
   "metadata": {},
   "outputs": [
    {
     "data": {
      "text/plain": [
       "'./btb_modified/finetune_epoch_20/leaveout_1/sparsity_0_representations.html'"
      ]
     },
     "execution_count": 215,
     "metadata": {},
     "output_type": "execute_result"
    }
   ],
   "source": [
    "from plotly.offline import plot\n",
    "plot(fig, filename='./btb_modified/finetune_epoch_20/leaveout_1/sparsity_0_representations.html', auto_open=False)\n"
   ]
  },
  {
   "cell_type": "code",
   "execution_count": 4,
   "id": "overall-tribute",
   "metadata": {},
   "outputs": [],
   "source": [
    "from snip import *"
   ]
  },
  {
   "cell_type": "code",
   "execution_count": 5,
   "id": "broke-bolivia",
   "metadata": {},
   "outputs": [
    {
     "data": {
      "text/plain": [
       "AE(\n",
       "  (encoder): Encoder(\n",
       "    (fc1): Linear(in_features=784, out_features=512, bias=True)\n",
       "    (fc2): Linear(in_features=512, out_features=256, bias=True)\n",
       "    (fc3): Linear(in_features=256, out_features=128, bias=True)\n",
       "    (fc4): Linear(in_features=128, out_features=64, bias=True)\n",
       "  )\n",
       "  (decoder): Generator(\n",
       "    (fc4): Linear(in_features=64, out_features=128, bias=True)\n",
       "    (fc3): Linear(in_features=128, out_features=256, bias=True)\n",
       "    (fc2): Linear(in_features=256, out_features=512, bias=True)\n",
       "    (fc1): Linear(in_features=512, out_features=784, bias=True)\n",
       "  )\n",
       ")"
      ]
     },
     "execution_count": 5,
     "metadata": {},
     "output_type": "execute_result"
    }
   ],
   "source": [
    "model = AE(opt.layer_num, opt.h_dim1, opt.h_dim2, opt.h_dim3,opt.h_dim4)\n",
    "model.cuda()"
   ]
  },
  {
   "cell_type": "code",
   "execution_count": 6,
   "id": "healthy-timer",
   "metadata": {},
   "outputs": [
    {
     "name": "stdout",
     "output_type": "stream",
     "text": [
      "**\n",
      "AE(\n",
      "  (encoder): Encoder(\n",
      "    (fc1): Linear(in_features=784, out_features=512, bias=True)\n",
      "    (fc2): Linear(in_features=512, out_features=256, bias=True)\n",
      "    (fc3): Linear(in_features=256, out_features=128, bias=True)\n",
      "    (fc4): Linear(in_features=128, out_features=64, bias=True)\n",
      "  )\n",
      "  (decoder): Generator(\n",
      "    (fc4): Linear(in_features=64, out_features=128, bias=True)\n",
      "    (fc3): Linear(in_features=128, out_features=256, bias=True)\n",
      "    (fc2): Linear(in_features=256, out_features=512, bias=True)\n",
      "    (fc1): Linear(in_features=512, out_features=784, bias=True)\n",
      "  )\n",
      ")\n",
      "**\n",
      "Encoder(\n",
      "  (fc1): Linear(in_features=784, out_features=512, bias=True)\n",
      "  (fc2): Linear(in_features=512, out_features=256, bias=True)\n",
      "  (fc3): Linear(in_features=256, out_features=128, bias=True)\n",
      "  (fc4): Linear(in_features=128, out_features=64, bias=True)\n",
      ")\n",
      "**\n",
      "Linear(in_features=784, out_features=512, bias=True)\n",
      "torch.Size([512, 784])\n",
      "**\n",
      "Linear(in_features=512, out_features=256, bias=True)\n",
      "torch.Size([256, 512])\n",
      "**\n",
      "Linear(in_features=256, out_features=128, bias=True)\n",
      "torch.Size([128, 256])\n",
      "**\n",
      "Linear(in_features=128, out_features=64, bias=True)\n",
      "torch.Size([64, 128])\n",
      "**\n",
      "Generator(\n",
      "  (fc4): Linear(in_features=64, out_features=128, bias=True)\n",
      "  (fc3): Linear(in_features=128, out_features=256, bias=True)\n",
      "  (fc2): Linear(in_features=256, out_features=512, bias=True)\n",
      "  (fc1): Linear(in_features=512, out_features=784, bias=True)\n",
      ")\n",
      "**\n",
      "Linear(in_features=64, out_features=128, bias=True)\n",
      "torch.Size([128, 64])\n",
      "**\n",
      "Linear(in_features=128, out_features=256, bias=True)\n",
      "torch.Size([256, 128])\n",
      "**\n",
      "Linear(in_features=256, out_features=512, bias=True)\n",
      "torch.Size([512, 256])\n",
      "**\n",
      "Linear(in_features=512, out_features=784, bias=True)\n",
      "torch.Size([784, 512])\n",
      "tensor(120422, device='cuda:0')\n"
     ]
    }
   ],
   "source": [
    "masks = SNIP(model, 0.3, train_loader, [torch.Size([784,512])], 0)"
   ]
  },
  {
   "cell_type": "code",
   "execution_count": 10,
   "id": "metric-frederick",
   "metadata": {},
   "outputs": [
    {
     "data": {
      "text/plain": [
       "tensor(0.7000, device='cuda:0')"
      ]
     },
     "execution_count": 10,
     "metadata": {},
     "output_type": "execute_result"
    }
   ],
   "source": [
    "layer_num = 0\n",
    "(masks[layer_num]==0).sum()/((masks[layer_num]==0).sum()+(masks[layer_num]==1).sum())"
   ]
  },
  {
   "cell_type": "code",
   "execution_count": 6,
   "id": "private-metallic",
   "metadata": {},
   "outputs": [],
   "source": [
    "percent = 0.3\n",
    "# # pruned_model = AE(opt.layer_num, opt.h_dim1, opt.h_dim2, opt.h_dim3,opt.h_dim4)\n",
    "# # model_name = 'MNIST_{}_{}_{}_{}_{}_{}'.format(opt.h_dim1, opt.h_dim2, opt.h_dim3, opt.h_dim4, opt.h_dim5, opt.h_dim6)\n",
    "# # model_path = model_name+'_holdout_{}_epoch_100_no_sigmoid.pth'.format(opt.one_class)\n",
    "# # pruned_model.load_state_dict(torch.load(os.path.join('./trained_models',model_path),map_location=torch.device('cpu')))\n",
    "\n",
    "pruned_model = AE(opt.layer_num, opt.h_dim1, opt.h_dim2, opt.h_dim3,opt.h_dim4)\n",
    "pruned_model.cuda()\n",
    "\n",
    "\n",
    "from snip import *\n",
    "\n",
    "parameters_shapes_to_prune = [pruned_model.encoder.fc3.weight.shape, pruned_model.decoder.fc3.weight.shape]\n",
    "\n",
    "masks = SNIP(pruned_model, 1.0-percent, train_loader, parameters_shapes_to_prune, 0)"
   ]
  },
  {
   "cell_type": "code",
   "execution_count": 7,
   "id": "express-clerk",
   "metadata": {},
   "outputs": [
    {
     "data": {
      "text/plain": [
       "[tensor([[1., 0., 1.,  ..., 1., 1., 1.],\n",
       "         [1., 0., 1.,  ..., 1., 1., 1.],\n",
       "         [1., 0., 1.,  ..., 1., 1., 1.],\n",
       "         ...,\n",
       "         [1., 1., 1.,  ..., 1., 1., 1.],\n",
       "         [1., 0., 1.,  ..., 0., 1., 1.],\n",
       "         [1., 1., 1.,  ..., 0., 1., 1.]], device='cuda:0'),\n",
       " tensor([[1., 1., 1.,  ..., 1., 1., 1.],\n",
       "         [1., 1., 1.,  ..., 1., 1., 1.],\n",
       "         [1., 1., 1.,  ..., 1., 1., 1.],\n",
       "         ...,\n",
       "         [1., 1., 1.,  ..., 1., 1., 1.],\n",
       "         [1., 1., 1.,  ..., 1., 1., 0.],\n",
       "         [1., 0., 0.,  ..., 1., 1., 0.]], device='cuda:0')]"
      ]
     },
     "execution_count": 7,
     "metadata": {},
     "output_type": "execute_result"
    }
   ],
   "source": [
    "masks"
   ]
  },
  {
   "cell_type": "code",
   "execution_count": 11,
   "id": "looking-separate",
   "metadata": {},
   "outputs": [],
   "source": [
    "parameters_to_prune = (\n",
    "#         (pruned_model.encoder.fc1,'weight'),\n",
    "#         (pruned_model.encoder.fc2,'weight'),\n",
    "    (pruned_model.encoder.fc3,'weight'),\n",
    "#         (pruned_model.encoder.fc4,'weight'),\n",
    "\n",
    "#         (pruned_model.decoder.fc1,'weight'),\n",
    "#         (pruned_model.decoder.fc2,'weight'),\n",
    "    (pruned_model.decoder.fc3,'weight'),\n",
    "#         (pruned_model.decoder.fc4,'weight'),\n",
    ")\n",
    "\n",
    "        \n",
    "prune.global_unstructured(\n",
    "parameters_to_prune,\n",
    "pruning_method = prune.L1Unstructured,\n",
    "amount=percent)\n",
    "\n",
    "\n",
    "\n"
   ]
  },
  {
   "cell_type": "code",
   "execution_count": 14,
   "id": "respiratory-expert",
   "metadata": {},
   "outputs": [
    {
     "data": {
      "text/plain": [
       "tensor([[1., 0., 0.,  ..., 0., 0., 0.],\n",
       "        [1., 0., 1.,  ..., 1., 0., 0.],\n",
       "        [1., 0., 0.,  ..., 0., 1., 0.],\n",
       "        ...,\n",
       "        [0., 1., 1.,  ..., 1., 1., 0.],\n",
       "        [1., 0., 0.,  ..., 1., 0., 1.],\n",
       "        [1., 0., 0.,  ..., 0., 0., 0.]], device='cuda:0')"
      ]
     },
     "execution_count": 14,
     "metadata": {},
     "output_type": "execute_result"
    }
   ],
   "source": [
    "pruned_model.encoder.fc3.weight_mask"
   ]
  },
  {
   "cell_type": "code",
   "execution_count": 15,
   "id": "velvet-realtor",
   "metadata": {},
   "outputs": [],
   "source": [
    "pruned_model.encoder.fc3.weight_mask = masks[0]"
   ]
  },
  {
   "cell_type": "code",
   "execution_count": 16,
   "id": "antique-reduction",
   "metadata": {},
   "outputs": [
    {
     "data": {
      "text/plain": [
       "tensor([[1., 0., 1.,  ..., 1., 1., 1.],\n",
       "        [1., 0., 1.,  ..., 1., 1., 1.],\n",
       "        [1., 0., 1.,  ..., 1., 1., 1.],\n",
       "        ...,\n",
       "        [1., 1., 1.,  ..., 1., 1., 1.],\n",
       "        [1., 0., 1.,  ..., 0., 1., 1.],\n",
       "        [1., 1., 1.,  ..., 0., 1., 1.]], device='cuda:0')"
      ]
     },
     "execution_count": 16,
     "metadata": {},
     "output_type": "execute_result"
    }
   ],
   "source": [
    "pruned_model.encoder.fc3.weight_mask"
   ]
  },
  {
   "cell_type": "code",
   "execution_count": 18,
   "id": "informal-sixth",
   "metadata": {},
   "outputs": [],
   "source": [
    "pruned_model.encoder.fc3.weight = pruned_model.encoder.fc3.weight_orig * pruned_model.encoder.fc3.weight_mask"
   ]
  },
  {
   "cell_type": "code",
   "execution_count": 19,
   "id": "arctic-population",
   "metadata": {},
   "outputs": [
    {
     "data": {
      "text/plain": [
       "tensor([[ 0.0462, -0.0000,  0.0133,  ...,  0.0359,  0.0065, -0.0076],\n",
       "        [-0.0438,  0.0000, -0.0474,  ..., -0.0481, -0.0244,  0.0146],\n",
       "        [-0.0552,  0.0000,  0.0283,  ...,  0.0066, -0.0424,  0.0220],\n",
       "        ...,\n",
       "        [ 0.0096,  0.0553, -0.0620,  ...,  0.0452, -0.0514,  0.0156],\n",
       "        [-0.0625, -0.0000, -0.0182,  ...,  0.0000, -0.0088,  0.0538],\n",
       "        [-0.0387,  0.0124,  0.0046,  ...,  0.0000, -0.0130,  0.0306]],\n",
       "       device='cuda:0', grad_fn=<MulBackward0>)"
      ]
     },
     "execution_count": 19,
     "metadata": {},
     "output_type": "execute_result"
    }
   ],
   "source": [
    "pruned_model.encoder.fc3.weight"
   ]
  },
  {
   "cell_type": "code",
   "execution_count": 21,
   "id": "present-cornwall",
   "metadata": {},
   "outputs": [
    {
     "name": "stdout",
     "output_type": "stream",
     "text": [
      "Global sparsity: 1.79%\n"
     ]
    },
    {
     "data": {
      "text/plain": [
       "1.7906604495789546"
      ]
     },
     "execution_count": 21,
     "metadata": {},
     "output_type": "execute_result"
    }
   ],
   "source": [
    "show_global_sparsity(pruned_model)"
   ]
  },
  {
   "cell_type": "code",
   "execution_count": 22,
   "id": "reflected-uzbekistan",
   "metadata": {},
   "outputs": [
    {
     "data": {
      "text/plain": [
       "AE(\n",
       "  (encoder): Encoder(\n",
       "    (fc1): Linear(in_features=784, out_features=512, bias=True)\n",
       "    (fc2): Linear(in_features=512, out_features=256, bias=True)\n",
       "    (fc3): Linear(in_features=256, out_features=128, bias=True)\n",
       "    (fc4): Linear(in_features=128, out_features=64, bias=True)\n",
       "  )\n",
       "  (decoder): Generator(\n",
       "    (fc4): Linear(in_features=64, out_features=128, bias=True)\n",
       "    (fc3): Linear(in_features=128, out_features=256, bias=True)\n",
       "    (fc2): Linear(in_features=256, out_features=512, bias=True)\n",
       "    (fc1): Linear(in_features=512, out_features=784, bias=True)\n",
       "  )\n",
       ")"
      ]
     },
     "execution_count": 22,
     "metadata": {},
     "output_type": "execute_result"
    }
   ],
   "source": [
    "model = AE(opt.layer_num, opt.h_dim1, opt.h_dim2, opt.h_dim3,opt.h_dim4)\n",
    "model.cuda()\n",
    "\n",
    "\n"
   ]
  },
  {
   "cell_type": "code",
   "execution_count": 23,
   "id": "selective-boating",
   "metadata": {},
   "outputs": [],
   "source": [
    "parameters_to_prune = (\n",
    "#         (pruned_model.encoder.fc1,'weight'),\n",
    "#         (pruned_model.encoder.fc2,'weight'),\n",
    "    (model.encoder.fc3,'weight'),\n",
    "#         (pruned_model.encoder.fc4,'weight'),\n",
    "\n",
    "#         (pruned_model.decoder.fc1,'weight'),\n",
    "#         (pruned_model.decoder.fc2,'weight'),\n",
    "    (model.decoder.fc3,'weight'),\n",
    "#         (pruned_model.decoder.fc4,'weight'),\n",
    ")\n",
    "\n",
    "        \n",
    "prune.global_unstructured(\n",
    "parameters_to_prune,\n",
    "pruning_method = prune.L1Unstructured,\n",
    "amount=percent)\n",
    "\n",
    "\n"
   ]
  },
  {
   "cell_type": "code",
   "execution_count": 24,
   "id": "double-mounting",
   "metadata": {},
   "outputs": [
    {
     "name": "stdout",
     "output_type": "stream",
     "text": [
      "Global sparsity: 1.71%\n"
     ]
    },
    {
     "data": {
      "text/plain": [
       "1.710366065836175"
      ]
     },
     "execution_count": 24,
     "metadata": {},
     "output_type": "execute_result"
    }
   ],
   "source": [
    "show_global_sparsity(model)"
   ]
  },
  {
   "cell_type": "code",
   "execution_count": 30,
   "id": "french-stone",
   "metadata": {},
   "outputs": [
    {
     "name": "stdout",
     "output_type": "stream",
     "text": [
      "tensor([3, 1, 2, 0])\n"
     ]
    }
   ],
   "source": [
    "x = torch.Tensor([4,2,3,1])\n",
    "_,idx = x.flatten().sort()\n",
    "print(idx)"
   ]
  },
  {
   "cell_type": "code",
   "execution_count": 55,
   "id": "julian-winner",
   "metadata": {},
   "outputs": [
    {
     "data": {
      "text/plain": [
       "tensor([-0.1304], requires_grad=True)"
      ]
     },
     "execution_count": 55,
     "metadata": {},
     "output_type": "execute_result"
    }
   ],
   "source": [
    " torch.randn((1), requires_grad=True)"
   ]
  },
  {
   "cell_type": "code",
   "execution_count": 53,
   "id": "formal-technique",
   "metadata": {},
   "outputs": [
    {
     "data": {
      "text/plain": [
       "tensor([0.])"
      ]
     },
     "execution_count": 53,
     "metadata": {},
     "output_type": "execute_result"
    }
   ],
   "source": [
    "x"
   ]
  },
  {
   "cell_type": "code",
   "execution_count": 56,
   "id": "painful-dependence",
   "metadata": {},
   "outputs": [
    {
     "ename": "NameError",
     "evalue": "name 'autograd' is not defined",
     "output_type": "error",
     "traceback": [
      "\u001b[0;31m---------------------------------------------------------------------------\u001b[0m",
      "\u001b[0;31mNameError\u001b[0m                                 Traceback (most recent call last)",
      "\u001b[0;32m<ipython-input-56-8a2eb9a6741f>\u001b[0m in \u001b[0;36m<module>\u001b[0;34m\u001b[0m\n\u001b[1;32m     37\u001b[0m         \u001b[0;32mreturn\u001b[0m \u001b[0mtorch\u001b[0m\u001b[0;34m.\u001b[0m\u001b[0msigmoid\u001b[0m\u001b[0;34m(\u001b[0m\u001b[0mself\u001b[0m\u001b[0;34m.\u001b[0m\u001b[0mvar_sparsity\u001b[0m\u001b[0;34m)\u001b[0m\u001b[0;34m\u001b[0m\u001b[0;34m\u001b[0m\u001b[0m\n\u001b[1;32m     38\u001b[0m \u001b[0;34m\u001b[0m\u001b[0m\n\u001b[0;32m---> 39\u001b[0;31m \u001b[0;32mclass\u001b[0m \u001b[0mGetSubnet\u001b[0m\u001b[0;34m(\u001b[0m\u001b[0mautograd\u001b[0m\u001b[0;34m.\u001b[0m\u001b[0mFunction\u001b[0m\u001b[0;34m)\u001b[0m\u001b[0;34m:\u001b[0m\u001b[0;34m\u001b[0m\u001b[0;34m\u001b[0m\u001b[0m\n\u001b[0m\u001b[1;32m     40\u001b[0m     \u001b[0;34m@\u001b[0m\u001b[0mstaticmethod\u001b[0m\u001b[0;34m\u001b[0m\u001b[0;34m\u001b[0m\u001b[0m\n\u001b[1;32m     41\u001b[0m     \u001b[0;32mdef\u001b[0m \u001b[0mforward\u001b[0m\u001b[0;34m(\u001b[0m\u001b[0mctx\u001b[0m\u001b[0;34m,\u001b[0m \u001b[0mscores\u001b[0m\u001b[0;34m,\u001b[0m \u001b[0mk\u001b[0m\u001b[0;34m)\u001b[0m\u001b[0;34m:\u001b[0m\u001b[0;34m\u001b[0m\u001b[0;34m\u001b[0m\u001b[0m\n",
      "\u001b[0;31mNameError\u001b[0m: name 'autograd' is not defined"
     ]
    }
   ],
   "source": [
    "class SupermaskLinear(nn.Linear):\n",
    "    def __init__(self, *args, **kwargs):\n",
    "        super().__init__(*args, **kwargs)\n",
    "\n",
    "        # initialize the scores\n",
    "        self.scores = nn.Parameter(torch.Tensor(self.weight.size()))\n",
    "        nn.init.kaiming_uniform_(self.scores, a=math.sqrt(5))\n",
    "\n",
    "        # NOTE: initialize the weights like this.\n",
    "        nn.init.kaiming_normal_(self.weight, mode=\"fan_in\", nonlinearity=\"relu\")\n",
    "\n",
    "        # NOTE: turn the gradient on the weights off\n",
    "        self.weight.requires_grad = False\n",
    "        self.bias.requires_grad = False\n",
    "        self.var_sparsity = nn.Parameter(torch.randn((1), requires_grad=True))\n",
    "        print(self.var_sparsity)\n",
    "\n",
    "    def forward(self, x):\n",
    "        subnet = GetSubnet.apply(self.scores.abs(), 1-torch.sigmoid(self.var_sparsity))\n",
    "        w = self.weight * subnet\n",
    "        return F.linear(x, w, self.bias)\n",
    "#         return x\n",
    "    \n",
    "    def sparsity(self, sparsity):\n",
    "        self.sparsity = torch.log(sparsity/1-sparsity)\n",
    "        self.sparsity.requires_grad = False\n",
    "        \n",
    "    def mask(self):\n",
    "        subnet = GetSubnet.apply(self.scores.abs(), 1-torch.sigmoid(self.var_sparsity))\n",
    "#         print('***')\n",
    "#         print(self.sparsity)\n",
    "#         print(subnet)\n",
    "        return subnet\n",
    "#         return x\n",
    "\n",
    "    def show_sparsity(self):\n",
    "        return torch.sigmoid(self.var_sparsity)\n",
    "\n",
    "class GetSubnet(autograd.Function):\n",
    "    @staticmethod\n",
    "    def forward(ctx, scores, k):\n",
    "        # Get the supermask by sorting the scores and using the top k%\n",
    "        out = scores.clone()\n",
    "        _, idx = scores.flatten().sort()\n",
    "        j = int((1 - k) * scores.numel())\n",
    "\n",
    "        # flat_out and out access the same memory.\n",
    "        flat_out = out.flatten()\n",
    "        flat_out[idx[:j]] = 0\n",
    "        flat_out[idx[j:]] = 1\n",
    "#         print(out)\n",
    "        return out\n",
    "\n",
    "    @staticmethod\n",
    "    def backward(ctx, g):\n",
    "        # send the gradient g straight-through on the backward pass.\n",
    "        return g, None"
   ]
  },
  {
   "cell_type": "code",
   "execution_count": 58,
   "id": "proud-small",
   "metadata": {},
   "outputs": [
    {
     "data": {
      "text/plain": [
       "4"
      ]
     },
     "execution_count": 58,
     "metadata": {},
     "output_type": "execute_result"
    }
   ],
   "source": [
    "len([1,2,3,4])"
   ]
  },
  {
   "cell_type": "code",
   "execution_count": 85,
   "id": "compliant-despite",
   "metadata": {},
   "outputs": [],
   "source": [
    "x=torch.randn(4,requires_grad=True)"
   ]
  },
  {
   "cell_type": "code",
   "execution_count": 94,
   "id": "increasing-corruption",
   "metadata": {},
   "outputs": [
    {
     "data": {
      "text/plain": [
       "tensor([1.9534e-01, 5.8036e-01, 1.4424e-05, 9.1204e-02],\n",
       "       grad_fn=<RsubBackward1>)"
      ]
     },
     "execution_count": 94,
     "metadata": {},
     "output_type": "execute_result"
    }
   ],
   "source": [
    "1-torch.tanh(9 * (x / torch.norm(x))**2)"
   ]
  },
  {
   "cell_type": "code",
   "execution_count": 95,
   "id": "understanding-trainer",
   "metadata": {},
   "outputs": [
    {
     "ename": "AttributeError",
     "evalue": "module 'torch' has no attribute 'sechx'",
     "output_type": "error",
     "traceback": [
      "\u001b[0;31m---------------------------------------------------------------------------\u001b[0m",
      "\u001b[0;31mAttributeError\u001b[0m                            Traceback (most recent call last)",
      "\u001b[0;32m<ipython-input-95-be900e2ddf97>\u001b[0m in \u001b[0;36m<module>\u001b[0;34m\u001b[0m\n\u001b[0;32m----> 1\u001b[0;31m \u001b[0mtorch\u001b[0m\u001b[0;34m.\u001b[0m\u001b[0msechx\u001b[0m\u001b[0;34m\u001b[0m\u001b[0;34m\u001b[0m\u001b[0m\n\u001b[0m",
      "\u001b[0;31mAttributeError\u001b[0m: module 'torch' has no attribute 'sechx'"
     ]
    }
   ],
   "source": []
  },
  {
   "cell_type": "code",
   "execution_count": 81,
   "id": "guided-generation",
   "metadata": {},
   "outputs": [],
   "source": [
    "y = x / torch.norm(x)"
   ]
  },
  {
   "cell_type": "code",
   "execution_count": 82,
   "id": "retained-assignment",
   "metadata": {},
   "outputs": [
    {
     "data": {
      "text/plain": [
       "tensor(1.0000, grad_fn=<CopyBackwards>)"
      ]
     },
     "execution_count": 82,
     "metadata": {},
     "output_type": "execute_result"
    }
   ],
   "source": [
    "torch.norm(y)"
   ]
  },
  {
   "cell_type": "code",
   "execution_count": 83,
   "id": "nasty-document",
   "metadata": {},
   "outputs": [
    {
     "data": {
      "text/plain": [
       "True"
      ]
     },
     "execution_count": 83,
     "metadata": {},
     "output_type": "execute_result"
    }
   ],
   "source": [
    "y.requires_grad"
   ]
  },
  {
   "cell_type": "code",
   "execution_count": 84,
   "id": "floating-saying",
   "metadata": {},
   "outputs": [
    {
     "data": {
      "text/plain": [
       "False"
      ]
     },
     "execution_count": 84,
     "metadata": {},
     "output_type": "execute_result"
    }
   ],
   "source": [
    "y.is_leaf"
   ]
  },
  {
   "cell_type": "code",
   "execution_count": 74,
   "id": "passive-making",
   "metadata": {},
   "outputs": [
    {
     "data": {
      "text/plain": [
       "10"
      ]
     },
     "execution_count": 74,
     "metadata": {},
     "output_type": "execute_result"
    }
   ],
   "source": [
    "sum(x)"
   ]
  },
  {
   "cell_type": "code",
   "execution_count": 75,
   "id": "ordinary-index",
   "metadata": {},
   "outputs": [
    {
     "data": {
      "text/plain": [
       "tensor([1., 2., 3., 4.])"
      ]
     },
     "execution_count": 75,
     "metadata": {},
     "output_type": "execute_result"
    }
   ],
   "source": [
    "torch.Tensor([1,2,3,4])"
   ]
  },
  {
   "cell_type": "code",
   "execution_count": 76,
   "id": "wrapped-education",
   "metadata": {},
   "outputs": [],
   "source": [
    "import torch.nn.utils.weight_norm as weight_norm"
   ]
  },
  {
   "cell_type": "code",
   "execution_count": null,
   "id": "announced-scheduling",
   "metadata": {},
   "outputs": [],
   "source": []
  }
 ],
 "metadata": {
  "kernelspec": {
   "display_name": "Python 3",
   "language": "python",
   "name": "python3"
  },
  "language_info": {
   "codemirror_mode": {
    "name": "ipython",
    "version": 3
   },
   "file_extension": ".py",
   "mimetype": "text/x-python",
   "name": "python",
   "nbconvert_exporter": "python",
   "pygments_lexer": "ipython3",
   "version": "3.7.10"
  }
 },
 "nbformat": 4,
 "nbformat_minor": 5
}
