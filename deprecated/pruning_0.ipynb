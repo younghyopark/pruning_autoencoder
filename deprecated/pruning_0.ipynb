{
 "cells": [
  {
   "cell_type": "code",
   "execution_count": 1,
   "id": "assisted-bookmark",
   "metadata": {},
   "outputs": [],
   "source": [
    "import torch\n",
    "from torch import nn\n",
    "import torch.nn.utils.prune as prune\n",
    "import torch.nn.functional as F\n",
    "import os\n",
    "import torchvision\n",
    "import sklearn.metrics as metrics\n",
    "import numpy as np\n",
    "import seaborn as sns\n",
    "from tqdm import tqdm, trange\n",
    "import matplotlib.pyplot as plt\n",
    "from torchvision.utils import make_grid, save_image\n",
    "import time\n"
   ]
  },
  {
   "cell_type": "code",
   "execution_count": 2,
   "id": "reduced-strike",
   "metadata": {},
   "outputs": [],
   "source": [
    "torch.cuda.set_device(0)"
   ]
  },
  {
   "cell_type": "code",
   "execution_count": 3,
   "id": "veterinary-malta",
   "metadata": {},
   "outputs": [],
   "source": [
    "class opt:\n",
    "    layer_num=784\n",
    "    h_dim1=512\n",
    "    h_dim2=256\n",
    "    h_dim3=128\n",
    "    h_dim4=64\n",
    "    h_dim5 = 0\n",
    "    h_dim6 = 0\n",
    "    one_class=9\n",
    "    lr=0.001\n",
    "    finetune_epoch=10"
   ]
  },
  {
   "cell_type": "code",
   "execution_count": 4,
   "id": "balanced-domain",
   "metadata": {},
   "outputs": [],
   "source": [
    "def count_parameters(model):\n",
    "    return sum(p.numel() for p in model.parameters() if p.requires_grad)"
   ]
  },
  {
   "cell_type": "code",
   "execution_count": 5,
   "id": "concrete-journal",
   "metadata": {},
   "outputs": [],
   "source": [
    "class AE(nn.Module):\n",
    "    def __init__(self, x_dim, h_dim1, h_dim2, h_dim3,h_dim4):\n",
    "        super(AE, self).__init__()\n",
    "        self.x_dim = x_dim\n",
    "        # encoder part\n",
    "        self.encoder = Encoder(x_dim, h_dim1, h_dim2,  h_dim3,h_dim4)\n",
    "        # decoder part\n",
    "        self.decoder = Generator(x_dim, h_dim1, h_dim2, h_dim3,h_dim4)\n",
    "    \n",
    "    def recon_error(self, x):\n",
    "        z = self.encoder(x)\n",
    "        x_recon = self.decoder(z)\n",
    "        return torch.norm((x_recon - x), dim=1)\n",
    "    \n",
    "    def forward(self, x):\n",
    "        z = self.encoder(x)\n",
    "        return self.decoder(z)\n",
    "    \n",
    "    def representation(self,x):\n",
    "        z = self.encoder(x)\n",
    "        return z\n",
    "    \n",
    "    def intermediate(self,x,layer):\n",
    "        shapes = [(16,32),(16,16),(8,16),(8,8)]\n",
    "        if layer<4:\n",
    "            inter= self.encoder.intermediate(x,layer)\n",
    "            return inter, shapes[layer]\n",
    "        else:\n",
    "            inter = self.encoder(x)\n",
    "            inter= self.decoder.intermediate(inter,layer-4)\n",
    "            return inter, shapes[2-layer]\n",
    "            \n",
    "        \n",
    "class Encoder(nn.Module):\n",
    "    def __init__(self, x_dim, h_dim1, h_dim2,h_dim3,h_dim4):\n",
    "        super(Encoder, self).__init__()\n",
    "        self.fc1 = nn.Linear(x_dim, h_dim1)\n",
    "        self.fc2 = nn.Linear(h_dim1, h_dim2)\n",
    "        self.fc3 = nn.Linear(h_dim2, h_dim3)\n",
    "        self.fc4 = nn.Linear(h_dim3,h_dim4)\n",
    "    \n",
    "    def forward(self, x):\n",
    "        h = F.relu(self.fc1(x))\n",
    "        h = F.relu(self.fc2(h))\n",
    "        h = F.relu(self.fc3(h))\n",
    "        h = self.fc4(h)\n",
    "        return h\n",
    "    \n",
    "    def intermediate(self,x,layer):\n",
    "        if layer==0:\n",
    "            h = F.relu(self.fc1(x))\n",
    "        elif layer==1:\n",
    "            h = F.relu(self.fc1(x))\n",
    "            h = F.relu(self.fc2(h))\n",
    "        elif layer==2:\n",
    "            h = F.relu(self.fc1(x))\n",
    "            h = F.relu(self.fc2(h))\n",
    "            h = F.relu(self.fc3(h))\n",
    "        elif layer==3:\n",
    "            h = F.relu(self.fc1(x))\n",
    "            h = F.relu(self.fc2(h))\n",
    "            h = F.relu(self.fc3(h))\n",
    "            h = self.fc4(h)\n",
    "            \n",
    "        return h\n",
    "\n",
    "\n",
    "    \n",
    "class Generator(nn.Module):\n",
    "    def __init__(self, x_dim, h_dim1, h_dim2,h_dim3,h_dim4):\n",
    "        super(Generator, self).__init__()\n",
    "        self.fc4 = nn.Linear(h_dim4,h_dim3)\n",
    "        self.fc3 = nn.Linear(h_dim3, h_dim2)\n",
    "        self.fc2 = nn.Linear(h_dim2, h_dim1)\n",
    "        self.fc1 = nn.Linear(h_dim1, x_dim)\n",
    "    \n",
    "    def forward(self, z):\n",
    "        h = F.relu(self.fc4(z))\n",
    "        h = F.relu(self.fc3(h))\n",
    "        h = F.relu(self.fc2(h))\n",
    "        return self.fc1(h)\n",
    "    \n",
    "    def intermediate(self,x,layer):\n",
    "        if layer==0:\n",
    "            h = F.relu(self.fc4(x))\n",
    "        elif layer==1:\n",
    "            h = F.relu(self.fc4(x))\n",
    "            h = F.relu(self.fc3(h))\n",
    "        elif layer==2:\n",
    "            h = F.relu(self.fc4(x))\n",
    "            h = F.relu(self.fc3(h))\n",
    "            h = F.relu(self.fc2(h))\n",
    "        elif layer==3:\n",
    "            h = F.relu(self.fc4(x))\n",
    "            h = F.relu(self.fc3(h))\n",
    "            h = F.relu(self.fc2(h))\n",
    "            h = self.fc1(h)\n",
    "        return h\n",
    "\n",
    "model = AE(opt.layer_num, opt.h_dim1, opt.h_dim2, opt.h_dim3,opt.h_dim4)"
   ]
  },
  {
   "cell_type": "code",
   "execution_count": 6,
   "id": "large-corporation",
   "metadata": {},
   "outputs": [],
   "source": [
    "model_name = 'MNIST_{}_{}_{}_{}_{}_{}'.format(opt.h_dim1, opt.h_dim2, opt.h_dim3, opt.h_dim4, opt.h_dim5, opt.h_dim6)\n",
    "model_path = model_name+'_holdout_{}_epoch_100.pth'.format(opt.one_class)"
   ]
  },
  {
   "cell_type": "code",
   "execution_count": 7,
   "id": "ceramic-regulation",
   "metadata": {},
   "outputs": [
    {
     "data": {
      "text/plain": [
       "<All keys matched successfully>"
      ]
     },
     "execution_count": 7,
     "metadata": {},
     "output_type": "execute_result"
    }
   ],
   "source": [
    "model.load_state_dict(torch.load(os.path.join('../model-compression/trained_model',model_path),map_location=torch.device('cpu')))"
   ]
  },
  {
   "cell_type": "code",
   "execution_count": 8,
   "id": "western-elite",
   "metadata": {},
   "outputs": [
    {
     "data": {
      "text/plain": [
       "AE(\n",
       "  (encoder): Encoder(\n",
       "    (fc1): Linear(in_features=784, out_features=512, bias=True)\n",
       "    (fc2): Linear(in_features=512, out_features=256, bias=True)\n",
       "    (fc3): Linear(in_features=256, out_features=128, bias=True)\n",
       "    (fc4): Linear(in_features=128, out_features=64, bias=True)\n",
       "  )\n",
       "  (decoder): Generator(\n",
       "    (fc4): Linear(in_features=64, out_features=128, bias=True)\n",
       "    (fc3): Linear(in_features=128, out_features=256, bias=True)\n",
       "    (fc2): Linear(in_features=256, out_features=512, bias=True)\n",
       "    (fc1): Linear(in_features=512, out_features=784, bias=True)\n",
       "  )\n",
       ")"
      ]
     },
     "execution_count": 8,
     "metadata": {},
     "output_type": "execute_result"
    }
   ],
   "source": [
    "model"
   ]
  },
  {
   "cell_type": "code",
   "execution_count": 9,
   "id": "surface-webster",
   "metadata": {},
   "outputs": [],
   "source": [
    "mnist_transform = torchvision.transforms.Compose([\n",
    "    torchvision.transforms.ToTensor(), \n",
    "    torchvision.transforms.Normalize((0.5,), (1.0,))\n",
    "])\n",
    "\n",
    "ind_dataset = torchvision.datasets.MNIST('./dataset', transform=mnist_transform, train=False, download=True)\n",
    "train_dataset = torchvision.datasets.MNIST('./dataset', transform=mnist_transform, train=True, download=True)\n",
    "\n",
    "idx = train_dataset.targets!=opt.one_class\n",
    "train_dataset.targets = train_dataset.targets[idx]\n",
    "train_dataset.data = train_dataset.data[idx]\n",
    "\n",
    "train_loader = torch.utils.data.DataLoader(dataset=train_dataset, \n",
    "                         batch_size=64,\n",
    "                         shuffle=True)\n",
    "\n",
    "idx = ind_dataset.targets!=opt.one_class\n",
    "ind_dataset.targets = ind_dataset.targets[idx]\n",
    "ind_dataset.data = ind_dataset.data[idx]\n",
    "\n",
    "ind_loader = torch.utils.data.DataLoader(dataset=ind_dataset, \n",
    "                         batch_size=64,\n",
    "                         shuffle=False)"
   ]
  },
  {
   "cell_type": "code",
   "execution_count": 10,
   "id": "requested-myrtle",
   "metadata": {},
   "outputs": [],
   "source": [
    "mnist_transform = torchvision.transforms.Compose([\n",
    "    torchvision.transforms.ToTensor(), \n",
    "    torchvision.transforms.Normalize((0.5,), (1.0,))\n",
    "])\n",
    "\n",
    "ood_dataset = torchvision.datasets.MNIST('./dataset', transform=mnist_transform, train=False, download=True)\n",
    "\n",
    "idx = ood_dataset.targets==opt.one_class\n",
    "ood_dataset.targets = ood_dataset.targets[idx]\n",
    "ood_dataset.data = ood_dataset.data[idx]\n",
    "\n",
    "ood_loader = torch.utils.data.DataLoader(dataset=ood_dataset, \n",
    "                         batch_size=64,\n",
    "                         shuffle=False)"
   ]
  },
  {
   "cell_type": "code",
   "execution_count": 11,
   "id": "convinced-phenomenon",
   "metadata": {},
   "outputs": [],
   "source": [
    "model.eval()\n",
    "model.cuda()\n",
    "avg_loss = 0\n",
    "step = 0\n",
    "for i, (data,label) in enumerate(ind_loader):\n",
    "    step += 1\n",
    "    data = data.reshape(-1,784).cuda()\n",
    "    with torch.no_grad():\n",
    "        recon_error = model.recon_error(data)\n",
    "        representation = model.representation(data)\n",
    "    if i==0:\n",
    "        ind_recon = recon_error\n",
    "        ind_latents = representation\n",
    "    else:\n",
    "        ind_recon=torch.cat((ind_recon,recon_error),0)\n",
    "        ind_latents=torch.cat((ind_latents,representation),0)"
   ]
  },
  {
   "cell_type": "code",
   "execution_count": 12,
   "id": "dirty-intro",
   "metadata": {},
   "outputs": [
    {
     "name": "stderr",
     "output_type": "stream",
     "text": [
      "Clipping input data to the valid range for imshow with RGB data ([0..1] for floats or [0..255] for integers).\n"
     ]
    },
    {
     "data": {
      "text/plain": [
       "<matplotlib.image.AxesImage at 0x7f90e34c5dd0>"
      ]
     },
     "execution_count": 12,
     "metadata": {},
     "output_type": "execute_result"
    },
    {
     "data": {
      "image/png": "[encoded data removed]",
      "text/plain": [
       "<Figure size 432x288 with 1 Axes>"
      ]
     },
     "metadata": {
      "needs_background": "light"
     },
     "output_type": "display_data"
    }
   ],
   "source": [
    "'''check inlier reconstruction'''\n",
    "test_data = torch.stack([ind_loader.dataset[i][0] for i in range(10)])\n",
    "recon = model(test_data.reshape(-1,784).cuda()).detach().cpu()\n",
    "recon = torch.clamp(recon.view(len(recon), 1, 28, 28), 0, 1)\n",
    "x_and_recon = torch.cat([test_data, recon])\n",
    "img_grid = make_grid(x_and_recon.detach().cpu(), nrow=10, range=(0, 1))\n",
    "# writer.add_image('supermask_{}/inlier_recon'.format(sparsity), img_grid, i+1)\n",
    "plt.imshow(img_grid.cpu().numpy().transpose(1,2,0))"
   ]
  },
  {
   "cell_type": "code",
   "execution_count": 13,
   "id": "rubber-stevens",
   "metadata": {},
   "outputs": [
    {
     "name": "stderr",
     "output_type": "stream",
     "text": [
      "Clipping input data to the valid range for imshow with RGB data ([0..1] for floats or [0..255] for integers).\n"
     ]
    },
    {
     "data": {
      "text/plain": [
       "<matplotlib.image.AxesImage at 0x7f90db74ee90>"
      ]
     },
     "execution_count": 13,
     "metadata": {},
     "output_type": "execute_result"
    },
    {
     "data": {
      "image/png": "[encoded data removed]",
      "text/plain": [
       "<Figure size 432x288 with 1 Axes>"
      ]
     },
     "metadata": {
      "needs_background": "light"
     },
     "output_type": "display_data"
    }
   ],
   "source": [
    "'''check outlier reconstruction'''\n",
    "test_data = torch.stack([ood_loader.dataset[i][0] for i in range(10)])\n",
    "recon = model(test_data.reshape(-1,784).cuda()).detach().cpu()\n",
    "recon = torch.clamp(recon.view(len(recon), 1, 28, 28), 0, 1)\n",
    "x_and_recon = torch.cat([test_data, recon])\n",
    "img_grid = make_grid(x_and_recon.detach().cpu(), nrow=10, range=(0, 1))\n",
    "# writer.add_image('supermask_{}/outier_recon'.format(sparsity), img_grid, i+1)\n",
    "plt.imshow(img_grid.cpu().numpy().transpose(1,2,0))"
   ]
  },
  {
   "cell_type": "code",
   "execution_count": 14,
   "id": "prescription-transaction",
   "metadata": {},
   "outputs": [
    {
     "data": {
      "text/plain": [
       "<matplotlib.image.AxesImage at 0x7f90db5bef90>"
      ]
     },
     "execution_count": 14,
     "metadata": {},
     "output_type": "execute_result"
    },
    {
     "data": {
      "image/png": "[encoded data removed]",
      "text/plain": [
       "<Figure size 432x288 with 1 Axes>"
      ]
     },
     "metadata": {
      "needs_background": "light"
     },
     "output_type": "display_data"
    }
   ],
   "source": [
    "'''check encoder first layer'''\n",
    "layer_index = 6\n",
    "\n",
    "test_data = torch.stack([ind_loader.dataset[i][0] for i in range(10)])\n",
    "recon, (s1,s2) = model.intermediate(test_data.reshape(-1,784).cuda(),layer_index)\n",
    "recon = recon.detach().cpu()\n",
    "recon = torch.clamp(recon.view(len(recon), 1, s1, s2), 0, 1)\n",
    "# x_and_recon = torch.cat([test_data, recon])\n",
    "img_grid = make_grid(recon.detach().cpu(), nrow=10, range=(0, 1))\n",
    "# writer.add_image('supermask_{}/inlier_recon'.format(sparsity), img_grid, i+1)\n",
    "plt.imshow(img_grid.cpu().numpy().transpose(1,2,0))"
   ]
  },
  {
   "cell_type": "code",
   "execution_count": 15,
   "id": "judicial-thermal",
   "metadata": {},
   "outputs": [],
   "source": [
    "model.eval()\n",
    "avg_loss = 0\n",
    "step = 0\n",
    "for i, (data,label) in enumerate(ood_loader):\n",
    "    step += 1\n",
    "    data = data.reshape(-1,784).cuda()\n",
    "    with torch.no_grad():\n",
    "        recon_error = model.recon_error(data)\n",
    "        representation = model.representation(data)\n",
    "        \n",
    "    if i==0:\n",
    "        ood_recon = recon_error\n",
    "        ood_latents = representation\n",
    "\n",
    "    else:\n",
    "        ood_recon=torch.cat((ood_recon,recon_error),0)\n",
    "        ood_latents=torch.cat((ood_latents,representation),0)"
   ]
  },
  {
   "cell_type": "code",
   "execution_count": 16,
   "id": "conscious-wrapping",
   "metadata": {},
   "outputs": [
    {
     "data": {
      "text/plain": [
       "(torch.Size([8991, 64]), torch.Size([1009, 64]))"
      ]
     },
     "execution_count": 16,
     "metadata": {},
     "output_type": "execute_result"
    }
   ],
   "source": [
    "ind_latents.shape, ood_latents.shape"
   ]
  },
  {
   "cell_type": "code",
   "execution_count": 17,
   "id": "sufficient-integral",
   "metadata": {},
   "outputs": [],
   "source": [
    "# from sklearn.manifold import TSNE\n",
    "\n",
    "# TSNE_ind_latents = TSNE(n_components=2).fit_transform(ind_latents.cpu().numpy())\n",
    "# TSNE_ood_latents = TSNE(n_components=2).fit_transform(ood_latents.cpu().numpy())"
   ]
  },
  {
   "cell_type": "code",
   "execution_count": 18,
   "id": "earlier-terrorism",
   "metadata": {},
   "outputs": [],
   "source": [
    "# plt.scatter(TSNE_ind_latents[:,0],TSNE_ind_latents[:,1])\n",
    "# plt.scatter(TSNE_ood_latents[:,0],TSNE_ood_latents[:,1])"
   ]
  },
  {
   "cell_type": "code",
   "execution_count": 19,
   "id": "related-bridge",
   "metadata": {},
   "outputs": [],
   "source": [
    "# ind_recon.shape, ood_recon.shape"
   ]
  },
  {
   "cell_type": "code",
   "execution_count": null,
   "id": "expected-credit",
   "metadata": {},
   "outputs": [],
   "source": []
  },
  {
   "cell_type": "code",
   "execution_count": 20,
   "id": "closing-backup",
   "metadata": {},
   "outputs": [
    {
     "data": {
      "text/plain": [
       "<AxesSubplot:ylabel='Density'>"
      ]
     },
     "execution_count": 20,
     "metadata": {},
     "output_type": "execute_result"
    },
    {
     "data": {
      "image/png": "[encoded data removed]",
      "text/plain": [
       "<Figure size 432x288 with 1 Axes>"
      ]
     },
     "metadata": {
      "needs_background": "light"
     },
     "output_type": "display_data"
    }
   ],
   "source": [
    "sns.histplot(ind_recon.detach().cpu().numpy(),color='blue',stat='density')\n",
    "sns.histplot(ood_recon.detach().cpu().numpy(),color='red',stat='density')"
   ]
  },
  {
   "cell_type": "code",
   "execution_count": 21,
   "id": "chemical-unemployment",
   "metadata": {},
   "outputs": [
    {
     "data": {
      "text/plain": [
       "(tensor(1.8250, device='cuda:0'), tensor(1.8040, device='cuda:0'))"
      ]
     },
     "execution_count": 21,
     "metadata": {},
     "output_type": "execute_result"
    }
   ],
   "source": [
    "torch.mean(ind_recon), torch.mean(ood_recon)"
   ]
  },
  {
   "cell_type": "code",
   "execution_count": 22,
   "id": "satisfied-antibody",
   "metadata": {},
   "outputs": [
    {
     "data": {
      "text/plain": [
       "0.4590050352080965"
      ]
     },
     "execution_count": 22,
     "metadata": {},
     "output_type": "execute_result"
    }
   ],
   "source": [
    "ind_size=ind_recon.detach().cpu().numpy().shape[0]\n",
    "ood_size=ood_recon.detach().cpu().numpy().shape[0]\n",
    "\n",
    "metrics.roc_auc_score(np.concatenate((np.zeros(ind_size),np.ones(ood_size))),np.concatenate((ind_recon.detach().cpu().numpy(),ood_recon.detach().cpu().numpy())))"
   ]
  },
  {
   "cell_type": "code",
   "execution_count": 23,
   "id": "ongoing-buying",
   "metadata": {},
   "outputs": [
    {
     "name": "stdout",
     "output_type": "stream",
     "text": [
      "Global sparsity: 0.00%\n"
     ]
    }
   ],
   "source": [
    "print(\n",
    "    \"Global sparsity: {:.2f}%\".format(\n",
    "        100. * float(\n",
    "            torch.sum(model.encoder.fc1.weight == 0)\n",
    "            + torch.sum(model.encoder.fc2.weight == 0)\n",
    "            + torch.sum(model.encoder.fc3.weight == 0)\n",
    "            + torch.sum(model.encoder.fc4.weight == 0)\n",
    "            \n",
    "            + torch.sum(model.decoder.fc1.weight == 0)\n",
    "            + torch.sum(model.decoder.fc2.weight == 0)\n",
    "            + torch.sum(model.decoder.fc3.weight == 0)\n",
    "            + torch.sum(model.decoder.fc4.weight == 0)\n",
    "\n",
    "        )\n",
    "        / count_parameters(model)\n",
    "        )\n",
    "    )"
   ]
  },
  {
   "cell_type": "code",
   "execution_count": null,
   "id": "combined-proposition",
   "metadata": {},
   "outputs": [],
   "source": []
  },
  {
   "cell_type": "markdown",
   "id": "pharmaceutical-repository",
   "metadata": {},
   "source": [
    "### After Pruning"
   ]
  },
  {
   "cell_type": "code",
   "execution_count": 24,
   "id": "interracial-prompt",
   "metadata": {},
   "outputs": [
    {
     "name": "stdout",
     "output_type": "stream",
     "text": [
      "creating ./back_to_basics/leaveout_9\n",
      "0\n"
     ]
    },
    {
     "name": "stderr",
     "output_type": "stream",
     "text": [
      "Clipping input data to the valid range for imshow with RGB data ([0..1] for floats or [0..255] for integers).\n",
      "Clipping input data to the valid range for imshow with RGB data ([0..1] for floats or [0..255] for integers).\n"
     ]
    },
    {
     "name": "stdout",
     "output_type": "stream",
     "text": [
      "before finetuning : auroc = 0.4590050352080965\n",
      "Global sparsity before finetuned: 0.00%\n"
     ]
    },
    {
     "name": "stderr",
     "output_type": "stream",
     "text": [
      " 10%|█         | 1/10 [00:11<01:41, 11.32s/it]"
     ]
    },
    {
     "name": "stdout",
     "output_type": "stream",
     "text": [
      "Epoch [1/10] Batch [15/845]=> Loss: 1.82662\n"
     ]
    },
    {
     "name": "stderr",
     "output_type": "stream",
     "text": [
      " 20%|██        | 2/10 [00:21<01:24, 10.51s/it]"
     ]
    },
    {
     "name": "stdout",
     "output_type": "stream",
     "text": [
      "Epoch [2/10] Batch [15/845]=> Loss: 1.79476\n"
     ]
    },
    {
     "name": "stderr",
     "output_type": "stream",
     "text": [
      " 30%|███       | 3/10 [00:32<01:14, 10.70s/it]"
     ]
    },
    {
     "name": "stdout",
     "output_type": "stream",
     "text": [
      "Epoch [3/10] Batch [15/845]=> Loss: 1.79139\n"
     ]
    },
    {
     "name": "stderr",
     "output_type": "stream",
     "text": [
      " 40%|████      | 4/10 [00:43<01:04, 10.82s/it]"
     ]
    },
    {
     "name": "stdout",
     "output_type": "stream",
     "text": [
      "Epoch [4/10] Batch [15/845]=> Loss: 1.79075\n"
     ]
    },
    {
     "name": "stderr",
     "output_type": "stream",
     "text": [
      " 50%|█████     | 5/10 [00:54<00:54, 10.89s/it]"
     ]
    },
    {
     "name": "stdout",
     "output_type": "stream",
     "text": [
      "Epoch [5/10] Batch [15/845]=> Loss: 1.78838\n"
     ]
    },
    {
     "name": "stderr",
     "output_type": "stream",
     "text": [
      " 60%|██████    | 6/10 [01:05<00:43, 11.00s/it]"
     ]
    },
    {
     "name": "stdout",
     "output_type": "stream",
     "text": [
      "Epoch [6/10] Batch [15/845]=> Loss: 1.78649\n"
     ]
    },
    {
     "name": "stderr",
     "output_type": "stream",
     "text": [
      " 70%|███████   | 7/10 [01:16<00:33, 11.02s/it]"
     ]
    },
    {
     "name": "stdout",
     "output_type": "stream",
     "text": [
      "Epoch [7/10] Batch [15/845]=> Loss: 1.78889\n"
     ]
    },
    {
     "name": "stderr",
     "output_type": "stream",
     "text": [
      " 80%|████████  | 8/10 [01:27<00:21, 10.98s/it]"
     ]
    },
    {
     "name": "stdout",
     "output_type": "stream",
     "text": [
      "Epoch [8/10] Batch [15/845]=> Loss: 1.78628\n"
     ]
    },
    {
     "name": "stderr",
     "output_type": "stream",
     "text": [
      " 90%|█████████ | 9/10 [01:38<00:10, 10.98s/it]"
     ]
    },
    {
     "name": "stdout",
     "output_type": "stream",
     "text": [
      "Epoch [9/10] Batch [15/845]=> Loss: 1.78206\n"
     ]
    },
    {
     "name": "stderr",
     "output_type": "stream",
     "text": [
      "100%|██████████| 10/10 [01:49<00:00, 10.94s/it]"
     ]
    },
    {
     "name": "stdout",
     "output_type": "stream",
     "text": [
      "Epoch [10/10] Batch [15/845]=> Loss: 1.78293\n"
     ]
    },
    {
     "name": "stderr",
     "output_type": "stream",
     "text": [
      "\n",
      "Clipping input data to the valid range for imshow with RGB data ([0..1] for floats or [0..255] for integers).\n",
      "Clipping input data to the valid range for imshow with RGB data ([0..1] for floats or [0..255] for integers).\n"
     ]
    },
    {
     "name": "stdout",
     "output_type": "stream",
     "text": [
      "after finetuning : auroc = 0.4793176614561924\n",
      "Global sparsity after finetuned: 0.00%\n",
      "0.1\n"
     ]
    },
    {
     "name": "stderr",
     "output_type": "stream",
     "text": [
      "Clipping input data to the valid range for imshow with RGB data ([0..1] for floats or [0..255] for integers).\n",
      "Clipping input data to the valid range for imshow with RGB data ([0..1] for floats or [0..255] for integers).\n"
     ]
    },
    {
     "name": "stdout",
     "output_type": "stream",
     "text": [
      "before finetuning : auroc = 0.4590359547963337\n",
      "Global sparsity before finetuned: 9.98%\n"
     ]
    },
    {
     "name": "stderr",
     "output_type": "stream",
     "text": [
      " 10%|█         | 1/10 [00:11<01:39, 11.09s/it]"
     ]
    },
    {
     "name": "stdout",
     "output_type": "stream",
     "text": [
      "Epoch [1/10] Batch [15/845]=> Loss: 1.81694\n"
     ]
    },
    {
     "name": "stderr",
     "output_type": "stream",
     "text": [
      " 20%|██        | 2/10 [00:22<01:28, 11.03s/it]"
     ]
    },
    {
     "name": "stdout",
     "output_type": "stream",
     "text": [
      "Epoch [2/10] Batch [15/845]=> Loss: 1.78803\n"
     ]
    },
    {
     "name": "stderr",
     "output_type": "stream",
     "text": [
      " 30%|███       | 3/10 [00:33<01:17, 11.02s/it]"
     ]
    },
    {
     "name": "stdout",
     "output_type": "stream",
     "text": [
      "Epoch [3/10] Batch [15/845]=> Loss: 1.78614\n"
     ]
    },
    {
     "name": "stderr",
     "output_type": "stream",
     "text": [
      " 40%|████      | 4/10 [00:44<01:05, 10.99s/it]"
     ]
    },
    {
     "name": "stdout",
     "output_type": "stream",
     "text": [
      "Epoch [4/10] Batch [15/845]=> Loss: 1.78069\n"
     ]
    },
    {
     "name": "stderr",
     "output_type": "stream",
     "text": [
      " 50%|█████     | 5/10 [00:54<00:54, 10.98s/it]"
     ]
    },
    {
     "name": "stdout",
     "output_type": "stream",
     "text": [
      "Epoch [5/10] Batch [15/845]=> Loss: 1.78316\n"
     ]
    },
    {
     "name": "stderr",
     "output_type": "stream",
     "text": [
      " 60%|██████    | 6/10 [01:06<00:44, 11.00s/it]"
     ]
    },
    {
     "name": "stdout",
     "output_type": "stream",
     "text": [
      "Epoch [6/10] Batch [15/845]=> Loss: 1.78308\n"
     ]
    },
    {
     "name": "stderr",
     "output_type": "stream",
     "text": [
      " 70%|███████   | 7/10 [01:17<00:32, 10.99s/it]"
     ]
    },
    {
     "name": "stdout",
     "output_type": "stream",
     "text": [
      "Epoch [7/10] Batch [15/845]=> Loss: 1.77949\n"
     ]
    },
    {
     "name": "stderr",
     "output_type": "stream",
     "text": [
      " 80%|████████  | 8/10 [01:28<00:21, 10.99s/it]"
     ]
    },
    {
     "name": "stdout",
     "output_type": "stream",
     "text": [
      "Epoch [8/10] Batch [15/845]=> Loss: 1.77699\n"
     ]
    },
    {
     "name": "stderr",
     "output_type": "stream",
     "text": [
      " 90%|█████████ | 9/10 [01:38<00:10, 10.98s/it]"
     ]
    },
    {
     "name": "stdout",
     "output_type": "stream",
     "text": [
      "Epoch [9/10] Batch [15/845]=> Loss: 1.77649\n"
     ]
    },
    {
     "name": "stderr",
     "output_type": "stream",
     "text": [
      "100%|██████████| 10/10 [01:49<00:00, 10.99s/it]"
     ]
    },
    {
     "name": "stdout",
     "output_type": "stream",
     "text": [
      "Epoch [10/10] Batch [15/845]=> Loss: 1.77487\n"
     ]
    },
    {
     "name": "stderr",
     "output_type": "stream",
     "text": [
      "\n",
      "Clipping input data to the valid range for imshow with RGB data ([0..1] for floats or [0..255] for integers).\n",
      "Clipping input data to the valid range for imshow with RGB data ([0..1] for floats or [0..255] for integers).\n"
     ]
    },
    {
     "name": "stdout",
     "output_type": "stream",
     "text": [
      "after finetuning : auroc = 0.4648902288479428\n",
      "Global sparsity after finetuned: 9.98%\n",
      "0.3\n"
     ]
    },
    {
     "name": "stderr",
     "output_type": "stream",
     "text": [
      "Clipping input data to the valid range for imshow with RGB data ([0..1] for floats or [0..255] for integers).\n",
      "Clipping input data to the valid range for imshow with RGB data ([0..1] for floats or [0..255] for integers).\n"
     ]
    },
    {
     "name": "stdout",
     "output_type": "stream",
     "text": [
      "before finetuning : auroc = 0.4371490199592832\n",
      "Global sparsity before finetuned: 29.93%\n"
     ]
    },
    {
     "name": "stderr",
     "output_type": "stream",
     "text": [
      " 10%|█         | 1/10 [00:10<01:38, 10.99s/it]"
     ]
    },
    {
     "name": "stdout",
     "output_type": "stream",
     "text": [
      "Epoch [1/10] Batch [15/845]=> Loss: 1.79416\n"
     ]
    },
    {
     "name": "stderr",
     "output_type": "stream",
     "text": [
      " 20%|██        | 2/10 [00:21<01:27, 10.98s/it]"
     ]
    },
    {
     "name": "stdout",
     "output_type": "stream",
     "text": [
      "Epoch [2/10] Batch [15/845]=> Loss: 1.76687\n"
     ]
    },
    {
     "name": "stderr",
     "output_type": "stream",
     "text": [
      " 30%|███       | 3/10 [00:32<01:16, 10.94s/it]"
     ]
    },
    {
     "name": "stdout",
     "output_type": "stream",
     "text": [
      "Epoch [3/10] Batch [15/845]=> Loss: 1.76449\n"
     ]
    },
    {
     "name": "stderr",
     "output_type": "stream",
     "text": [
      " 40%|████      | 4/10 [00:43<01:05, 10.92s/it]"
     ]
    },
    {
     "name": "stdout",
     "output_type": "stream",
     "text": [
      "Epoch [4/10] Batch [15/845]=> Loss: 1.76176\n"
     ]
    },
    {
     "name": "stderr",
     "output_type": "stream",
     "text": [
      " 50%|█████     | 5/10 [00:54<00:54, 10.90s/it]"
     ]
    },
    {
     "name": "stdout",
     "output_type": "stream",
     "text": [
      "Epoch [5/10] Batch [15/845]=> Loss: 1.76120\n"
     ]
    },
    {
     "name": "stderr",
     "output_type": "stream",
     "text": [
      " 60%|██████    | 6/10 [01:05<00:43, 10.94s/it]"
     ]
    },
    {
     "name": "stdout",
     "output_type": "stream",
     "text": [
      "Epoch [6/10] Batch [15/845]=> Loss: 1.75994\n"
     ]
    },
    {
     "name": "stderr",
     "output_type": "stream",
     "text": [
      " 70%|███████   | 7/10 [01:16<00:32, 10.93s/it]"
     ]
    },
    {
     "name": "stdout",
     "output_type": "stream",
     "text": [
      "Epoch [7/10] Batch [15/845]=> Loss: 1.75871\n"
     ]
    },
    {
     "name": "stderr",
     "output_type": "stream",
     "text": [
      " 80%|████████  | 8/10 [01:27<00:21, 10.93s/it]"
     ]
    },
    {
     "name": "stdout",
     "output_type": "stream",
     "text": [
      "Epoch [8/10] Batch [15/845]=> Loss: 1.75498\n"
     ]
    },
    {
     "name": "stderr",
     "output_type": "stream",
     "text": [
      " 90%|█████████ | 9/10 [01:38<00:10, 10.94s/it]"
     ]
    },
    {
     "name": "stdout",
     "output_type": "stream",
     "text": [
      "Epoch [9/10] Batch [15/845]=> Loss: 1.75644\n"
     ]
    },
    {
     "name": "stderr",
     "output_type": "stream",
     "text": [
      "100%|██████████| 10/10 [01:49<00:00, 10.94s/it]"
     ]
    },
    {
     "name": "stdout",
     "output_type": "stream",
     "text": [
      "Epoch [10/10] Batch [15/845]=> Loss: 1.75467\n"
     ]
    },
    {
     "name": "stderr",
     "output_type": "stream",
     "text": [
      "\n",
      "Clipping input data to the valid range for imshow with RGB data ([0..1] for floats or [0..255] for integers).\n",
      "Clipping input data to the valid range for imshow with RGB data ([0..1] for floats or [0..255] for integers).\n"
     ]
    },
    {
     "name": "stdout",
     "output_type": "stream",
     "text": [
      "after finetuning : auroc = 0.4743549848714478\n",
      "Global sparsity after finetuned: 29.93%\n",
      "0.5\n"
     ]
    },
    {
     "name": "stderr",
     "output_type": "stream",
     "text": [
      "Clipping input data to the valid range for imshow with RGB data ([0..1] for floats or [0..255] for integers).\n",
      "Clipping input data to the valid range for imshow with RGB data ([0..1] for floats or [0..255] for integers).\n"
     ]
    },
    {
     "name": "stdout",
     "output_type": "stream",
     "text": [
      "before finetuning : auroc = 0.38986833987384584\n",
      "Global sparsity before finetuned: 49.89%\n"
     ]
    },
    {
     "name": "stderr",
     "output_type": "stream",
     "text": [
      " 10%|█         | 1/10 [00:10<01:37, 10.88s/it]"
     ]
    },
    {
     "name": "stdout",
     "output_type": "stream",
     "text": [
      "Epoch [1/10] Batch [15/845]=> Loss: 1.79391\n"
     ]
    },
    {
     "name": "stderr",
     "output_type": "stream",
     "text": [
      " 20%|██        | 2/10 [00:21<01:27, 10.94s/it]"
     ]
    },
    {
     "name": "stdout",
     "output_type": "stream",
     "text": [
      "Epoch [2/10] Batch [15/845]=> Loss: 1.75515\n"
     ]
    },
    {
     "name": "stderr",
     "output_type": "stream",
     "text": [
      " 30%|███       | 3/10 [00:32<01:16, 10.95s/it]"
     ]
    },
    {
     "name": "stdout",
     "output_type": "stream",
     "text": [
      "Epoch [3/10] Batch [15/845]=> Loss: 1.75031\n"
     ]
    },
    {
     "name": "stderr",
     "output_type": "stream",
     "text": [
      " 40%|████      | 4/10 [00:43<01:05, 10.93s/it]"
     ]
    },
    {
     "name": "stdout",
     "output_type": "stream",
     "text": [
      "Epoch [4/10] Batch [15/845]=> Loss: 1.74844\n"
     ]
    },
    {
     "name": "stderr",
     "output_type": "stream",
     "text": [
      " 50%|█████     | 5/10 [00:54<00:54, 10.95s/it]"
     ]
    },
    {
     "name": "stdout",
     "output_type": "stream",
     "text": [
      "Epoch [5/10] Batch [15/845]=> Loss: 1.74317\n"
     ]
    },
    {
     "name": "stderr",
     "output_type": "stream",
     "text": [
      " 60%|██████    | 6/10 [01:05<00:43, 10.94s/it]"
     ]
    },
    {
     "name": "stdout",
     "output_type": "stream",
     "text": [
      "Epoch [6/10] Batch [15/845]=> Loss: 1.74173\n"
     ]
    },
    {
     "name": "stderr",
     "output_type": "stream",
     "text": [
      " 70%|███████   | 7/10 [01:16<00:32, 10.92s/it]"
     ]
    },
    {
     "name": "stdout",
     "output_type": "stream",
     "text": [
      "Epoch [7/10] Batch [15/845]=> Loss: 1.74164\n"
     ]
    },
    {
     "name": "stderr",
     "output_type": "stream",
     "text": [
      " 80%|████████  | 8/10 [01:27<00:21, 10.94s/it]"
     ]
    },
    {
     "name": "stdout",
     "output_type": "stream",
     "text": [
      "Epoch [8/10] Batch [15/845]=> Loss: 1.73966\n"
     ]
    },
    {
     "name": "stderr",
     "output_type": "stream",
     "text": [
      " 90%|█████████ | 9/10 [01:38<00:10, 10.95s/it]"
     ]
    },
    {
     "name": "stdout",
     "output_type": "stream",
     "text": [
      "Epoch [9/10] Batch [15/845]=> Loss: 1.73874\n"
     ]
    },
    {
     "name": "stderr",
     "output_type": "stream",
     "text": [
      "100%|██████████| 10/10 [01:49<00:00, 10.93s/it]"
     ]
    },
    {
     "name": "stdout",
     "output_type": "stream",
     "text": [
      "Epoch [10/10] Batch [15/845]=> Loss: 1.73811\n"
     ]
    },
    {
     "name": "stderr",
     "output_type": "stream",
     "text": [
      "\n",
      "Clipping input data to the valid range for imshow with RGB data ([0..1] for floats or [0..255] for integers).\n",
      "Clipping input data to the valid range for imshow with RGB data ([0..1] for floats or [0..255] for integers).\n"
     ]
    },
    {
     "name": "stdout",
     "output_type": "stream",
     "text": [
      "after finetuning : auroc = 0.45300569813288677\n",
      "Global sparsity after finetuned: 49.89%\n",
      "0.7\n"
     ]
    },
    {
     "name": "stderr",
     "output_type": "stream",
     "text": [
      "Clipping input data to the valid range for imshow with RGB data ([0..1] for floats or [0..255] for integers).\n",
      "Clipping input data to the valid range for imshow with RGB data ([0..1] for floats or [0..255] for integers).\n"
     ]
    },
    {
     "name": "stdout",
     "output_type": "stream",
     "text": [
      "before finetuning : auroc = 0.3744249700642169\n",
      "Global sparsity before finetuned: 69.84%\n"
     ]
    },
    {
     "name": "stderr",
     "output_type": "stream",
     "text": [
      " 10%|█         | 1/10 [00:11<01:39, 11.04s/it]"
     ]
    },
    {
     "name": "stdout",
     "output_type": "stream",
     "text": [
      "Epoch [1/10] Batch [15/845]=> Loss: 1.88517\n"
     ]
    },
    {
     "name": "stderr",
     "output_type": "stream",
     "text": [
      " 20%|██        | 2/10 [00:21<01:27, 10.98s/it]"
     ]
    },
    {
     "name": "stdout",
     "output_type": "stream",
     "text": [
      "Epoch [2/10] Batch [15/845]=> Loss: 1.77203\n"
     ]
    },
    {
     "name": "stderr",
     "output_type": "stream",
     "text": [
      " 30%|███       | 3/10 [00:32<01:16, 10.98s/it]"
     ]
    },
    {
     "name": "stdout",
     "output_type": "stream",
     "text": [
      "Epoch [3/10] Batch [15/845]=> Loss: 1.76037\n"
     ]
    },
    {
     "name": "stderr",
     "output_type": "stream",
     "text": [
      " 40%|████      | 4/10 [00:43<01:05, 10.97s/it]"
     ]
    },
    {
     "name": "stdout",
     "output_type": "stream",
     "text": [
      "Epoch [4/10] Batch [15/845]=> Loss: 1.75386\n"
     ]
    },
    {
     "name": "stderr",
     "output_type": "stream",
     "text": [
      " 50%|█████     | 5/10 [00:54<00:54, 10.96s/it]"
     ]
    },
    {
     "name": "stdout",
     "output_type": "stream",
     "text": [
      "Epoch [5/10] Batch [15/845]=> Loss: 1.74947\n"
     ]
    },
    {
     "name": "stderr",
     "output_type": "stream",
     "text": [
      " 60%|██████    | 6/10 [01:05<00:43, 10.98s/it]"
     ]
    },
    {
     "name": "stdout",
     "output_type": "stream",
     "text": [
      "Epoch [6/10] Batch [15/845]=> Loss: 1.74530\n"
     ]
    },
    {
     "name": "stderr",
     "output_type": "stream",
     "text": [
      " 70%|███████   | 7/10 [01:16<00:32, 11.00s/it]"
     ]
    },
    {
     "name": "stdout",
     "output_type": "stream",
     "text": [
      "Epoch [7/10] Batch [15/845]=> Loss: 1.74247\n"
     ]
    },
    {
     "name": "stderr",
     "output_type": "stream",
     "text": [
      " 80%|████████  | 8/10 [01:27<00:21, 10.99s/it]"
     ]
    },
    {
     "name": "stdout",
     "output_type": "stream",
     "text": [
      "Epoch [8/10] Batch [15/845]=> Loss: 1.74117\n"
     ]
    },
    {
     "name": "stderr",
     "output_type": "stream",
     "text": [
      " 90%|█████████ | 9/10 [01:38<00:10, 10.97s/it]"
     ]
    },
    {
     "name": "stdout",
     "output_type": "stream",
     "text": [
      "Epoch [9/10] Batch [15/845]=> Loss: 1.73789\n"
     ]
    },
    {
     "name": "stderr",
     "output_type": "stream",
     "text": [
      "100%|██████████| 10/10 [01:49<00:00, 10.99s/it]"
     ]
    },
    {
     "name": "stdout",
     "output_type": "stream",
     "text": [
      "Epoch [10/10] Batch [15/845]=> Loss: 1.73686\n"
     ]
    },
    {
     "name": "stderr",
     "output_type": "stream",
     "text": [
      "\n",
      "Clipping input data to the valid range for imshow with RGB data ([0..1] for floats or [0..255] for integers).\n",
      "Clipping input data to the valid range for imshow with RGB data ([0..1] for floats or [0..255] for integers).\n"
     ]
    },
    {
     "name": "stdout",
     "output_type": "stream",
     "text": [
      "after finetuning : auroc = 0.4611287314183471\n",
      "Global sparsity after finetuned: 69.84%\n",
      "0.8\n"
     ]
    },
    {
     "name": "stderr",
     "output_type": "stream",
     "text": [
      "Clipping input data to the valid range for imshow with RGB data ([0..1] for floats or [0..255] for integers).\n",
      "Clipping input data to the valid range for imshow with RGB data ([0..1] for floats or [0..255] for integers).\n"
     ]
    },
    {
     "name": "stdout",
     "output_type": "stream",
     "text": [
      "before finetuning : auroc = 0.39546406884805735\n",
      "Global sparsity before finetuned: 79.82%\n"
     ]
    },
    {
     "name": "stderr",
     "output_type": "stream",
     "text": [
      " 10%|█         | 1/10 [00:10<01:38, 10.95s/it]"
     ]
    },
    {
     "name": "stdout",
     "output_type": "stream",
     "text": [
      "Epoch [1/10] Batch [15/845]=> Loss: 2.09019\n"
     ]
    },
    {
     "name": "stderr",
     "output_type": "stream",
     "text": [
      " 20%|██        | 2/10 [00:21<01:27, 10.98s/it]"
     ]
    },
    {
     "name": "stdout",
     "output_type": "stream",
     "text": [
      "Epoch [2/10] Batch [15/845]=> Loss: 1.82970\n"
     ]
    },
    {
     "name": "stderr",
     "output_type": "stream",
     "text": [
      " 30%|███       | 3/10 [00:32<01:16, 10.97s/it]"
     ]
    },
    {
     "name": "stdout",
     "output_type": "stream",
     "text": [
      "Epoch [3/10] Batch [15/845]=> Loss: 1.80144\n"
     ]
    },
    {
     "name": "stderr",
     "output_type": "stream",
     "text": [
      " 40%|████      | 4/10 [00:43<01:05, 10.97s/it]"
     ]
    },
    {
     "name": "stdout",
     "output_type": "stream",
     "text": [
      "Epoch [4/10] Batch [15/845]=> Loss: 1.78896\n"
     ]
    },
    {
     "name": "stderr",
     "output_type": "stream",
     "text": [
      " 50%|█████     | 5/10 [00:54<00:54, 10.99s/it]"
     ]
    },
    {
     "name": "stdout",
     "output_type": "stream",
     "text": [
      "Epoch [5/10] Batch [15/845]=> Loss: 1.77970\n"
     ]
    },
    {
     "name": "stderr",
     "output_type": "stream",
     "text": [
      " 60%|██████    | 6/10 [01:05<00:43, 10.98s/it]"
     ]
    },
    {
     "name": "stdout",
     "output_type": "stream",
     "text": [
      "Epoch [6/10] Batch [15/845]=> Loss: 1.77372\n"
     ]
    },
    {
     "name": "stderr",
     "output_type": "stream",
     "text": [
      " 70%|███████   | 7/10 [01:16<00:32, 10.98s/it]"
     ]
    },
    {
     "name": "stdout",
     "output_type": "stream",
     "text": [
      "Epoch [7/10] Batch [15/845]=> Loss: 1.76825\n"
     ]
    },
    {
     "name": "stderr",
     "output_type": "stream",
     "text": [
      " 80%|████████  | 8/10 [01:27<00:21, 10.97s/it]"
     ]
    },
    {
     "name": "stdout",
     "output_type": "stream",
     "text": [
      "Epoch [8/10] Batch [15/845]=> Loss: 1.76477\n"
     ]
    },
    {
     "name": "stderr",
     "output_type": "stream",
     "text": [
      " 90%|█████████ | 9/10 [01:38<00:10, 10.99s/it]"
     ]
    },
    {
     "name": "stdout",
     "output_type": "stream",
     "text": [
      "Epoch [9/10] Batch [15/845]=> Loss: 1.76145\n"
     ]
    },
    {
     "name": "stderr",
     "output_type": "stream",
     "text": [
      "100%|██████████| 10/10 [01:49<00:00, 10.98s/it]"
     ]
    },
    {
     "name": "stdout",
     "output_type": "stream",
     "text": [
      "Epoch [10/10] Batch [15/845]=> Loss: 1.75822\n"
     ]
    },
    {
     "name": "stderr",
     "output_type": "stream",
     "text": [
      "\n",
      "Clipping input data to the valid range for imshow with RGB data ([0..1] for floats or [0..255] for integers).\n",
      "Clipping input data to the valid range for imshow with RGB data ([0..1] for floats or [0..255] for integers).\n"
     ]
    },
    {
     "name": "stdout",
     "output_type": "stream",
     "text": [
      "after finetuning : auroc = 0.4546239334808876\n",
      "Global sparsity after finetuned: 79.82%\n",
      "0.9\n"
     ]
    },
    {
     "name": "stderr",
     "output_type": "stream",
     "text": [
      "Clipping input data to the valid range for imshow with RGB data ([0..1] for floats or [0..255] for integers).\n",
      "Clipping input data to the valid range for imshow with RGB data ([0..1] for floats or [0..255] for integers).\n"
     ]
    },
    {
     "name": "stdout",
     "output_type": "stream",
     "text": [
      "before finetuning : auroc = 0.3781575871654057\n",
      "Global sparsity before finetuned: 89.79%\n"
     ]
    },
    {
     "name": "stderr",
     "output_type": "stream",
     "text": [
      " 10%|█         | 1/10 [00:11<01:40, 11.15s/it]"
     ]
    },
    {
     "name": "stdout",
     "output_type": "stream",
     "text": [
      "Epoch [1/10] Batch [15/845]=> Loss: 3.09133\n"
     ]
    },
    {
     "name": "stderr",
     "output_type": "stream",
     "text": [
      " 20%|██        | 2/10 [00:22<01:30, 11.26s/it]"
     ]
    },
    {
     "name": "stdout",
     "output_type": "stream",
     "text": [
      "Epoch [2/10] Batch [15/845]=> Loss: 2.30511\n"
     ]
    },
    {
     "name": "stderr",
     "output_type": "stream",
     "text": [
      " 30%|███       | 3/10 [00:33<01:17, 11.08s/it]"
     ]
    },
    {
     "name": "stdout",
     "output_type": "stream",
     "text": [
      "Epoch [3/10] Batch [15/845]=> Loss: 2.17635\n"
     ]
    },
    {
     "name": "stderr",
     "output_type": "stream",
     "text": [
      " 40%|████      | 4/10 [00:44<01:06, 11.04s/it]"
     ]
    },
    {
     "name": "stdout",
     "output_type": "stream",
     "text": [
      "Epoch [4/10] Batch [15/845]=> Loss: 2.11065\n"
     ]
    },
    {
     "name": "stderr",
     "output_type": "stream",
     "text": [
      " 50%|█████     | 5/10 [00:55<00:55, 11.04s/it]"
     ]
    },
    {
     "name": "stdout",
     "output_type": "stream",
     "text": [
      "Epoch [5/10] Batch [15/845]=> Loss: 2.06898\n"
     ]
    },
    {
     "name": "stderr",
     "output_type": "stream",
     "text": [
      " 60%|██████    | 6/10 [01:06<00:44, 11.03s/it]"
     ]
    },
    {
     "name": "stdout",
     "output_type": "stream",
     "text": [
      "Epoch [6/10] Batch [15/845]=> Loss: 2.03847\n"
     ]
    },
    {
     "name": "stderr",
     "output_type": "stream",
     "text": [
      " 70%|███████   | 7/10 [01:17<00:33, 11.04s/it]"
     ]
    },
    {
     "name": "stdout",
     "output_type": "stream",
     "text": [
      "Epoch [7/10] Batch [15/845]=> Loss: 2.01526\n"
     ]
    },
    {
     "name": "stderr",
     "output_type": "stream",
     "text": [
      " 80%|████████  | 8/10 [01:28<00:22, 11.02s/it]"
     ]
    },
    {
     "name": "stdout",
     "output_type": "stream",
     "text": [
      "Epoch [8/10] Batch [15/845]=> Loss: 1.99694\n"
     ]
    },
    {
     "name": "stderr",
     "output_type": "stream",
     "text": [
      " 90%|█████████ | 9/10 [01:39<00:11, 11.01s/it]"
     ]
    },
    {
     "name": "stdout",
     "output_type": "stream",
     "text": [
      "Epoch [9/10] Batch [15/845]=> Loss: 1.98052\n"
     ]
    },
    {
     "name": "stderr",
     "output_type": "stream",
     "text": [
      "100%|██████████| 10/10 [01:50<00:00, 11.05s/it]"
     ]
    },
    {
     "name": "stdout",
     "output_type": "stream",
     "text": [
      "Epoch [10/10] Batch [15/845]=> Loss: 1.96747\n"
     ]
    },
    {
     "name": "stderr",
     "output_type": "stream",
     "text": [
      "\n",
      "Clipping input data to the valid range for imshow with RGB data ([0..1] for floats or [0..255] for integers).\n",
      "Clipping input data to the valid range for imshow with RGB data ([0..1] for floats or [0..255] for integers).\n"
     ]
    },
    {
     "name": "stdout",
     "output_type": "stream",
     "text": [
      "after finetuning : auroc = 0.4578089817600885\n",
      "Global sparsity after finetuned: 89.79%\n",
      "0.91\n"
     ]
    },
    {
     "name": "stderr",
     "output_type": "stream",
     "text": [
      "Clipping input data to the valid range for imshow with RGB data ([0..1] for floats or [0..255] for integers).\n",
      "Clipping input data to the valid range for imshow with RGB data ([0..1] for floats or [0..255] for integers).\n"
     ]
    },
    {
     "name": "stdout",
     "output_type": "stream",
     "text": [
      "before finetuning : auroc = 0.3948339375605095\n",
      "Global sparsity before finetuned: 90.79%\n"
     ]
    },
    {
     "name": "stderr",
     "output_type": "stream",
     "text": [
      " 10%|█         | 1/10 [00:11<01:39, 11.04s/it]"
     ]
    },
    {
     "name": "stdout",
     "output_type": "stream",
     "text": [
      "Epoch [1/10] Batch [15/845]=> Loss: 3.34593\n"
     ]
    },
    {
     "name": "stderr",
     "output_type": "stream",
     "text": [
      " 20%|██        | 2/10 [00:22<01:28, 11.07s/it]"
     ]
    },
    {
     "name": "stdout",
     "output_type": "stream",
     "text": [
      "Epoch [2/10] Batch [15/845]=> Loss: 2.45719\n"
     ]
    },
    {
     "name": "stderr",
     "output_type": "stream",
     "text": [
      " 30%|███       | 3/10 [00:31<01:11, 10.22s/it]"
     ]
    },
    {
     "name": "stdout",
     "output_type": "stream",
     "text": [
      "Epoch [3/10] Batch [15/845]=> Loss: 2.30424\n"
     ]
    },
    {
     "name": "stderr",
     "output_type": "stream",
     "text": [
      " 40%|████      | 4/10 [00:40<00:58,  9.82s/it]"
     ]
    },
    {
     "name": "stdout",
     "output_type": "stream",
     "text": [
      "Epoch [4/10] Batch [15/845]=> Loss: 2.22672\n"
     ]
    },
    {
     "name": "stderr",
     "output_type": "stream",
     "text": [
      " 50%|█████     | 5/10 [00:49<00:48,  9.61s/it]"
     ]
    },
    {
     "name": "stdout",
     "output_type": "stream",
     "text": [
      "Epoch [5/10] Batch [15/845]=> Loss: 2.17765\n"
     ]
    },
    {
     "name": "stderr",
     "output_type": "stream",
     "text": [
      " 60%|██████    | 6/10 [00:58<00:37,  9.47s/it]"
     ]
    },
    {
     "name": "stdout",
     "output_type": "stream",
     "text": [
      "Epoch [6/10] Batch [15/845]=> Loss: 2.14086\n"
     ]
    },
    {
     "name": "stderr",
     "output_type": "stream",
     "text": [
      " 70%|███████   | 7/10 [01:08<00:28,  9.39s/it]"
     ]
    },
    {
     "name": "stdout",
     "output_type": "stream",
     "text": [
      "Epoch [7/10] Batch [15/845]=> Loss: 2.11278\n"
     ]
    },
    {
     "name": "stderr",
     "output_type": "stream",
     "text": [
      " 80%|████████  | 8/10 [01:17<00:18,  9.35s/it]"
     ]
    },
    {
     "name": "stdout",
     "output_type": "stream",
     "text": [
      "Epoch [8/10] Batch [15/845]=> Loss: 2.09024\n"
     ]
    },
    {
     "name": "stderr",
     "output_type": "stream",
     "text": [
      " 90%|█████████ | 9/10 [01:26<00:09,  9.31s/it]"
     ]
    },
    {
     "name": "stdout",
     "output_type": "stream",
     "text": [
      "Epoch [9/10] Batch [15/845]=> Loss: 2.07133\n"
     ]
    },
    {
     "name": "stderr",
     "output_type": "stream",
     "text": [
      "100%|██████████| 10/10 [01:35<00:00,  9.59s/it]"
     ]
    },
    {
     "name": "stdout",
     "output_type": "stream",
     "text": [
      "Epoch [10/10] Batch [15/845]=> Loss: 2.05431\n"
     ]
    },
    {
     "name": "stderr",
     "output_type": "stream",
     "text": [
      "\n",
      "Clipping input data to the valid range for imshow with RGB data ([0..1] for floats or [0..255] for integers).\n"
     ]
    },
    {
     "name": "stdout",
     "output_type": "stream",
     "text": [
      "after finetuning : auroc = 0.4695418907510087\n",
      "Global sparsity after finetuned: 90.79%\n"
     ]
    },
    {
     "name": "stderr",
     "output_type": "stream",
     "text": [
      "Clipping input data to the valid range for imshow with RGB data ([0..1] for floats or [0..255] for integers).\n"
     ]
    },
    {
     "name": "stdout",
     "output_type": "stream",
     "text": [
      "0.92\n"
     ]
    },
    {
     "name": "stderr",
     "output_type": "stream",
     "text": [
      "Clipping input data to the valid range for imshow with RGB data ([0..1] for floats or [0..255] for integers).\n"
     ]
    },
    {
     "name": "stdout",
     "output_type": "stream",
     "text": [
      "before finetuning : auroc = 0.405322898054976\n"
     ]
    },
    {
     "name": "stderr",
     "output_type": "stream",
     "text": [
      "Clipping input data to the valid range for imshow with RGB data ([0..1] for floats or [0..255] for integers).\n"
     ]
    },
    {
     "name": "stdout",
     "output_type": "stream",
     "text": [
      "Global sparsity before finetuned: 91.79%\n"
     ]
    },
    {
     "name": "stderr",
     "output_type": "stream",
     "text": [
      " 10%|█         | 1/10 [00:09<01:22,  9.22s/it]"
     ]
    },
    {
     "name": "stdout",
     "output_type": "stream",
     "text": [
      "Epoch [1/10] Batch [15/845]=> Loss: 3.60777\n"
     ]
    },
    {
     "name": "stderr",
     "output_type": "stream",
     "text": [
      " 20%|██        | 2/10 [00:20<01:22, 10.29s/it]"
     ]
    },
    {
     "name": "stdout",
     "output_type": "stream",
     "text": [
      "Epoch [2/10] Batch [15/845]=> Loss: 2.64452\n"
     ]
    },
    {
     "name": "stderr",
     "output_type": "stream",
     "text": [
      " 30%|███       | 3/10 [00:31<01:14, 10.63s/it]"
     ]
    },
    {
     "name": "stdout",
     "output_type": "stream",
     "text": [
      "Epoch [3/10] Batch [15/845]=> Loss: 2.46497\n"
     ]
    },
    {
     "name": "stderr",
     "output_type": "stream",
     "text": [
      " 40%|████      | 4/10 [00:42<01:04, 10.79s/it]"
     ]
    },
    {
     "name": "stdout",
     "output_type": "stream",
     "text": [
      "Epoch [4/10] Batch [15/845]=> Loss: 2.36835\n"
     ]
    },
    {
     "name": "stderr",
     "output_type": "stream",
     "text": [
      " 50%|█████     | 5/10 [00:53<00:54, 10.89s/it]"
     ]
    },
    {
     "name": "stdout",
     "output_type": "stream",
     "text": [
      "Epoch [5/10] Batch [15/845]=> Loss: 2.30584\n"
     ]
    },
    {
     "name": "stderr",
     "output_type": "stream",
     "text": [
      " 60%|██████    | 6/10 [01:04<00:43, 10.94s/it]"
     ]
    },
    {
     "name": "stdout",
     "output_type": "stream",
     "text": [
      "Epoch [6/10] Batch [15/845]=> Loss: 2.25941\n"
     ]
    },
    {
     "name": "stderr",
     "output_type": "stream",
     "text": [
      " 70%|███████   | 7/10 [01:15<00:32, 10.97s/it]"
     ]
    },
    {
     "name": "stdout",
     "output_type": "stream",
     "text": [
      "Epoch [7/10] Batch [15/845]=> Loss: 2.22389\n"
     ]
    },
    {
     "name": "stderr",
     "output_type": "stream",
     "text": [
      " 80%|████████  | 8/10 [01:26<00:22, 11.01s/it]"
     ]
    },
    {
     "name": "stdout",
     "output_type": "stream",
     "text": [
      "Epoch [8/10] Batch [15/845]=> Loss: 2.19526\n"
     ]
    },
    {
     "name": "stderr",
     "output_type": "stream",
     "text": [
      " 90%|█████████ | 9/10 [01:37<00:11, 11.03s/it]"
     ]
    },
    {
     "name": "stdout",
     "output_type": "stream",
     "text": [
      "Epoch [9/10] Batch [15/845]=> Loss: 2.17234\n"
     ]
    },
    {
     "name": "stderr",
     "output_type": "stream",
     "text": [
      "100%|██████████| 10/10 [01:48<00:00, 10.86s/it]"
     ]
    },
    {
     "name": "stdout",
     "output_type": "stream",
     "text": [
      "Epoch [10/10] Batch [15/845]=> Loss: 2.15282\n"
     ]
    },
    {
     "name": "stderr",
     "output_type": "stream",
     "text": [
      "\n",
      "Clipping input data to the valid range for imshow with RGB data ([0..1] for floats or [0..255] for integers).\n"
     ]
    },
    {
     "name": "stdout",
     "output_type": "stream",
     "text": [
      "after finetuning : auroc = 0.468196640644609\n",
      "Global sparsity after finetuned: 91.79%\n"
     ]
    },
    {
     "name": "stderr",
     "output_type": "stream",
     "text": [
      "Clipping input data to the valid range for imshow with RGB data ([0..1] for floats or [0..255] for integers).\n"
     ]
    },
    {
     "name": "stdout",
     "output_type": "stream",
     "text": [
      "0.925\n"
     ]
    },
    {
     "name": "stderr",
     "output_type": "stream",
     "text": [
      "Clipping input data to the valid range for imshow with RGB data ([0..1] for floats or [0..255] for integers).\n"
     ]
    },
    {
     "name": "stdout",
     "output_type": "stream",
     "text": [
      "before finetuning : auroc = 0.40995901749122754\n"
     ]
    },
    {
     "name": "stderr",
     "output_type": "stream",
     "text": [
      "Clipping input data to the valid range for imshow with RGB data ([0..1] for floats or [0..255] for integers).\n"
     ]
    },
    {
     "name": "stdout",
     "output_type": "stream",
     "text": [
      "Global sparsity before finetuned: 92.29%\n"
     ]
    },
    {
     "name": "stderr",
     "output_type": "stream",
     "text": [
      " 10%|█         | 1/10 [00:10<01:38, 10.98s/it]"
     ]
    },
    {
     "name": "stdout",
     "output_type": "stream",
     "text": [
      "Epoch [1/10] Batch [15/845]=> Loss: 3.78835\n"
     ]
    },
    {
     "name": "stderr",
     "output_type": "stream",
     "text": [
      " 20%|██        | 2/10 [00:22<01:28, 11.01s/it]"
     ]
    },
    {
     "name": "stdout",
     "output_type": "stream",
     "text": [
      "Epoch [2/10] Batch [15/845]=> Loss: 2.72653\n"
     ]
    },
    {
     "name": "stderr",
     "output_type": "stream",
     "text": [
      " 30%|███       | 3/10 [00:34<01:20, 11.54s/it]"
     ]
    },
    {
     "name": "stdout",
     "output_type": "stream",
     "text": [
      "Epoch [3/10] Batch [15/845]=> Loss: 2.52824\n"
     ]
    },
    {
     "name": "stderr",
     "output_type": "stream",
     "text": [
      " 40%|████      | 4/10 [00:45<01:08, 11.37s/it]"
     ]
    },
    {
     "name": "stdout",
     "output_type": "stream",
     "text": [
      "Epoch [4/10] Batch [15/845]=> Loss: 2.42525\n"
     ]
    },
    {
     "name": "stderr",
     "output_type": "stream",
     "text": [
      " 50%|█████     | 5/10 [00:56<00:56, 11.25s/it]"
     ]
    },
    {
     "name": "stdout",
     "output_type": "stream",
     "text": [
      "Epoch [5/10] Batch [15/845]=> Loss: 2.35910\n"
     ]
    },
    {
     "name": "stderr",
     "output_type": "stream",
     "text": [
      " 60%|██████    | 6/10 [01:07<00:44, 11.18s/it]"
     ]
    },
    {
     "name": "stdout",
     "output_type": "stream",
     "text": [
      "Epoch [6/10] Batch [15/845]=> Loss: 2.30953\n"
     ]
    },
    {
     "name": "stderr",
     "output_type": "stream",
     "text": [
      " 70%|███████   | 7/10 [01:18<00:33, 11.19s/it]"
     ]
    },
    {
     "name": "stdout",
     "output_type": "stream",
     "text": [
      "Epoch [7/10] Batch [15/845]=> Loss: 2.27109\n"
     ]
    },
    {
     "name": "stderr",
     "output_type": "stream",
     "text": [
      " 80%|████████  | 8/10 [01:29<00:22, 11.13s/it]"
     ]
    },
    {
     "name": "stdout",
     "output_type": "stream",
     "text": [
      "Epoch [8/10] Batch [15/845]=> Loss: 2.24017\n"
     ]
    },
    {
     "name": "stderr",
     "output_type": "stream",
     "text": [
      " 90%|█████████ | 9/10 [01:40<00:11, 11.10s/it]"
     ]
    },
    {
     "name": "stdout",
     "output_type": "stream",
     "text": [
      "Epoch [9/10] Batch [15/845]=> Loss: 2.21671\n"
     ]
    },
    {
     "name": "stderr",
     "output_type": "stream",
     "text": [
      "100%|██████████| 10/10 [01:51<00:00, 11.16s/it]"
     ]
    },
    {
     "name": "stdout",
     "output_type": "stream",
     "text": [
      "Epoch [10/10] Batch [15/845]=> Loss: 2.19605\n"
     ]
    },
    {
     "name": "stderr",
     "output_type": "stream",
     "text": [
      "\n",
      "Clipping input data to the valid range for imshow with RGB data ([0..1] for floats or [0..255] for integers).\n"
     ]
    },
    {
     "name": "stdout",
     "output_type": "stream",
     "text": [
      "after finetuning : auroc = 0.4657307345887899\n",
      "Global sparsity after finetuned: 92.29%\n"
     ]
    },
    {
     "name": "stderr",
     "output_type": "stream",
     "text": [
      "Clipping input data to the valid range for imshow with RGB data ([0..1] for floats or [0..255] for integers).\n"
     ]
    },
    {
     "name": "stdout",
     "output_type": "stream",
     "text": [
      "0.93\n"
     ]
    },
    {
     "name": "stderr",
     "output_type": "stream",
     "text": [
      "Clipping input data to the valid range for imshow with RGB data ([0..1] for floats or [0..255] for integers).\n"
     ]
    },
    {
     "name": "stdout",
     "output_type": "stream",
     "text": [
      "before finetuning : auroc = 0.4045449479873001\n"
     ]
    },
    {
     "name": "stderr",
     "output_type": "stream",
     "text": [
      "Clipping input data to the valid range for imshow with RGB data ([0..1] for floats or [0..255] for integers).\n"
     ]
    },
    {
     "name": "stdout",
     "output_type": "stream",
     "text": [
      "Global sparsity before finetuned: 92.79%\n"
     ]
    },
    {
     "name": "stderr",
     "output_type": "stream",
     "text": [
      " 10%|█         | 1/10 [00:11<01:39, 11.09s/it]"
     ]
    },
    {
     "name": "stdout",
     "output_type": "stream",
     "text": [
      "Epoch [1/10] Batch [15/845]=> Loss: 3.96416\n"
     ]
    },
    {
     "name": "stderr",
     "output_type": "stream",
     "text": [
      " 20%|██        | 2/10 [00:22<01:28, 11.05s/it]"
     ]
    },
    {
     "name": "stdout",
     "output_type": "stream",
     "text": [
      "Epoch [2/10] Batch [15/845]=> Loss: 2.81893\n"
     ]
    },
    {
     "name": "stderr",
     "output_type": "stream",
     "text": [
      " 30%|███       | 3/10 [00:33<01:17, 11.01s/it]"
     ]
    },
    {
     "name": "stdout",
     "output_type": "stream",
     "text": [
      "Epoch [3/10] Batch [15/845]=> Loss: 2.60942\n"
     ]
    },
    {
     "name": "stderr",
     "output_type": "stream",
     "text": [
      " 40%|████      | 4/10 [00:44<01:06, 11.04s/it]"
     ]
    },
    {
     "name": "stdout",
     "output_type": "stream",
     "text": [
      "Epoch [4/10] Batch [15/845]=> Loss: 2.49975\n"
     ]
    },
    {
     "name": "stderr",
     "output_type": "stream",
     "text": [
      " 50%|█████     | 5/10 [00:55<00:55, 11.03s/it]"
     ]
    },
    {
     "name": "stdout",
     "output_type": "stream",
     "text": [
      "Epoch [5/10] Batch [15/845]=> Loss: 2.42829\n"
     ]
    },
    {
     "name": "stderr",
     "output_type": "stream",
     "text": [
      " 60%|██████    | 6/10 [01:06<00:44, 11.02s/it]"
     ]
    },
    {
     "name": "stdout",
     "output_type": "stream",
     "text": [
      "Epoch [6/10] Batch [15/845]=> Loss: 2.37772\n"
     ]
    },
    {
     "name": "stderr",
     "output_type": "stream",
     "text": [
      " 70%|███████   | 7/10 [01:17<00:33, 11.01s/it]"
     ]
    },
    {
     "name": "stdout",
     "output_type": "stream",
     "text": [
      "Epoch [7/10] Batch [15/845]=> Loss: 2.33769\n"
     ]
    },
    {
     "name": "stderr",
     "output_type": "stream",
     "text": [
      " 80%|████████  | 8/10 [01:28<00:22, 11.05s/it]"
     ]
    },
    {
     "name": "stdout",
     "output_type": "stream",
     "text": [
      "Epoch [8/10] Batch [15/845]=> Loss: 2.30665\n"
     ]
    },
    {
     "name": "stderr",
     "output_type": "stream",
     "text": [
      " 90%|█████████ | 9/10 [01:39<00:11, 11.07s/it]"
     ]
    },
    {
     "name": "stdout",
     "output_type": "stream",
     "text": [
      "Epoch [9/10] Batch [15/845]=> Loss: 2.28117\n"
     ]
    },
    {
     "name": "stderr",
     "output_type": "stream",
     "text": [
      "100%|██████████| 10/10 [01:50<00:00, 11.04s/it]"
     ]
    },
    {
     "name": "stdout",
     "output_type": "stream",
     "text": [
      "Epoch [10/10] Batch [15/845]=> Loss: 2.25763\n"
     ]
    },
    {
     "name": "stderr",
     "output_type": "stream",
     "text": [
      "\n",
      "Clipping input data to the valid range for imshow with RGB data ([0..1] for floats or [0..255] for integers).\n"
     ]
    },
    {
     "name": "stdout",
     "output_type": "stream",
     "text": [
      "after finetuning : auroc = 0.4687548466867925\n",
      "Global sparsity after finetuned: 92.79%\n"
     ]
    },
    {
     "name": "stderr",
     "output_type": "stream",
     "text": [
      "Clipping input data to the valid range for imshow with RGB data ([0..1] for floats or [0..255] for integers).\n"
     ]
    },
    {
     "name": "stdout",
     "output_type": "stream",
     "text": [
      "0.935\n"
     ]
    },
    {
     "name": "stderr",
     "output_type": "stream",
     "text": [
      "Clipping input data to the valid range for imshow with RGB data ([0..1] for floats or [0..255] for integers).\n"
     ]
    },
    {
     "name": "stdout",
     "output_type": "stream",
     "text": [
      "before finetuning : auroc = 0.3998003619741314\n"
     ]
    },
    {
     "name": "stderr",
     "output_type": "stream",
     "text": [
      "Clipping input data to the valid range for imshow with RGB data ([0..1] for floats or [0..255] for integers).\n"
     ]
    },
    {
     "name": "stdout",
     "output_type": "stream",
     "text": [
      "Global sparsity before finetuned: 93.29%\n"
     ]
    },
    {
     "name": "stderr",
     "output_type": "stream",
     "text": [
      " 10%|█         | 1/10 [00:10<01:38, 10.97s/it]"
     ]
    },
    {
     "name": "stdout",
     "output_type": "stream",
     "text": [
      "Epoch [1/10] Batch [15/845]=> Loss: 4.12415\n"
     ]
    },
    {
     "name": "stderr",
     "output_type": "stream",
     "text": [
      " 20%|██        | 2/10 [00:20<01:19,  9.95s/it]"
     ]
    },
    {
     "name": "stdout",
     "output_type": "stream",
     "text": [
      "Epoch [2/10] Batch [15/845]=> Loss: 2.93930\n"
     ]
    },
    {
     "name": "stderr",
     "output_type": "stream",
     "text": [
      " 30%|███       | 3/10 [00:29<01:07,  9.60s/it]"
     ]
    },
    {
     "name": "stdout",
     "output_type": "stream",
     "text": [
      "Epoch [3/10] Batch [15/845]=> Loss: 2.71462\n"
     ]
    },
    {
     "name": "stderr",
     "output_type": "stream",
     "text": [
      " 40%|████      | 4/10 [00:38<00:56,  9.43s/it]"
     ]
    },
    {
     "name": "stdout",
     "output_type": "stream",
     "text": [
      "Epoch [4/10] Batch [15/845]=> Loss: 2.59411\n"
     ]
    },
    {
     "name": "stderr",
     "output_type": "stream",
     "text": [
      " 50%|█████     | 5/10 [00:47<00:46,  9.34s/it]"
     ]
    },
    {
     "name": "stdout",
     "output_type": "stream",
     "text": [
      "Epoch [5/10] Batch [15/845]=> Loss: 2.51811\n"
     ]
    },
    {
     "name": "stderr",
     "output_type": "stream",
     "text": [
      " 60%|██████    | 6/10 [00:56<00:37,  9.29s/it]"
     ]
    },
    {
     "name": "stdout",
     "output_type": "stream",
     "text": [
      "Epoch [6/10] Batch [15/845]=> Loss: 2.46344\n"
     ]
    },
    {
     "name": "stderr",
     "output_type": "stream",
     "text": [
      " 70%|███████   | 7/10 [01:06<00:27,  9.26s/it]"
     ]
    },
    {
     "name": "stdout",
     "output_type": "stream",
     "text": [
      "Epoch [7/10] Batch [15/845]=> Loss: 2.41989\n"
     ]
    },
    {
     "name": "stderr",
     "output_type": "stream",
     "text": [
      " 80%|████████  | 8/10 [01:15<00:18,  9.25s/it]"
     ]
    },
    {
     "name": "stdout",
     "output_type": "stream",
     "text": [
      "Epoch [8/10] Batch [15/845]=> Loss: 2.38304\n"
     ]
    },
    {
     "name": "stderr",
     "output_type": "stream",
     "text": [
      " 90%|█████████ | 9/10 [01:24<00:09,  9.23s/it]"
     ]
    },
    {
     "name": "stdout",
     "output_type": "stream",
     "text": [
      "Epoch [9/10] Batch [15/845]=> Loss: 2.35207\n"
     ]
    },
    {
     "name": "stderr",
     "output_type": "stream",
     "text": [
      "100%|██████████| 10/10 [01:33<00:00,  9.37s/it]"
     ]
    },
    {
     "name": "stdout",
     "output_type": "stream",
     "text": [
      "Epoch [10/10] Batch [15/845]=> Loss: 2.32530\n"
     ]
    },
    {
     "name": "stderr",
     "output_type": "stream",
     "text": [
      "\n",
      "Clipping input data to the valid range for imshow with RGB data ([0..1] for floats or [0..255] for integers).\n"
     ]
    },
    {
     "name": "stdout",
     "output_type": "stream",
     "text": [
      "after finetuning : auroc = 0.47464218981673006\n",
      "Global sparsity after finetuned: 93.29%\n"
     ]
    },
    {
     "name": "stderr",
     "output_type": "stream",
     "text": [
      "Clipping input data to the valid range for imshow with RGB data ([0..1] for floats or [0..255] for integers).\n"
     ]
    },
    {
     "name": "stdout",
     "output_type": "stream",
     "text": [
      "0.94\n"
     ]
    },
    {
     "name": "stderr",
     "output_type": "stream",
     "text": [
      "Clipping input data to the valid range for imshow with RGB data ([0..1] for floats or [0..255] for integers).\n"
     ]
    },
    {
     "name": "stdout",
     "output_type": "stream",
     "text": [
      "before finetuning : auroc = 0.4119510987697311\n"
     ]
    },
    {
     "name": "stderr",
     "output_type": "stream",
     "text": [
      "Clipping input data to the valid range for imshow with RGB data ([0..1] for floats or [0..255] for integers).\n"
     ]
    },
    {
     "name": "stdout",
     "output_type": "stream",
     "text": [
      "Global sparsity before finetuned: 93.78%\n"
     ]
    },
    {
     "name": "stderr",
     "output_type": "stream",
     "text": [
      " 10%|█         | 1/10 [00:09<01:22,  9.19s/it]"
     ]
    },
    {
     "name": "stdout",
     "output_type": "stream",
     "text": [
      "Epoch [1/10] Batch [15/845]=> Loss: 4.41474\n"
     ]
    },
    {
     "name": "stderr",
     "output_type": "stream",
     "text": [
      " 20%|██        | 2/10 [00:18<01:13,  9.19s/it]"
     ]
    },
    {
     "name": "stdout",
     "output_type": "stream",
     "text": [
      "Epoch [2/10] Batch [15/845]=> Loss: 3.10197\n"
     ]
    },
    {
     "name": "stderr",
     "output_type": "stream",
     "text": [
      " 30%|███       | 3/10 [00:27<01:04,  9.21s/it]"
     ]
    },
    {
     "name": "stdout",
     "output_type": "stream",
     "text": [
      "Epoch [3/10] Batch [15/845]=> Loss: 2.85232\n"
     ]
    },
    {
     "name": "stderr",
     "output_type": "stream",
     "text": [
      " 40%|████      | 4/10 [00:36<00:55,  9.20s/it]"
     ]
    },
    {
     "name": "stdout",
     "output_type": "stream",
     "text": [
      "Epoch [4/10] Batch [15/845]=> Loss: 2.71989\n"
     ]
    },
    {
     "name": "stderr",
     "output_type": "stream",
     "text": [
      " 50%|█████     | 5/10 [00:47<00:49,  9.82s/it]"
     ]
    },
    {
     "name": "stdout",
     "output_type": "stream",
     "text": [
      "Epoch [5/10] Batch [15/845]=> Loss: 2.63032\n"
     ]
    },
    {
     "name": "stderr",
     "output_type": "stream",
     "text": [
      " 60%|██████    | 6/10 [00:58<00:40, 10.23s/it]"
     ]
    },
    {
     "name": "stdout",
     "output_type": "stream",
     "text": [
      "Epoch [6/10] Batch [15/845]=> Loss: 2.56713\n"
     ]
    },
    {
     "name": "stderr",
     "output_type": "stream",
     "text": [
      " 70%|███████   | 7/10 [01:09<00:31, 10.50s/it]"
     ]
    },
    {
     "name": "stdout",
     "output_type": "stream",
     "text": [
      "Epoch [7/10] Batch [15/845]=> Loss: 2.51769\n"
     ]
    },
    {
     "name": "stderr",
     "output_type": "stream",
     "text": [
      " 80%|████████  | 8/10 [01:20<00:21, 10.65s/it]"
     ]
    },
    {
     "name": "stdout",
     "output_type": "stream",
     "text": [
      "Epoch [8/10] Batch [15/845]=> Loss: 2.48080\n"
     ]
    },
    {
     "name": "stderr",
     "output_type": "stream",
     "text": [
      " 90%|█████████ | 9/10 [01:31<00:10, 10.74s/it]"
     ]
    },
    {
     "name": "stdout",
     "output_type": "stream",
     "text": [
      "Epoch [9/10] Batch [15/845]=> Loss: 2.44925\n"
     ]
    },
    {
     "name": "stderr",
     "output_type": "stream",
     "text": [
      "100%|██████████| 10/10 [01:42<00:00, 10.27s/it]"
     ]
    },
    {
     "name": "stdout",
     "output_type": "stream",
     "text": [
      "Epoch [10/10] Batch [15/845]=> Loss: 2.42472\n"
     ]
    },
    {
     "name": "stderr",
     "output_type": "stream",
     "text": [
      "\n",
      "Clipping input data to the valid range for imshow with RGB data ([0..1] for floats or [0..255] for integers).\n"
     ]
    },
    {
     "name": "stdout",
     "output_type": "stream",
     "text": [
      "after finetuning : auroc = 0.47280564343663123\n",
      "Global sparsity after finetuned: 93.78%\n"
     ]
    },
    {
     "name": "stderr",
     "output_type": "stream",
     "text": [
      "Clipping input data to the valid range for imshow with RGB data ([0..1] for floats or [0..255] for integers).\n"
     ]
    },
    {
     "name": "stdout",
     "output_type": "stream",
     "text": [
      "0.945\n"
     ]
    },
    {
     "name": "stderr",
     "output_type": "stream",
     "text": [
      "Clipping input data to the valid range for imshow with RGB data ([0..1] for floats or [0..255] for integers).\n"
     ]
    },
    {
     "name": "stdout",
     "output_type": "stream",
     "text": [
      "before finetuning : auroc = 0.4162607712877507\n"
     ]
    },
    {
     "name": "stderr",
     "output_type": "stream",
     "text": [
      "Clipping input data to the valid range for imshow with RGB data ([0..1] for floats or [0..255] for integers).\n"
     ]
    },
    {
     "name": "stdout",
     "output_type": "stream",
     "text": [
      "Global sparsity before finetuned: 94.28%\n"
     ]
    },
    {
     "name": "stderr",
     "output_type": "stream",
     "text": [
      " 10%|█         | 1/10 [00:11<01:39, 11.01s/it]"
     ]
    },
    {
     "name": "stdout",
     "output_type": "stream",
     "text": [
      "Epoch [1/10] Batch [15/845]=> Loss: 4.66421\n"
     ]
    },
    {
     "name": "stderr",
     "output_type": "stream",
     "text": [
      " 20%|██        | 2/10 [00:22<01:28, 11.00s/it]"
     ]
    },
    {
     "name": "stdout",
     "output_type": "stream",
     "text": [
      "Epoch [2/10] Batch [15/845]=> Loss: 3.33896\n"
     ]
    },
    {
     "name": "stderr",
     "output_type": "stream",
     "text": [
      " 30%|███       | 3/10 [00:32<01:16, 10.99s/it]"
     ]
    },
    {
     "name": "stdout",
     "output_type": "stream",
     "text": [
      "Epoch [3/10] Batch [15/845]=> Loss: 3.05387\n"
     ]
    },
    {
     "name": "stderr",
     "output_type": "stream",
     "text": [
      " 40%|████      | 4/10 [00:43<01:05, 10.99s/it]"
     ]
    },
    {
     "name": "stdout",
     "output_type": "stream",
     "text": [
      "Epoch [4/10] Batch [15/845]=> Loss: 2.90033\n"
     ]
    },
    {
     "name": "stderr",
     "output_type": "stream",
     "text": [
      " 50%|█████     | 5/10 [00:54<00:54, 10.98s/it]"
     ]
    },
    {
     "name": "stdout",
     "output_type": "stream",
     "text": [
      "Epoch [5/10] Batch [15/845]=> Loss: 2.80425\n"
     ]
    },
    {
     "name": "stderr",
     "output_type": "stream",
     "text": [
      " 60%|██████    | 6/10 [01:05<00:43, 10.99s/it]"
     ]
    },
    {
     "name": "stdout",
     "output_type": "stream",
     "text": [
      "Epoch [6/10] Batch [15/845]=> Loss: 2.73334\n"
     ]
    },
    {
     "name": "stderr",
     "output_type": "stream",
     "text": [
      " 70%|███████   | 7/10 [01:16<00:32, 11.00s/it]"
     ]
    },
    {
     "name": "stdout",
     "output_type": "stream",
     "text": [
      "Epoch [7/10] Batch [15/845]=> Loss: 2.67896\n"
     ]
    },
    {
     "name": "stderr",
     "output_type": "stream",
     "text": [
      " 80%|████████  | 8/10 [01:27<00:22, 11.01s/it]"
     ]
    },
    {
     "name": "stdout",
     "output_type": "stream",
     "text": [
      "Epoch [8/10] Batch [15/845]=> Loss: 2.63433\n"
     ]
    },
    {
     "name": "stderr",
     "output_type": "stream",
     "text": [
      " 90%|█████████ | 9/10 [01:38<00:11, 11.00s/it]"
     ]
    },
    {
     "name": "stdout",
     "output_type": "stream",
     "text": [
      "Epoch [9/10] Batch [15/845]=> Loss: 2.59741\n"
     ]
    },
    {
     "name": "stderr",
     "output_type": "stream",
     "text": [
      "100%|██████████| 10/10 [01:49<00:00, 11.00s/it]"
     ]
    },
    {
     "name": "stdout",
     "output_type": "stream",
     "text": [
      "Epoch [10/10] Batch [15/845]=> Loss: 2.56587\n"
     ]
    },
    {
     "name": "stderr",
     "output_type": "stream",
     "text": [
      "\n",
      "Clipping input data to the valid range for imshow with RGB data ([0..1] for floats or [0..255] for integers).\n"
     ]
    },
    {
     "name": "stdout",
     "output_type": "stream",
     "text": [
      "after finetuning : auroc = 0.4567091593300161\n",
      "Global sparsity after finetuned: 94.28%\n"
     ]
    },
    {
     "name": "stderr",
     "output_type": "stream",
     "text": [
      "Clipping input data to the valid range for imshow with RGB data ([0..1] for floats or [0..255] for integers).\n"
     ]
    },
    {
     "name": "stdout",
     "output_type": "stream",
     "text": [
      "0.95\n"
     ]
    },
    {
     "name": "stderr",
     "output_type": "stream",
     "text": [
      "Clipping input data to the valid range for imshow with RGB data ([0..1] for floats or [0..255] for integers).\n"
     ]
    },
    {
     "name": "stdout",
     "output_type": "stream",
     "text": [
      "before finetuning : auroc = 0.41659581616634805\n"
     ]
    },
    {
     "name": "stderr",
     "output_type": "stream",
     "text": [
      "Clipping input data to the valid range for imshow with RGB data ([0..1] for floats or [0..255] for integers).\n"
     ]
    },
    {
     "name": "stdout",
     "output_type": "stream",
     "text": [
      "Global sparsity before finetuned: 94.78%\n"
     ]
    },
    {
     "name": "stderr",
     "output_type": "stream",
     "text": [
      " 10%|█         | 1/10 [00:10<01:38, 10.98s/it]"
     ]
    },
    {
     "name": "stdout",
     "output_type": "stream",
     "text": [
      "Epoch [1/10] Batch [15/845]=> Loss: 4.95192\n"
     ]
    },
    {
     "name": "stderr",
     "output_type": "stream",
     "text": [
      " 20%|██        | 2/10 [00:21<01:27, 10.97s/it]"
     ]
    },
    {
     "name": "stdout",
     "output_type": "stream",
     "text": [
      "Epoch [2/10] Batch [15/845]=> Loss: 3.51621\n"
     ]
    },
    {
     "name": "stderr",
     "output_type": "stream",
     "text": [
      " 30%|███       | 3/10 [00:32<01:17, 11.00s/it]"
     ]
    },
    {
     "name": "stdout",
     "output_type": "stream",
     "text": [
      "Epoch [3/10] Batch [15/845]=> Loss: 3.21138\n"
     ]
    },
    {
     "name": "stderr",
     "output_type": "stream",
     "text": [
      " 40%|████      | 4/10 [00:43<01:05, 10.99s/it]"
     ]
    },
    {
     "name": "stdout",
     "output_type": "stream",
     "text": [
      "Epoch [4/10] Batch [15/845]=> Loss: 3.06972\n"
     ]
    },
    {
     "name": "stderr",
     "output_type": "stream",
     "text": [
      " 50%|█████     | 5/10 [00:54<00:54, 10.98s/it]"
     ]
    },
    {
     "name": "stdout",
     "output_type": "stream",
     "text": [
      "Epoch [5/10] Batch [15/845]=> Loss: 2.97833\n"
     ]
    },
    {
     "name": "stderr",
     "output_type": "stream",
     "text": [
      " 60%|██████    | 6/10 [01:05<00:43, 10.98s/it]"
     ]
    },
    {
     "name": "stdout",
     "output_type": "stream",
     "text": [
      "Epoch [6/10] Batch [15/845]=> Loss: 2.91183\n"
     ]
    },
    {
     "name": "stderr",
     "output_type": "stream",
     "text": [
      " 70%|███████   | 7/10 [01:16<00:32, 10.97s/it]"
     ]
    },
    {
     "name": "stdout",
     "output_type": "stream",
     "text": [
      "Epoch [7/10] Batch [15/845]=> Loss: 2.85792\n"
     ]
    },
    {
     "name": "stderr",
     "output_type": "stream",
     "text": [
      " 80%|████████  | 8/10 [01:27<00:21, 10.98s/it]"
     ]
    },
    {
     "name": "stdout",
     "output_type": "stream",
     "text": [
      "Epoch [8/10] Batch [15/845]=> Loss: 2.81419\n"
     ]
    },
    {
     "name": "stderr",
     "output_type": "stream",
     "text": [
      " 90%|█████████ | 9/10 [01:38<00:11, 11.00s/it]"
     ]
    },
    {
     "name": "stdout",
     "output_type": "stream",
     "text": [
      "Epoch [9/10] Batch [15/845]=> Loss: 2.77910\n"
     ]
    },
    {
     "name": "stderr",
     "output_type": "stream",
     "text": [
      "100%|██████████| 10/10 [01:49<00:00, 10.99s/it]"
     ]
    },
    {
     "name": "stdout",
     "output_type": "stream",
     "text": [
      "Epoch [10/10] Batch [15/845]=> Loss: 2.74869\n"
     ]
    },
    {
     "name": "stderr",
     "output_type": "stream",
     "text": [
      "\n",
      "Clipping input data to the valid range for imshow with RGB data ([0..1] for floats or [0..255] for integers).\n"
     ]
    },
    {
     "name": "stdout",
     "output_type": "stream",
     "text": [
      "after finetuning : auroc = 0.4560912636014497\n",
      "Global sparsity after finetuned: 94.78%\n"
     ]
    },
    {
     "name": "stderr",
     "output_type": "stream",
     "text": [
      "Clipping input data to the valid range for imshow with RGB data ([0..1] for floats or [0..255] for integers).\n"
     ]
    },
    {
     "name": "stdout",
     "output_type": "stream",
     "text": [
      "0.955\n"
     ]
    },
    {
     "name": "stderr",
     "output_type": "stream",
     "text": [
      "Clipping input data to the valid range for imshow with RGB data ([0..1] for floats or [0..255] for integers).\n"
     ]
    },
    {
     "name": "stdout",
     "output_type": "stream",
     "text": [
      "before finetuning : auroc = 0.4171213940512476\n"
     ]
    },
    {
     "name": "stderr",
     "output_type": "stream",
     "text": [
      "Clipping input data to the valid range for imshow with RGB data ([0..1] for floats or [0..255] for integers).\n"
     ]
    },
    {
     "name": "stdout",
     "output_type": "stream",
     "text": [
      "Global sparsity before finetuned: 95.28%\n"
     ]
    },
    {
     "name": "stderr",
     "output_type": "stream",
     "text": [
      " 10%|█         | 1/10 [00:10<01:38, 10.96s/it]"
     ]
    },
    {
     "name": "stdout",
     "output_type": "stream",
     "text": [
      "Epoch [1/10] Batch [15/845]=> Loss: 5.50897\n"
     ]
    },
    {
     "name": "stderr",
     "output_type": "stream",
     "text": [
      " 20%|██        | 2/10 [00:22<01:28, 11.04s/it]"
     ]
    },
    {
     "name": "stdout",
     "output_type": "stream",
     "text": [
      "Epoch [2/10] Batch [15/845]=> Loss: 4.19587\n"
     ]
    },
    {
     "name": "stderr",
     "output_type": "stream",
     "text": [
      " 30%|███       | 3/10 [00:33<01:17, 11.00s/it]"
     ]
    },
    {
     "name": "stdout",
     "output_type": "stream",
     "text": [
      "Epoch [3/10] Batch [15/845]=> Loss: 3.95735\n"
     ]
    },
    {
     "name": "stderr",
     "output_type": "stream",
     "text": [
      " 40%|████      | 4/10 [00:44<01:05, 11.00s/it]"
     ]
    },
    {
     "name": "stdout",
     "output_type": "stream",
     "text": [
      "Epoch [4/10] Batch [15/845]=> Loss: 3.84112\n"
     ]
    },
    {
     "name": "stderr",
     "output_type": "stream",
     "text": [
      " 50%|█████     | 5/10 [00:54<00:54, 10.97s/it]"
     ]
    },
    {
     "name": "stdout",
     "output_type": "stream",
     "text": [
      "Epoch [5/10] Batch [15/845]=> Loss: 3.76314\n"
     ]
    },
    {
     "name": "stderr",
     "output_type": "stream",
     "text": [
      " 60%|██████    | 6/10 [01:05<00:44, 11.00s/it]"
     ]
    },
    {
     "name": "stdout",
     "output_type": "stream",
     "text": [
      "Epoch [6/10] Batch [15/845]=> Loss: 3.70631\n"
     ]
    },
    {
     "name": "stderr",
     "output_type": "stream",
     "text": [
      " 70%|███████   | 7/10 [01:17<00:33, 11.02s/it]"
     ]
    },
    {
     "name": "stdout",
     "output_type": "stream",
     "text": [
      "Epoch [7/10] Batch [15/845]=> Loss: 3.66004\n"
     ]
    },
    {
     "name": "stderr",
     "output_type": "stream",
     "text": [
      " 80%|████████  | 8/10 [01:28<00:22, 11.03s/it]"
     ]
    },
    {
     "name": "stdout",
     "output_type": "stream",
     "text": [
      "Epoch [8/10] Batch [15/845]=> Loss: 3.61784\n"
     ]
    },
    {
     "name": "stderr",
     "output_type": "stream",
     "text": [
      " 90%|█████████ | 9/10 [01:39<00:11, 11.04s/it]"
     ]
    },
    {
     "name": "stdout",
     "output_type": "stream",
     "text": [
      "Epoch [9/10] Batch [15/845]=> Loss: 3.58174\n"
     ]
    },
    {
     "name": "stderr",
     "output_type": "stream",
     "text": [
      "100%|██████████| 10/10 [01:50<00:00, 11.03s/it]"
     ]
    },
    {
     "name": "stdout",
     "output_type": "stream",
     "text": [
      "Epoch [10/10] Batch [15/845]=> Loss: 3.54825\n"
     ]
    },
    {
     "name": "stderr",
     "output_type": "stream",
     "text": [
      "\n",
      "Clipping input data to the valid range for imshow with RGB data ([0..1] for floats or [0..255] for integers).\n"
     ]
    },
    {
     "name": "stdout",
     "output_type": "stream",
     "text": [
      "after finetuning : auroc = 0.5539622322465622\n",
      "Global sparsity after finetuned: 95.28%\n"
     ]
    },
    {
     "name": "stderr",
     "output_type": "stream",
     "text": [
      "Clipping input data to the valid range for imshow with RGB data ([0..1] for floats or [0..255] for integers).\n"
     ]
    },
    {
     "name": "stdout",
     "output_type": "stream",
     "text": [
      "0.96\n"
     ]
    },
    {
     "name": "stderr",
     "output_type": "stream",
     "text": [
      "Clipping input data to the valid range for imshow with RGB data ([0..1] for floats or [0..255] for integers).\n"
     ]
    },
    {
     "name": "stdout",
     "output_type": "stream",
     "text": [
      "before finetuning : auroc = 0.4207268605462637\n"
     ]
    },
    {
     "name": "stderr",
     "output_type": "stream",
     "text": [
      "Clipping input data to the valid range for imshow with RGB data ([0..1] for floats or [0..255] for integers).\n"
     ]
    },
    {
     "name": "stdout",
     "output_type": "stream",
     "text": [
      "Global sparsity before finetuned: 95.78%\n"
     ]
    },
    {
     "name": "stderr",
     "output_type": "stream",
     "text": [
      " 10%|█         | 1/10 [00:11<01:39, 11.08s/it]"
     ]
    },
    {
     "name": "stdout",
     "output_type": "stream",
     "text": [
      "Epoch [1/10] Batch [15/845]=> Loss: 6.22293\n"
     ]
    },
    {
     "name": "stderr",
     "output_type": "stream",
     "text": [
      " 20%|██        | 2/10 [00:22<01:28, 11.08s/it]"
     ]
    },
    {
     "name": "stdout",
     "output_type": "stream",
     "text": [
      "Epoch [2/10] Batch [15/845]=> Loss: 5.17648\n"
     ]
    },
    {
     "name": "stderr",
     "output_type": "stream",
     "text": [
      " 30%|███       | 3/10 [00:33<01:17, 11.08s/it]"
     ]
    },
    {
     "name": "stdout",
     "output_type": "stream",
     "text": [
      "Epoch [3/10] Batch [15/845]=> Loss: 4.96303\n"
     ]
    },
    {
     "name": "stderr",
     "output_type": "stream",
     "text": [
      " 40%|████      | 4/10 [00:44<01:06, 11.07s/it]"
     ]
    },
    {
     "name": "stdout",
     "output_type": "stream",
     "text": [
      "Epoch [4/10] Batch [15/845]=> Loss: 4.85874\n"
     ]
    },
    {
     "name": "stderr",
     "output_type": "stream",
     "text": [
      " 50%|█████     | 5/10 [00:55<00:55, 11.08s/it]"
     ]
    },
    {
     "name": "stdout",
     "output_type": "stream",
     "text": [
      "Epoch [5/10] Batch [15/845]=> Loss: 4.79304\n"
     ]
    },
    {
     "name": "stderr",
     "output_type": "stream",
     "text": [
      " 60%|██████    | 6/10 [01:06<00:44, 11.09s/it]"
     ]
    },
    {
     "name": "stdout",
     "output_type": "stream",
     "text": [
      "Epoch [6/10] Batch [15/845]=> Loss: 4.74360\n"
     ]
    },
    {
     "name": "stderr",
     "output_type": "stream",
     "text": [
      " 70%|███████   | 7/10 [01:17<00:33, 11.08s/it]"
     ]
    },
    {
     "name": "stdout",
     "output_type": "stream",
     "text": [
      "Epoch [7/10] Batch [15/845]=> Loss: 4.70492\n"
     ]
    },
    {
     "name": "stderr",
     "output_type": "stream",
     "text": [
      " 80%|████████  | 8/10 [01:28<00:22, 11.07s/it]"
     ]
    },
    {
     "name": "stdout",
     "output_type": "stream",
     "text": [
      "Epoch [8/10] Batch [15/845]=> Loss: 4.67310\n"
     ]
    },
    {
     "name": "stderr",
     "output_type": "stream",
     "text": [
      " 90%|█████████ | 9/10 [01:39<00:11, 11.05s/it]"
     ]
    },
    {
     "name": "stdout",
     "output_type": "stream",
     "text": [
      "Epoch [9/10] Batch [15/845]=> Loss: 4.64678\n"
     ]
    },
    {
     "name": "stderr",
     "output_type": "stream",
     "text": [
      "100%|██████████| 10/10 [01:50<00:00, 11.07s/it]"
     ]
    },
    {
     "name": "stdout",
     "output_type": "stream",
     "text": [
      "Epoch [10/10] Batch [15/845]=> Loss: 4.61838\n"
     ]
    },
    {
     "name": "stderr",
     "output_type": "stream",
     "text": [
      "\n",
      "Clipping input data to the valid range for imshow with RGB data ([0..1] for floats or [0..255] for integers).\n"
     ]
    },
    {
     "name": "stdout",
     "output_type": "stream",
     "text": [
      "after finetuning : auroc = 0.5681682673754032\n",
      "Global sparsity after finetuned: 95.78%\n"
     ]
    },
    {
     "name": "stderr",
     "output_type": "stream",
     "text": [
      "Clipping input data to the valid range for imshow with RGB data ([0..1] for floats or [0..255] for integers).\n"
     ]
    },
    {
     "name": "stdout",
     "output_type": "stream",
     "text": [
      "0.965\n"
     ]
    },
    {
     "name": "stderr",
     "output_type": "stream",
     "text": [
      "Clipping input data to the valid range for imshow with RGB data ([0..1] for floats or [0..255] for integers).\n"
     ]
    },
    {
     "name": "stdout",
     "output_type": "stream",
     "text": [
      "before finetuning : auroc = 0.41287835572605974\n"
     ]
    },
    {
     "name": "stderr",
     "output_type": "stream",
     "text": [
      "Clipping input data to the valid range for imshow with RGB data ([0..1] for floats or [0..255] for integers).\n"
     ]
    },
    {
     "name": "stdout",
     "output_type": "stream",
     "text": [
      "Global sparsity before finetuned: 96.28%\n"
     ]
    },
    {
     "name": "stderr",
     "output_type": "stream",
     "text": [
      " 10%|█         | 1/10 [00:11<01:40, 11.13s/it]"
     ]
    },
    {
     "name": "stdout",
     "output_type": "stream",
     "text": [
      "Epoch [1/10] Batch [15/845]=> Loss: 7.14212\n"
     ]
    },
    {
     "name": "stderr",
     "output_type": "stream",
     "text": [
      " 20%|██        | 2/10 [00:22<01:28, 11.09s/it]"
     ]
    },
    {
     "name": "stdout",
     "output_type": "stream",
     "text": [
      "Epoch [2/10] Batch [15/845]=> Loss: 6.81006\n"
     ]
    },
    {
     "name": "stderr",
     "output_type": "stream",
     "text": [
      " 30%|███       | 3/10 [00:33<01:17, 11.14s/it]"
     ]
    },
    {
     "name": "stdout",
     "output_type": "stream",
     "text": [
      "Epoch [3/10] Batch [15/845]=> Loss: 6.74951\n"
     ]
    },
    {
     "name": "stderr",
     "output_type": "stream",
     "text": [
      " 40%|████      | 4/10 [00:44<01:06, 11.11s/it]"
     ]
    },
    {
     "name": "stdout",
     "output_type": "stream",
     "text": [
      "Epoch [4/10] Batch [15/845]=> Loss: 6.71528\n"
     ]
    },
    {
     "name": "stderr",
     "output_type": "stream",
     "text": [
      " 50%|█████     | 5/10 [00:55<00:55, 11.13s/it]"
     ]
    },
    {
     "name": "stdout",
     "output_type": "stream",
     "text": [
      "Epoch [5/10] Batch [15/845]=> Loss: 6.68822\n"
     ]
    },
    {
     "name": "stderr",
     "output_type": "stream",
     "text": [
      " 60%|██████    | 6/10 [01:06<00:44, 11.10s/it]"
     ]
    },
    {
     "name": "stdout",
     "output_type": "stream",
     "text": [
      "Epoch [6/10] Batch [15/845]=> Loss: 6.66675\n"
     ]
    },
    {
     "name": "stderr",
     "output_type": "stream",
     "text": [
      " 70%|███████   | 7/10 [01:17<00:33, 11.10s/it]"
     ]
    },
    {
     "name": "stdout",
     "output_type": "stream",
     "text": [
      "Epoch [7/10] Batch [15/845]=> Loss: 6.64609\n"
     ]
    },
    {
     "name": "stderr",
     "output_type": "stream",
     "text": [
      " 80%|████████  | 8/10 [01:28<00:22, 11.08s/it]"
     ]
    },
    {
     "name": "stdout",
     "output_type": "stream",
     "text": [
      "Epoch [8/10] Batch [15/845]=> Loss: 6.62449\n"
     ]
    },
    {
     "name": "stderr",
     "output_type": "stream",
     "text": [
      " 90%|█████████ | 9/10 [01:39<00:11, 11.08s/it]"
     ]
    },
    {
     "name": "stdout",
     "output_type": "stream",
     "text": [
      "Epoch [9/10] Batch [15/845]=> Loss: 6.60700\n"
     ]
    },
    {
     "name": "stderr",
     "output_type": "stream",
     "text": [
      "100%|██████████| 10/10 [01:50<00:00, 11.10s/it]"
     ]
    },
    {
     "name": "stdout",
     "output_type": "stream",
     "text": [
      "Epoch [10/10] Batch [15/845]=> Loss: 6.59297\n"
     ]
    },
    {
     "name": "stderr",
     "output_type": "stream",
     "text": [
      "\n",
      "Clipping input data to the valid range for imshow with RGB data ([0..1] for floats or [0..255] for integers).\n"
     ]
    },
    {
     "name": "stdout",
     "output_type": "stream",
     "text": [
      "after finetuning : auroc = 0.3968474035096654\n",
      "Global sparsity after finetuned: 96.28%\n"
     ]
    },
    {
     "name": "stderr",
     "output_type": "stream",
     "text": [
      "Clipping input data to the valid range for imshow with RGB data ([0..1] for floats or [0..255] for integers).\n"
     ]
    },
    {
     "name": "stdout",
     "output_type": "stream",
     "text": [
      "0.97\n"
     ]
    },
    {
     "name": "stderr",
     "output_type": "stream",
     "text": [
      "Clipping input data to the valid range for imshow with RGB data ([0..1] for floats or [0..255] for integers).\n"
     ]
    },
    {
     "name": "stdout",
     "output_type": "stream",
     "text": [
      "before finetuning : auroc = 0.3981799220209087\n"
     ]
    },
    {
     "name": "stderr",
     "output_type": "stream",
     "text": [
      "Clipping input data to the valid range for imshow with RGB data ([0..1] for floats or [0..255] for integers).\n"
     ]
    },
    {
     "name": "stdout",
     "output_type": "stream",
     "text": [
      "Global sparsity before finetuned: 96.78%\n"
     ]
    },
    {
     "name": "stderr",
     "output_type": "stream",
     "text": [
      " 10%|█         | 1/10 [00:11<01:39, 11.10s/it]"
     ]
    },
    {
     "name": "stdout",
     "output_type": "stream",
     "text": [
      "Epoch [1/10] Batch [15/845]=> Loss: 7.34779\n"
     ]
    },
    {
     "name": "stderr",
     "output_type": "stream",
     "text": [
      " 20%|██        | 2/10 [00:22<01:28, 11.09s/it]"
     ]
    },
    {
     "name": "stdout",
     "output_type": "stream",
     "text": [
      "Epoch [2/10] Batch [15/845]=> Loss: 7.24239\n"
     ]
    },
    {
     "name": "stderr",
     "output_type": "stream",
     "text": [
      " 30%|███       | 3/10 [00:33<01:17, 11.07s/it]"
     ]
    },
    {
     "name": "stdout",
     "output_type": "stream",
     "text": [
      "Epoch [3/10] Batch [15/845]=> Loss: 7.24241\n"
     ]
    },
    {
     "name": "stderr",
     "output_type": "stream",
     "text": [
      " 40%|████      | 4/10 [00:44<01:06, 11.05s/it]"
     ]
    },
    {
     "name": "stdout",
     "output_type": "stream",
     "text": [
      "Epoch [4/10] Batch [15/845]=> Loss: 7.24223\n"
     ]
    },
    {
     "name": "stderr",
     "output_type": "stream",
     "text": [
      " 50%|█████     | 5/10 [00:55<00:55, 11.07s/it]"
     ]
    },
    {
     "name": "stdout",
     "output_type": "stream",
     "text": [
      "Epoch [5/10] Batch [15/845]=> Loss: 7.24213\n"
     ]
    },
    {
     "name": "stderr",
     "output_type": "stream",
     "text": [
      " 60%|██████    | 6/10 [01:06<00:44, 11.11s/it]"
     ]
    },
    {
     "name": "stdout",
     "output_type": "stream",
     "text": [
      "Epoch [6/10] Batch [15/845]=> Loss: 7.24179\n"
     ]
    },
    {
     "name": "stderr",
     "output_type": "stream",
     "text": [
      " 70%|███████   | 7/10 [01:17<00:33, 11.09s/it]"
     ]
    },
    {
     "name": "stdout",
     "output_type": "stream",
     "text": [
      "Epoch [7/10] Batch [15/845]=> Loss: 7.24185\n"
     ]
    },
    {
     "name": "stderr",
     "output_type": "stream",
     "text": [
      " 80%|████████  | 8/10 [01:28<00:22, 11.09s/it]"
     ]
    },
    {
     "name": "stdout",
     "output_type": "stream",
     "text": [
      "Epoch [8/10] Batch [15/845]=> Loss: 7.24168\n"
     ]
    },
    {
     "name": "stderr",
     "output_type": "stream",
     "text": [
      " 90%|█████████ | 9/10 [01:39<00:11, 11.10s/it]"
     ]
    },
    {
     "name": "stdout",
     "output_type": "stream",
     "text": [
      "Epoch [9/10] Batch [15/845]=> Loss: 7.24169\n"
     ]
    },
    {
     "name": "stderr",
     "output_type": "stream",
     "text": [
      "100%|██████████| 10/10 [01:50<00:00, 11.09s/it]"
     ]
    },
    {
     "name": "stdout",
     "output_type": "stream",
     "text": [
      "Epoch [10/10] Batch [15/845]=> Loss: 7.24139\n"
     ]
    },
    {
     "name": "stderr",
     "output_type": "stream",
     "text": [
      "\n",
      "Clipping input data to the valid range for imshow with RGB data ([0..1] for floats or [0..255] for integers).\n"
     ]
    },
    {
     "name": "stdout",
     "output_type": "stream",
     "text": [
      "after finetuning : auroc = 0.39232052226215863\n",
      "Global sparsity after finetuned: 96.78%\n"
     ]
    },
    {
     "name": "stderr",
     "output_type": "stream",
     "text": [
      "Clipping input data to the valid range for imshow with RGB data ([0..1] for floats or [0..255] for integers).\n"
     ]
    },
    {
     "name": "stdout",
     "output_type": "stream",
     "text": [
      "0.98\n"
     ]
    },
    {
     "name": "stderr",
     "output_type": "stream",
     "text": [
      "Clipping input data to the valid range for imshow with RGB data ([0..1] for floats or [0..255] for integers).\n"
     ]
    },
    {
     "name": "stdout",
     "output_type": "stream",
     "text": [
      "before finetuning : auroc = 0.3621302725476274\n"
     ]
    },
    {
     "name": "stderr",
     "output_type": "stream",
     "text": [
      "Clipping input data to the valid range for imshow with RGB data ([0..1] for floats or [0..255] for integers).\n"
     ]
    },
    {
     "name": "stdout",
     "output_type": "stream",
     "text": [
      "Global sparsity before finetuned: 97.77%\n"
     ]
    },
    {
     "name": "stderr",
     "output_type": "stream",
     "text": [
      " 10%|█         | 1/10 [00:11<01:39, 11.09s/it]"
     ]
    },
    {
     "name": "stdout",
     "output_type": "stream",
     "text": [
      "Epoch [1/10] Batch [15/845]=> Loss: 7.36694\n"
     ]
    },
    {
     "name": "stderr",
     "output_type": "stream",
     "text": [
      " 20%|██        | 2/10 [00:22<01:28, 11.07s/it]"
     ]
    },
    {
     "name": "stdout",
     "output_type": "stream",
     "text": [
      "Epoch [2/10] Batch [15/845]=> Loss: 7.24113\n"
     ]
    },
    {
     "name": "stderr",
     "output_type": "stream",
     "text": [
      " 30%|███       | 3/10 [00:33<01:18, 11.16s/it]"
     ]
    },
    {
     "name": "stdout",
     "output_type": "stream",
     "text": [
      "Epoch [3/10] Batch [15/845]=> Loss: 7.24134\n"
     ]
    },
    {
     "name": "stderr",
     "output_type": "stream",
     "text": [
      " 40%|████      | 4/10 [00:44<01:06, 11.15s/it]"
     ]
    },
    {
     "name": "stdout",
     "output_type": "stream",
     "text": [
      "Epoch [4/10] Batch [15/845]=> Loss: 7.24105\n"
     ]
    },
    {
     "name": "stderr",
     "output_type": "stream",
     "text": [
      " 50%|█████     | 5/10 [00:55<00:55, 11.15s/it]"
     ]
    },
    {
     "name": "stdout",
     "output_type": "stream",
     "text": [
      "Epoch [5/10] Batch [15/845]=> Loss: 7.24111\n"
     ]
    },
    {
     "name": "stderr",
     "output_type": "stream",
     "text": [
      " 60%|██████    | 6/10 [01:06<00:44, 11.13s/it]"
     ]
    },
    {
     "name": "stdout",
     "output_type": "stream",
     "text": [
      "Epoch [6/10] Batch [15/845]=> Loss: 7.24096\n"
     ]
    },
    {
     "name": "stderr",
     "output_type": "stream",
     "text": [
      " 70%|███████   | 7/10 [01:17<00:33, 11.13s/it]"
     ]
    },
    {
     "name": "stdout",
     "output_type": "stream",
     "text": [
      "Epoch [7/10] Batch [15/845]=> Loss: 7.24099\n"
     ]
    },
    {
     "name": "stderr",
     "output_type": "stream",
     "text": [
      " 80%|████████  | 8/10 [01:29<00:22, 11.12s/it]"
     ]
    },
    {
     "name": "stdout",
     "output_type": "stream",
     "text": [
      "Epoch [8/10] Batch [15/845]=> Loss: 7.24073\n"
     ]
    },
    {
     "name": "stderr",
     "output_type": "stream",
     "text": [
      " 90%|█████████ | 9/10 [01:40<00:11, 11.09s/it]"
     ]
    },
    {
     "name": "stdout",
     "output_type": "stream",
     "text": [
      "Epoch [9/10] Batch [15/845]=> Loss: 7.24071\n"
     ]
    },
    {
     "name": "stderr",
     "output_type": "stream",
     "text": [
      "100%|██████████| 10/10 [01:51<00:00, 11.11s/it]"
     ]
    },
    {
     "name": "stdout",
     "output_type": "stream",
     "text": [
      "Epoch [10/10] Batch [15/845]=> Loss: 7.24061\n"
     ]
    },
    {
     "name": "stderr",
     "output_type": "stream",
     "text": [
      "\n",
      "Clipping input data to the valid range for imshow with RGB data ([0..1] for floats or [0..255] for integers).\n"
     ]
    },
    {
     "name": "stdout",
     "output_type": "stream",
     "text": [
      "after finetuning : auroc = 0.3932327327878478\n",
      "Global sparsity after finetuned: 97.77%\n"
     ]
    },
    {
     "name": "stderr",
     "output_type": "stream",
     "text": [
      "Clipping input data to the valid range for imshow with RGB data ([0..1] for floats or [0..255] for integers).\n"
     ]
    },
    {
     "name": "stdout",
     "output_type": "stream",
     "text": [
      "0.99\n"
     ]
    },
    {
     "name": "stderr",
     "output_type": "stream",
     "text": [
      "Clipping input data to the valid range for imshow with RGB data ([0..1] for floats or [0..255] for integers).\n"
     ]
    },
    {
     "name": "stdout",
     "output_type": "stream",
     "text": [
      "before finetuning : auroc = 0.3817320238419237\n"
     ]
    },
    {
     "name": "stderr",
     "output_type": "stream",
     "text": [
      "Clipping input data to the valid range for imshow with RGB data ([0..1] for floats or [0..255] for integers).\n"
     ]
    },
    {
     "name": "stdout",
     "output_type": "stream",
     "text": [
      "Global sparsity before finetuned: 98.77%\n"
     ]
    },
    {
     "name": "stderr",
     "output_type": "stream",
     "text": [
      " 10%|█         | 1/10 [00:11<01:40, 11.16s/it]"
     ]
    },
    {
     "name": "stdout",
     "output_type": "stream",
     "text": [
      "Epoch [1/10] Batch [15/845]=> Loss: 7.39669\n"
     ]
    },
    {
     "name": "stderr",
     "output_type": "stream",
     "text": [
      " 20%|██        | 2/10 [00:22<01:29, 11.14s/it]"
     ]
    },
    {
     "name": "stdout",
     "output_type": "stream",
     "text": [
      "Epoch [2/10] Batch [15/845]=> Loss: 7.24001\n"
     ]
    },
    {
     "name": "stderr",
     "output_type": "stream",
     "text": [
      " 30%|███       | 3/10 [00:33<01:17, 11.12s/it]"
     ]
    },
    {
     "name": "stdout",
     "output_type": "stream",
     "text": [
      "Epoch [3/10] Batch [15/845]=> Loss: 7.23982\n"
     ]
    },
    {
     "name": "stderr",
     "output_type": "stream",
     "text": [
      " 40%|████      | 4/10 [00:44<01:06, 11.16s/it]"
     ]
    },
    {
     "name": "stdout",
     "output_type": "stream",
     "text": [
      "Epoch [4/10] Batch [15/845]=> Loss: 7.23998\n"
     ]
    },
    {
     "name": "stderr",
     "output_type": "stream",
     "text": [
      " 50%|█████     | 5/10 [00:55<00:55, 11.15s/it]"
     ]
    },
    {
     "name": "stdout",
     "output_type": "stream",
     "text": [
      "Epoch [5/10] Batch [15/845]=> Loss: 7.24002\n"
     ]
    },
    {
     "name": "stderr",
     "output_type": "stream",
     "text": [
      " 60%|██████    | 6/10 [01:06<00:44, 11.13s/it]"
     ]
    },
    {
     "name": "stdout",
     "output_type": "stream",
     "text": [
      "Epoch [6/10] Batch [15/845]=> Loss: 7.23985\n"
     ]
    },
    {
     "name": "stderr",
     "output_type": "stream",
     "text": [
      " 70%|███████   | 7/10 [01:17<00:33, 11.12s/it]"
     ]
    },
    {
     "name": "stdout",
     "output_type": "stream",
     "text": [
      "Epoch [7/10] Batch [15/845]=> Loss: 7.24011\n"
     ]
    },
    {
     "name": "stderr",
     "output_type": "stream",
     "text": [
      " 80%|████████  | 8/10 [01:29<00:22, 11.13s/it]"
     ]
    },
    {
     "name": "stdout",
     "output_type": "stream",
     "text": [
      "Epoch [8/10] Batch [15/845]=> Loss: 7.23997\n"
     ]
    },
    {
     "name": "stderr",
     "output_type": "stream",
     "text": [
      " 90%|█████████ | 9/10 [01:40<00:11, 11.13s/it]"
     ]
    },
    {
     "name": "stdout",
     "output_type": "stream",
     "text": [
      "Epoch [9/10] Batch [15/845]=> Loss: 7.23994\n"
     ]
    },
    {
     "name": "stderr",
     "output_type": "stream",
     "text": [
      "100%|██████████| 10/10 [01:51<00:00, 11.14s/it]"
     ]
    },
    {
     "name": "stdout",
     "output_type": "stream",
     "text": [
      "Epoch [10/10] Batch [15/845]=> Loss: 7.24007\n"
     ]
    },
    {
     "name": "stderr",
     "output_type": "stream",
     "text": [
      "\n",
      "Clipping input data to the valid range for imshow with RGB data ([0..1] for floats or [0..255] for integers).\n"
     ]
    },
    {
     "name": "stdout",
     "output_type": "stream",
     "text": [
      "after finetuning : auroc = 0.38481775465587814\n",
      "Global sparsity after finetuned: 98.77%\n"
     ]
    },
    {
     "name": "stderr",
     "output_type": "stream",
     "text": [
      "Clipping input data to the valid range for imshow with RGB data ([0..1] for floats or [0..255] for integers).\n"
     ]
    },
    {
     "data": {
      "image/png": "[encoded data removed]",
      "text/plain": [
       "<Figure size 432x288 with 1 Axes>"
      ]
     },
     "metadata": {
      "needs_background": "light"
     },
     "output_type": "display_data"
    }
   ],
   "source": [
    "result_dir = f'./back_to_basics/leaveout_{opt.one_class}'\n",
    "if not os.path.isdir(result_dir):\n",
    "    os.makedirs(result_dir)\n",
    "    print(f'creating {result_dir}')\n",
    "\n",
    "\n",
    "\n",
    "ind_recon_pruned = []\n",
    "ood_recon_pruned = []\n",
    "ind_recon_mean_pruned = []\n",
    "ood_recon_mean_pruned = []\n",
    "\n",
    "auroc_pruned=[]\n",
    "ind_recon_pruned_finetune = []\n",
    "ood_recon_pruned_finetune = []\n",
    "ind_recon_mean_pruned_finetune = []\n",
    "ood_recon_mean_pruned_finetune = []\n",
    "\n",
    "auroc_pruned_finetune=[]\n",
    "\n",
    "pruned_models = dict()\n",
    "pruned_finetuned_models=dict()\n",
    "img_grids_for_inliers_pruned=dict()\n",
    "img_grids_for_outliers_pruned=dict()\n",
    "img_grids_for_inliers_pruned_finetuned=dict()\n",
    "img_grids_for_outliers_pruned_finetuned=dict()\n",
    "\n",
    "\n",
    "\n",
    "xaxis_range = [0,0.1,0.3,0.5,0.7,0.8,0.9,0.91,0.92,0.925,0.93,0.935,0.94,0.945,0.95,0.955,0.96,0.965,0.97,0.98,0.99]\n",
    "\n",
    "\n",
    "for i, percent in enumerate(xaxis_range):\n",
    "    print(percent)\n",
    "    pruned_model = AE(opt.layer_num, opt.h_dim1, opt.h_dim2, opt.h_dim3,opt.h_dim4)\n",
    "    model_name = 'MNIST_{}_{}_{}_{}_{}_{}'.format(opt.h_dim1, opt.h_dim2, opt.h_dim3, opt.h_dim4, opt.h_dim5, opt.h_dim6)\n",
    "    model_path = model_name+'_holdout_{}_epoch_100.pth'.format(opt.one_class)\n",
    "    pruned_model.load_state_dict(torch.load(os.path.join('../model-compression/trained_model',model_path),map_location=torch.device('cpu')))\n",
    "    \n",
    "    parameters_to_prune = (\n",
    "        (pruned_model.encoder.fc1,'weight'),\n",
    "        (pruned_model.encoder.fc2,'weight'),\n",
    "        (pruned_model.encoder.fc3,'weight'),\n",
    "        (pruned_model.encoder.fc4,'weight'),\n",
    "\n",
    "        (pruned_model.decoder.fc1,'weight'),\n",
    "        (pruned_model.decoder.fc2,'weight'),\n",
    "        (pruned_model.decoder.fc3,'weight'),\n",
    "        (pruned_model.decoder.fc4,'weight'),\n",
    "    )\n",
    "    \n",
    "    prune.global_unstructured(\n",
    "    parameters_to_prune,\n",
    "    pruning_method = prune.L1Unstructured,\n",
    "    amount=percent)\n",
    "    \n",
    "    pruned_models['{:.3f}'.format(percent)]=pruned_model\n",
    "    \n",
    "    pruned_model.eval()\n",
    "    pruned_model.cuda()\n",
    "    avg_loss = 0\n",
    "    step = 0\n",
    "    \n",
    "    for i, (data,label) in enumerate(ind_loader):\n",
    "        step += 1\n",
    "        data = data.reshape(-1,784).cuda()\n",
    "        with torch.no_grad():\n",
    "            recon_error = pruned_model.recon_error(data)\n",
    "        if i==0:\n",
    "            ind_recon = recon_error\n",
    "        else:\n",
    "            ind_recon=torch.cat((ind_recon,recon_error),0)\n",
    "            \n",
    "    pruned_model.eval()\n",
    "    avg_loss = 0\n",
    "    step = 0\n",
    "    for i, (data,label) in enumerate(ood_loader):\n",
    "        step += 1\n",
    "        data = data.reshape(-1,784).cuda()\n",
    "        with torch.no_grad():\n",
    "            recon_error = pruned_model.recon_error(data)\n",
    "        if i==0:\n",
    "            ood_recon = recon_error\n",
    "        else:\n",
    "            ood_recon=torch.cat((ood_recon,recon_error),0)\n",
    "    \n",
    "    ind_size=ind_recon.cpu().numpy().shape[0]\n",
    "    ood_size=ood_recon.cpu().numpy().shape[0]\n",
    "\n",
    "    auroc = metrics.roc_auc_score(np.concatenate((np.zeros(ind_size),np.ones(ood_size))),np.concatenate((ind_recon.cpu().numpy(),ood_recon.cpu().numpy())))\n",
    "    print('before finetuning : auroc = {}'.format(auroc))\n",
    "\n",
    "#     writer.add_scalar('weight_based/'.format(sparsity), ind_recon, i + 1)\n",
    "    ind_recon_pruned.append(ind_recon)\n",
    "    ood_recon_pruned.append(ood_recon)\n",
    "    ind_recon_mean_pruned.append(torch.mean(ind_recon))\n",
    "    ood_recon_mean_pruned.append(torch.mean(ood_recon))\n",
    "\n",
    "    auroc_pruned.append(auroc)\n",
    "    \n",
    "    '''check inlier reconstruction'''\n",
    "    test_data = torch.stack([ind_loader.dataset[i][0] for i in range(10)])\n",
    "    recon = pruned_model(test_data.reshape(-1,784).cuda()).detach().cpu()\n",
    "    recon = torch.clamp(recon.view(len(recon), 1, 28, 28), 0, 1)\n",
    "    x_and_recon = torch.cat([test_data, recon])\n",
    "    img_grid = make_grid(x_and_recon.detach().cpu(), nrow=10, range=(0, 1))\n",
    "    # writer.add_image('supermask_{}/inlier_recon'.format(sparsity), img_grid, i+1)\n",
    "    img_grids_for_inliers_pruned[percent]=img_grid.cpu().numpy().transpose(1,2,0)\n",
    "    plt.imshow(img_grids_for_inliers_pruned[percent])\n",
    "    plt.savefig(os.path.join(result_dir,'sparsity_{}_inlier_before_finetune.png'.format(percent)))\n",
    "    \n",
    "    test_data = torch.stack([ood_loader.dataset[i][0] for i in range(10)])\n",
    "    recon = pruned_model(test_data.reshape(-1,784).cuda()).detach().cpu()\n",
    "    recon = torch.clamp(recon.view(len(recon), 1, 28, 28), 0, 1)\n",
    "    x_and_recon = torch.cat([test_data, recon])\n",
    "    img_grid = make_grid(x_and_recon.detach().cpu(), nrow=10, range=(0, 1))\n",
    "    # writer.add_image('supermask_{}/inlier_recon'.format(sparsity), img_grid, i+1)\n",
    "    img_grids_for_outliers_pruned[percent]=img_grid.cpu().numpy().transpose(1,2,0)\n",
    "    plt.imshow(img_grids_for_outliers_pruned[percent])\n",
    "    plt.savefig(os.path.join(result_dir,'sparsity_{}_outlier_before_finetune.png'.format(percent)))\n",
    "\n",
    "    \n",
    "    print(\n",
    "        \"Global sparsity before finetuned: {:.2f}%\".format(\n",
    "            100. * float(\n",
    "                torch.sum(pruned_model.encoder.fc1.weight == 0)\n",
    "                + torch.sum(pruned_model.encoder.fc2.weight == 0)\n",
    "                + torch.sum(pruned_model.encoder.fc3.weight == 0)\n",
    "                + torch.sum(pruned_model.encoder.fc4.weight == 0)\n",
    "\n",
    "                + torch.sum(pruned_model.decoder.fc1.weight == 0)\n",
    "                + torch.sum(pruned_model.decoder.fc2.weight == 0)\n",
    "                + torch.sum(pruned_model.decoder.fc3.weight == 0)\n",
    "                + torch.sum(pruned_model.decoder.fc4.weight == 0)\n",
    "\n",
    "            )\n",
    "            / count_parameters(pruned_model)\n",
    "            )\n",
    "        )\n",
    "    optimizer = torch.optim.Adam(pruned_model.parameters(), opt.lr)\n",
    "    schedular = torch.optim.lr_scheduler.CosineAnnealingLR(optimizer, T_max=opt.finetune_epoch, eta_min=0, last_epoch=-1)\n",
    "\n",
    "    time.sleep(5)\n",
    "    pruned_model.train()\n",
    "    for epoch in trange(1, opt.finetune_epoch+ 1):\n",
    "        avg_loss = 0\n",
    "        step = 0\n",
    "        for (data,label) in train_loader:\n",
    "            step += 1\n",
    "            data = data.reshape(-1,784).cuda()\n",
    "            optimizer.zero_grad()\n",
    "            recon_error = pruned_model.recon_error(data)\n",
    "            loss = torch.mean(recon_error)\n",
    "            loss.backward()\n",
    "            optimizer.step()\n",
    "            avg_loss += loss\n",
    "#             if i % 100 == 0:    \n",
    "        print('Epoch [{}/{}] Batch [{}/{}]=> Loss: {:.5f}'.format(epoch, opt.finetune_epoch, i,len(train_loader), avg_loss / step))\n",
    "\n",
    "    model_state = pruned_model.state_dict()\n",
    "    #print(model_state)\n",
    "    ckpt_name = '{}_holdout_{}_pruned_finetune'.format(model_name,opt.one_class,epoch)\n",
    "    ckpt_path = os.path.join('../model-compression/trained_model',ckpt_name + \".pth\")\n",
    "    \n",
    "    pruned_model.eval()\n",
    "    pruned_model.cuda()\n",
    "    avg_loss = 0\n",
    "    step = 0\n",
    "    \n",
    "    for i, (data,label) in enumerate(ind_loader):\n",
    "        step += 1\n",
    "        data = data.reshape(-1,784).cuda()\n",
    "        with torch.no_grad():\n",
    "            recon_error = pruned_model.recon_error(data)\n",
    "        if i==0:\n",
    "            ind_recon = recon_error\n",
    "        else:\n",
    "            ind_recon=torch.cat((ind_recon,recon_error),0)\n",
    "            \n",
    "    pruned_model.eval()\n",
    "    avg_loss = 0\n",
    "    step = 0\n",
    "    for i, (data,label) in enumerate(ood_loader):\n",
    "        step += 1\n",
    "        data = data.reshape(-1,784).cuda()\n",
    "        with torch.no_grad():\n",
    "            recon_error = pruned_model.recon_error(data)\n",
    "        if i==0:\n",
    "            ood_recon = recon_error\n",
    "        else:\n",
    "            ood_recon=torch.cat((ood_recon,recon_error),0)\n",
    "    \n",
    "    pruned_finetuned_models['{:.3f}'.format(percent)]=pruned_model\n",
    "    ind_size=ind_recon.cpu().numpy().shape[0]\n",
    "    ood_size=ood_recon.cpu().numpy().shape[0]\n",
    "\n",
    "    auroc = metrics.roc_auc_score(np.concatenate((np.zeros(ind_size),np.ones(ood_size))),np.concatenate((ind_recon.cpu().numpy(),ood_recon.cpu().numpy())))\n",
    "    print('after finetuning : auroc = {}'.format(auroc))\n",
    "    ind_recon_pruned_finetune.append(ind_recon)\n",
    "    ood_recon_pruned_finetune.append(ood_recon)\n",
    "    ind_recon_mean_pruned_finetune.append(torch.mean(ind_recon))\n",
    "    ood_recon_mean_pruned_finetune.append(torch.mean(ood_recon))\n",
    "\n",
    "    auroc_pruned_finetune.append(auroc)\n",
    "    \n",
    "    print(\n",
    "        \"Global sparsity after finetuned: {:.2f}%\".format(\n",
    "            100. * float(\n",
    "                torch.sum(pruned_model.encoder.fc1.weight == 0)\n",
    "                + torch.sum(pruned_model.encoder.fc2.weight == 0)\n",
    "                + torch.sum(pruned_model.encoder.fc3.weight == 0)\n",
    "                + torch.sum(pruned_model.encoder.fc4.weight == 0)\n",
    "\n",
    "                + torch.sum(pruned_model.decoder.fc1.weight == 0)\n",
    "                + torch.sum(pruned_model.decoder.fc2.weight == 0)\n",
    "                + torch.sum(pruned_model.decoder.fc3.weight == 0)\n",
    "                + torch.sum(pruned_model.decoder.fc4.weight == 0)\n",
    "\n",
    "            )\n",
    "            / count_parameters(pruned_model)\n",
    "            )\n",
    "        )\n",
    "    \n",
    "    '''check inlier reconstruction'''\n",
    "    test_data = torch.stack([ind_loader.dataset[i][0] for i in range(10)])\n",
    "    recon = pruned_model(test_data.reshape(-1,784).cuda()).detach().cpu()\n",
    "    recon = torch.clamp(recon.view(len(recon), 1, 28, 28), 0, 1)\n",
    "    x_and_recon = torch.cat([test_data, recon])\n",
    "    img_grid = make_grid(x_and_recon.detach().cpu(), nrow=10, range=(0, 1))\n",
    "    # writer.add_image('supermask_{}/inlier_recon'.format(sparsity), img_grid, i+1)\n",
    "    img_grids_for_inliers_pruned_finetuned[percent]=img_grid.cpu().numpy().transpose(1,2,0)\n",
    "    plt.imshow(img_grids_for_inliers_pruned_finetuned[percent])\n",
    "    plt.savefig(os.path.join(result_dir,'sparsity_{}_inlier_after_finetune.png'.format(percent)))\n",
    "\n",
    "    test_data = torch.stack([ood_loader.dataset[i][0] for i in range(10)])\n",
    "    recon = pruned_model(test_data.reshape(-1,784).cuda()).detach().cpu()\n",
    "    recon = torch.clamp(recon.view(len(recon), 1, 28, 28), 0, 1)\n",
    "    x_and_recon = torch.cat([test_data, recon])\n",
    "    img_grid = make_grid(x_and_recon.detach().cpu(), nrow=10, range=(0, 1))\n",
    "    # writer.add_image('supermask_{}/inlier_recon'.format(sparsity), img_grid, i+1)\n",
    "    img_grids_for_outliers_pruned_finetuned[percent]=img_grid.cpu().numpy().transpose(1,2,0)\n",
    "    plt.imshow(img_grids_for_outliers_pruned_finetuned[percent])\n",
    "    plt.savefig(os.path.join(result_dir,'sparsity_{}_outlier_after_finetune.png'.format(percent)))\n",
    "\n"
   ]
  },
  {
   "cell_type": "code",
   "execution_count": 25,
   "id": "handed-toner",
   "metadata": {},
   "outputs": [],
   "source": [
    "ind_recon_mean_pruned=torch.stack(ind_recon_mean_pruned)\n",
    "ood_recon_mean_pruned=torch.stack(ood_recon_mean_pruned)\n",
    "ind_recon_mean_pruned_finetune=torch.stack(ind_recon_mean_pruned_finetune)\n",
    "ood_recon_mean_pruned_finetune=torch.stack(ood_recon_mean_pruned_finetune)"
   ]
  },
  {
   "cell_type": "code",
   "execution_count": 26,
   "id": "passive-limit",
   "metadata": {},
   "outputs": [
    {
     "data": {
      "image/png": "[encoded data removed]",
      "text/plain": [
       "<Figure size 432x288 with 1 Axes>"
      ]
     },
     "metadata": {
      "needs_background": "light"
     },
     "output_type": "display_data"
    }
   ],
   "source": [
    "plt.plot(xaxis_range,ind_recon_mean_pruned.cpu().numpy())\n",
    "plt.plot(xaxis_range,ood_recon_mean_pruned.cpu().numpy())\n",
    "plt.plot(xaxis_range,ind_recon_mean_pruned_finetune.cpu().numpy())\n",
    "plt.plot(xaxis_range,ood_recon_mean_pruned_finetune.cpu().numpy())\n",
    "\n",
    "plt.xlabel('Pruned Ratio')\n",
    "plt.ylabel('Reconstruction Error')\n",
    "plt.legend(['IND','OOD','IND-after-finetune','OOD-after-finetune'])\n",
    "plt.savefig('{}/pruned_ratio_RE.png'.format(result_dir))"
   ]
  },
  {
   "cell_type": "code",
   "execution_count": 27,
   "id": "allied-benchmark",
   "metadata": {},
   "outputs": [
    {
     "data": {
      "image/png": "[encoded data removed]",
      "text/plain": [
       "<Figure size 432x288 with 1 Axes>"
      ]
     },
     "metadata": {
      "needs_background": "light"
     },
     "output_type": "display_data"
    }
   ],
   "source": [
    "plt.plot(xaxis_range,auroc_pruned)\n",
    "plt.plot(xaxis_range,auroc_pruned_finetune)\n",
    "plt.xlabel('Pruned Ratio')\n",
    "plt.ylabel('AUROC')\n",
    "plt.legend(['pruned','pruned+finetuned'])\n",
    "plt.title('max AUROC {:.3f} at pruning ratio {:.3f}'.format(np.max(auroc_pruned_finetune), xaxis_range[int(np.argmax(auroc_pruned_finetune))]))\n",
    "plt.savefig('{}/pruned_ratio_AUROC.png'.format(result_dir))"
   ]
  },
  {
   "cell_type": "code",
   "execution_count": null,
   "id": "square-demographic",
   "metadata": {},
   "outputs": [],
   "source": []
  },
  {
   "cell_type": "code",
   "execution_count": 28,
   "id": "japanese-fossil",
   "metadata": {},
   "outputs": [],
   "source": [
    "def intermediate_scores(pr,layer):\n",
    "\n",
    "    for i, (data,label) in enumerate(ind_loader):\n",
    "        data = data.reshape(-1,784).cuda()\n",
    "        pr_ft_int, _ = pruned_finetuned_models['{:.3f}'.format(pr)].intermediate(data,layer)\n",
    "        org_int, _ = model.intermediate(data,layer)\n",
    "        diff = torch.norm(pr_ft_int-org_int,dim=1)\n",
    "        \n",
    "        if i==0:\n",
    "            ind_recon = diff\n",
    "        else:\n",
    "            ind_recon=torch.cat((ind_recon,diff),0)\n",
    "\n",
    "    for i, (data,label) in enumerate(ood_loader):\n",
    "        data = data.reshape(-1,784).cuda()\n",
    "        pr_ft_int, _ = pruned_finetuned_models['{:.3f}'.format(pr)].intermediate(data,layer)\n",
    "        org_int, _ = model.intermediate(data,layer)\n",
    "        diff = torch.norm(pr_ft_int-org_int,dim=1)\n",
    "        if i==0:\n",
    "            ood_recon = diff\n",
    "        else:\n",
    "            ood_recon=torch.cat((ood_recon,diff),0)\n",
    "    \n",
    "    return ind_recon.detach().cpu().numpy(), ood_recon.detach().cpu().numpy()\n"
   ]
  },
  {
   "cell_type": "code",
   "execution_count": 29,
   "id": "consecutive-sauce",
   "metadata": {},
   "outputs": [
    {
     "data": {
      "text/plain": [
       "Text(0.5, 1.0, '96.00% pruned+finetuned, AUROC=0.459')"
      ]
     },
     "execution_count": 29,
     "metadata": {},
     "output_type": "execute_result"
    },
    {
     "data": {
      "image/png": "[encoded data removed]",
      "text/plain": [
       "<Figure size 432x288 with 1 Axes>"
      ]
     },
     "metadata": {
      "needs_background": "light"
     },
     "output_type": "display_data"
    }
   ],
   "source": [
    "percent = 0.96\n",
    "layer =0\n",
    "\n",
    "ind,ood = intermediate_scores(percent,layer)\n",
    "sns.histplot(ind,color='blue',stat='density')\n",
    "sns.histplot(ood,color='red',stat='density')\n",
    "ind_size = ind.shape[0]\n",
    "ood_size = ood.shape[0]\n",
    "auroc = metrics.roc_auc_score(np.concatenate((np.zeros(ind_size),np.ones(ood_size))),np.concatenate((ind,ood)))\n",
    "plt.legend(['IND','OOD'])\n",
    "plt.xlabel('Reconstruction Error')\n",
    "plt.title('{:.2f}% pruned+finetuned, AUROC={:.3f}'.format(100*percent,auroc))\n",
    "# plt.savefig('{}/pruned_finetuned_best_histogram.png'.format(result_dir))"
   ]
  },
  {
   "cell_type": "code",
   "execution_count": 30,
   "id": "optional-richardson",
   "metadata": {},
   "outputs": [
    {
     "data": {
      "image/png": "[encoded data removed]",
      "text/plain": [
       "<Figure size 432x288 with 1 Axes>"
      ]
     },
     "metadata": {
      "needs_background": "light"
     },
     "output_type": "display_data"
    }
   ],
   "source": [
    "number = int(np.argmax(auroc_pruned_finetune))\n",
    "sns.histplot(ind_recon_pruned_finetune[number].detach().cpu().numpy(),color='blue',stat='density')\n",
    "sns.histplot(ood_recon_pruned_finetune[number].detach().cpu().numpy(),color='red',stat='density')\n",
    "plt.legend(['IND','OOD'])\n",
    "plt.xlabel('Reconstruction Error')\n",
    "plt.title('{:.2f}% pruned+finetuned, AUROC={:.3f}'.format(100*xaxis_range[number],auroc_pruned_finetune[number]))\n",
    "plt.savefig('{}/pruned_finetuned_best_histogram.png'.format(result_dir))"
   ]
  },
  {
   "cell_type": "code",
   "execution_count": 31,
   "id": "solar-actor",
   "metadata": {},
   "outputs": [
    {
     "data": {
      "image/png": "[encoded data removed]",
      "text/plain": [
       "<Figure size 432x288 with 1 Axes>"
      ]
     },
     "metadata": {
      "needs_background": "light"
     },
     "output_type": "display_data"
    }
   ],
   "source": [
    "number = int(np.argmax(auroc_pruned_finetune))\n",
    "sns.histplot(ind_recon_pruned[number].detach().cpu().numpy(),color='blue',stat='density')\n",
    "sns.histplot(ood_recon_pruned[number].detach().cpu().numpy(),color='red',stat='density')\n",
    "plt.legend(['IND','OOD'])\n",
    "plt.xlabel('Reconstruction Error')\n",
    "plt.title('{:.2f}% pruned, AUROC={:.3f}'.format(100*xaxis_range[number],auroc_pruned[number]))\n",
    "plt.savefig('{}/pruned_best_histogram.png'.format(result_dir))"
   ]
  },
  {
   "cell_type": "code",
   "execution_count": 32,
   "id": "normal-mississippi",
   "metadata": {},
   "outputs": [
    {
     "data": {
      "image/png": "[encoded data removed]",
      "text/plain": [
       "<Figure size 432x288 with 1 Axes>"
      ]
     },
     "metadata": {
      "needs_background": "light"
     },
     "output_type": "display_data"
    }
   ],
   "source": [
    "number = 0\n",
    "sns.histplot(ind_recon_pruned[number].detach().cpu().numpy(),color='blue',stat='density')\n",
    "sns.histplot(ood_recon_pruned[number].detach().cpu().numpy(),color='red',stat='density')\n",
    "plt.legend(['IND','OOD'])\n",
    "plt.xlabel('Reconstruction Error')\n",
    "plt.title('original network, AUROC={:.3f}'.format(auroc_pruned[number]))\n",
    "plt.savefig('{}/original_histogram.png'.format(result_dir))"
   ]
  },
  {
   "cell_type": "code",
   "execution_count": 33,
   "id": "consolidated-summer",
   "metadata": {},
   "outputs": [
    {
     "name": "stderr",
     "output_type": "stream",
     "text": [
      "Clipping input data to the valid range for imshow with RGB data ([0..1] for floats or [0..255] for integers).\n"
     ]
    },
    {
     "data": {
      "text/plain": [
       "<matplotlib.image.AxesImage at 0x7f90b728d3d0>"
      ]
     },
     "execution_count": 33,
     "metadata": {},
     "output_type": "execute_result"
    },
    {
     "data": {
      "image/png": "[encoded data removed]",
      "text/plain": [
       "<Figure size 432x288 with 1 Axes>"
      ]
     },
     "metadata": {
      "needs_background": "light"
     },
     "output_type": "display_data"
    }
   ],
   "source": [
    "index_percent =0.965\n",
    "plt.imshow(img_grids_for_outliers_pruned_finetuned[index_percent])"
   ]
  },
  {
   "cell_type": "code",
   "execution_count": 34,
   "id": "friendly-architecture",
   "metadata": {},
   "outputs": [
    {
     "name": "stderr",
     "output_type": "stream",
     "text": [
      "Clipping input data to the valid range for imshow with RGB data ([0..1] for floats or [0..255] for integers).\n"
     ]
    },
    {
     "data": {
      "text/plain": [
       "<matplotlib.image.AxesImage at 0x7f90b757b1d0>"
      ]
     },
     "execution_count": 34,
     "metadata": {},
     "output_type": "execute_result"
    },
    {
     "data": {
      "image/png": "[encoded data removed]",
      "text/plain": [
       "<Figure size 432x288 with 1 Axes>"
      ]
     },
     "metadata": {
      "needs_background": "light"
     },
     "output_type": "display_data"
    }
   ],
   "source": [
    "plt.imshow(img_grids_for_inliers_pruned_finetuned[index_percent])"
   ]
  },
  {
   "cell_type": "code",
   "execution_count": null,
   "id": "round-sodium",
   "metadata": {},
   "outputs": [],
   "source": []
  }
 ],
 "metadata": {
  "kernelspec": {
   "display_name": "Python 3",
   "language": "python",
   "name": "python3"
  },
  "language_info": {
   "codemirror_mode": {
    "name": "ipython",
    "version": 3
   },
   "file_extension": ".py",
   "mimetype": "text/x-python",
   "name": "python",
   "nbconvert_exporter": "python",
   "pygments_lexer": "ipython3",
   "version": "3.7.10"
  }
 },
 "nbformat": 4,
 "nbformat_minor": 5
}
